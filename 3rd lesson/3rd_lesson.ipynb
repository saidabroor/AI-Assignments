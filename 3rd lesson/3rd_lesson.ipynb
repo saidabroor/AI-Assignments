{
 "cells": [
  {
   "cell_type": "code",
   "execution_count": 1,
   "metadata": {},
   "outputs": [],
   "source": [
    "import pandas as pd"
   ]
  },
  {
   "cell_type": "code",
   "execution_count": 4,
   "metadata": {},
   "outputs": [],
   "source": [
    "df = pd.read_csv(r'C:\\Users\\Saidabrorkhon\\ML_Lectures\\telefon turini aniqlash2.csv')"
   ]
  },
  {
   "cell_type": "code",
   "execution_count": 5,
   "metadata": {},
   "outputs": [
    {
     "data": {
      "text/plain": [
       "Rangi\n",
       "Qora         1989\n",
       "Yashil          7\n",
       "Oq              2\n",
       "Qizil           1\n",
       "Jigarrang       1\n",
       "Sariq           1\n",
       "Name: count, dtype: int64"
      ]
     },
     "execution_count": 5,
     "metadata": {},
     "output_type": "execute_result"
    }
   ],
   "source": [
    "df['Rangi'].value_counts()"
   ]
  },
  {
   "cell_type": "code",
   "execution_count": 6,
   "metadata": {},
   "outputs": [
    {
     "data": {
      "text/plain": [
       "4"
      ]
     },
     "execution_count": 6,
     "metadata": {},
     "output_type": "execute_result"
    }
   ],
   "source": [
    "df['Rangi'].value_counts().nunique()"
   ]
  },
  {
   "cell_type": "markdown",
   "metadata": {},
   "source": [
    "# Math Operations"
   ]
  },
  {
   "cell_type": "code",
   "execution_count": 5,
   "metadata": {},
   "outputs": [
    {
     "name": "stdout",
     "output_type": "stream",
     "text": [
      "10\n",
      "4\n"
     ]
    }
   ],
   "source": [
    "a = 7\n",
    "b = 3\n",
    "print(a + b)\n",
    "print(a - b)"
   ]
  },
  {
   "cell_type": "markdown",
   "metadata": {},
   "source": [
    "# Vazifa"
   ]
  },
  {
   "cell_type": "code",
   "execution_count": 9,
   "metadata": {},
   "outputs": [
    {
     "name": "stdout",
     "output_type": "stream",
     "text": [
      "ikki sonning yi'gindisi: 10\n",
      "ikki sonning ayrimasi: 4\n",
      "ikki sonning ko'paytimasi: 21\n",
      "ikki sonning bo\"linmasi: 2.3333333333333335\n",
      "ikki sonning butun qismi: 2\n",
      "ikki sonning bo\"linishdagi qoldig\"i: 1\n",
      "ikki sonning darajasi 343\n"
     ]
    }
   ],
   "source": [
    "print(\"ikki sonning yi'gindisi:\", a + b)\n",
    "print('ikki sonning ayrimasi:', a - b)\n",
    "print(\"ikki sonning ko'paytimasi:\", a * b)\n",
    "print('ikki sonning bo\"linmasi:', a / b)\n",
    "print('ikki sonning butun qismi:', a//b)\n",
    "print('ikki sonning bo\"linishdagi qoldig\"i:', a % b)\n",
    "print('ikki sonning darajasi', a**b)\n",
    "\n"
   ]
  },
  {
   "cell_type": "code",
   "execution_count": 10,
   "metadata": {},
   "outputs": [],
   "source": [
    "a = 7\n",
    "b = 3"
   ]
  },
  {
   "cell_type": "code",
   "execution_count": 18,
   "metadata": {},
   "outputs": [
    {
     "name": "stdout",
     "output_type": "stream",
     "text": [
      "False\n",
      "True\n",
      "0\n",
      "2\n",
      "3\n"
     ]
    }
   ],
   "source": [
    "print(a + b == b - a)\n",
    "print(a != b)\n",
    "print(b // a)\n",
    "print(a // b)\n",
    "print(b % a)\n"
   ]
  },
  {
   "cell_type": "code",
   "execution_count": 19,
   "metadata": {},
   "outputs": [],
   "source": [
    "s = 'pyhton'"
   ]
  },
  {
   "cell_type": "code",
   "execution_count": 21,
   "metadata": {},
   "outputs": [
    {
     "data": {
      "text/plain": [
       "'p'"
      ]
     },
     "execution_count": 21,
     "metadata": {},
     "output_type": "execute_result"
    }
   ],
   "source": [
    "s[0]"
   ]
  },
  {
   "cell_type": "code",
   "execution_count": 25,
   "metadata": {},
   "outputs": [
    {
     "data": {
      "text/plain": [
       "'n'"
      ]
     },
     "execution_count": 25,
     "metadata": {},
     "output_type": "execute_result"
    }
   ],
   "source": [
    "s[-1]"
   ]
  },
  {
   "cell_type": "markdown",
   "metadata": {},
   "source": [
    "# Classification examples"
   ]
  },
  {
   "cell_type": "markdown",
   "metadata": {},
   "source": [
    "1. Animal Prediction Classification"
   ]
  },
  {
   "cell_type": "code",
   "execution_count": 53,
   "metadata": {},
   "outputs": [
    {
     "data": {
      "text/html": [
       "<div>\n",
       "<style scoped>\n",
       "    .dataframe tbody tr th:only-of-type {\n",
       "        vertical-align: middle;\n",
       "    }\n",
       "\n",
       "    .dataframe tbody tr th {\n",
       "        vertical-align: top;\n",
       "    }\n",
       "\n",
       "    .dataframe thead th {\n",
       "        text-align: right;\n",
       "    }\n",
       "</style>\n",
       "<table border=\"1\" class=\"dataframe\">\n",
       "  <thead>\n",
       "    <tr style=\"text-align: right;\">\n",
       "      <th></th>\n",
       "      <th>Name</th>\n",
       "      <th>Color</th>\n",
       "      <th>Size</th>\n",
       "      <th>Weight in kg</th>\n",
       "      <th>Leg count</th>\n",
       "      <th>Tail</th>\n",
       "    </tr>\n",
       "  </thead>\n",
       "  <tbody>\n",
       "    <tr>\n",
       "      <th>0</th>\n",
       "      <td>Horse</td>\n",
       "      <td>Black</td>\n",
       "      <td>Large</td>\n",
       "      <td>150.0</td>\n",
       "      <td>4</td>\n",
       "      <td>Yes</td>\n",
       "    </tr>\n",
       "    <tr>\n",
       "      <th>1</th>\n",
       "      <td>Cow</td>\n",
       "      <td>White</td>\n",
       "      <td>Medium</td>\n",
       "      <td>130.0</td>\n",
       "      <td>4</td>\n",
       "      <td>Yes</td>\n",
       "    </tr>\n",
       "    <tr>\n",
       "      <th>2</th>\n",
       "      <td>Dog</td>\n",
       "      <td>Orange</td>\n",
       "      <td>Small</td>\n",
       "      <td>14.0</td>\n",
       "      <td>4</td>\n",
       "      <td>No</td>\n",
       "    </tr>\n",
       "    <tr>\n",
       "      <th>3</th>\n",
       "      <td>Cat</td>\n",
       "      <td>Black and white</td>\n",
       "      <td>Small</td>\n",
       "      <td>4.0</td>\n",
       "      <td>4</td>\n",
       "      <td>Yes</td>\n",
       "    </tr>\n",
       "    <tr>\n",
       "      <th>4</th>\n",
       "      <td>Bird</td>\n",
       "      <td>Yellow</td>\n",
       "      <td>Large</td>\n",
       "      <td>0.5</td>\n",
       "      <td>2</td>\n",
       "      <td>Yes</td>\n",
       "    </tr>\n",
       "  </tbody>\n",
       "</table>\n",
       "</div>"
      ],
      "text/plain": [
       "    Name            Color    Size  Weight in kg  Leg count Tail\n",
       "0  Horse            Black   Large         150.0          4  Yes\n",
       "1    Cow            White  Medium         130.0          4  Yes\n",
       "2    Dog           Orange   Small          14.0          4   No\n",
       "3    Cat  Black and white   Small           4.0          4  Yes\n",
       "4   Bird           Yellow   Large           0.5          2  Yes"
      ]
     },
     "execution_count": 53,
     "metadata": {},
     "output_type": "execute_result"
    }
   ],
   "source": [
    "\n",
    "dataAnimal = {'Name':['Horse', 'Cow', 'Dog', 'Cat','Bird'],\n",
    "              'Color':['Black', 'White', 'Orange','Black and white','Yellow'],\n",
    "              'Size':['Large', 'Medium', 'Small','Small', 'Large'],\n",
    "              'Weight in kg':[150, 130, 14,4, 0.5],\n",
    "              'Leg count':[4,4,4,4,2],\n",
    "              'Tail':['Yes', 'Yes', 'No', 'Yes', 'Yes']}\n",
    "dfAnimal = pd.DataFrame(dataAnimal)\n",
    "dfAnimal"
   ]
  },
  {
   "cell_type": "markdown",
   "metadata": {},
   "source": [
    "2. Affordable or Expensive (Car Classification)"
   ]
  },
  {
   "cell_type": "code",
   "execution_count": 52,
   "metadata": {},
   "outputs": [
    {
     "data": {
      "text/html": [
       "<div>\n",
       "<style scoped>\n",
       "    .dataframe tbody tr th:only-of-type {\n",
       "        vertical-align: middle;\n",
       "    }\n",
       "\n",
       "    .dataframe tbody tr th {\n",
       "        vertical-align: top;\n",
       "    }\n",
       "\n",
       "    .dataframe thead th {\n",
       "        text-align: right;\n",
       "    }\n",
       "</style>\n",
       "<table border=\"1\" class=\"dataframe\">\n",
       "  <thead>\n",
       "    <tr style=\"text-align: right;\">\n",
       "      <th></th>\n",
       "      <th>Name</th>\n",
       "      <th>Fuel</th>\n",
       "      <th>Color</th>\n",
       "      <th>Doors</th>\n",
       "      <th>Engine_Size</th>\n",
       "      <th>Price_Range</th>\n",
       "    </tr>\n",
       "  </thead>\n",
       "  <tbody>\n",
       "    <tr>\n",
       "      <th>0</th>\n",
       "      <td>Sedan</td>\n",
       "      <td>Propane</td>\n",
       "      <td>Red</td>\n",
       "      <td>4</td>\n",
       "      <td>2.0L</td>\n",
       "      <td>Affordable</td>\n",
       "    </tr>\n",
       "    <tr>\n",
       "      <th>1</th>\n",
       "      <td>SUV</td>\n",
       "      <td>Electric</td>\n",
       "      <td>Black</td>\n",
       "      <td>4</td>\n",
       "      <td>3.5L</td>\n",
       "      <td>Expensive</td>\n",
       "    </tr>\n",
       "    <tr>\n",
       "      <th>2</th>\n",
       "      <td>Coupe</td>\n",
       "      <td>Diesel</td>\n",
       "      <td>Blue</td>\n",
       "      <td>2</td>\n",
       "      <td>2.5L</td>\n",
       "      <td>Affordable</td>\n",
       "    </tr>\n",
       "    <tr>\n",
       "      <th>3</th>\n",
       "      <td>Truck</td>\n",
       "      <td>Petrol</td>\n",
       "      <td>Green</td>\n",
       "      <td>4</td>\n",
       "      <td>5.0L</td>\n",
       "      <td>Expensive</td>\n",
       "    </tr>\n",
       "    <tr>\n",
       "      <th>4</th>\n",
       "      <td>Sport car</td>\n",
       "      <td>Gasoline</td>\n",
       "      <td>Yellow</td>\n",
       "      <td>2</td>\n",
       "      <td>1.8L</td>\n",
       "      <td>Affordable</td>\n",
       "    </tr>\n",
       "  </tbody>\n",
       "</table>\n",
       "</div>"
      ],
      "text/plain": [
       "        Name      Fuel   Color  Doors Engine_Size Price_Range\n",
       "0      Sedan   Propane     Red      4        2.0L  Affordable\n",
       "1        SUV  Electric   Black      4        3.5L   Expensive\n",
       "2      Coupe    Diesel    Blue      2        2.5L  Affordable\n",
       "3      Truck    Petrol   Green      4        5.0L   Expensive\n",
       "4  Sport car  Gasoline  Yellow      2        1.8L  Affordable"
      ]
     },
     "execution_count": 52,
     "metadata": {},
     "output_type": "execute_result"
    }
   ],
   "source": [
    "dataCar = {'Name':['Sedan', 'SUV','Coupe', 'Truck','Sport car'],\n",
    "           'Fuel':['Propane','Electric','Diesel','Petrol','Gasoline'],'Color':['Red', 'Black', 'Blue', 'Green', 'Yellow'],\n",
    "           'Doors':[4, 4, 2, 4, 2],\n",
    "           'Engine_Size':['2.0L', '3.5L', '2.5L', '5.0L', '1.8L'],\n",
    "           'Price_Range':['Affordable', 'Expensive', 'Affordable', 'Expensive', 'Affordable']}\n",
    "dfCar = pd.DataFrame(dataCar)\n",
    "dfCar"
   ]
  },
  {
   "cell_type": "markdown",
   "metadata": {},
   "source": [
    "3. Fruit prediction Classification"
   ]
  },
  {
   "cell_type": "code",
   "execution_count": 51,
   "metadata": {},
   "outputs": [
    {
     "data": {
      "text/html": [
       "<div>\n",
       "<style scoped>\n",
       "    .dataframe tbody tr th:only-of-type {\n",
       "        vertical-align: middle;\n",
       "    }\n",
       "\n",
       "    .dataframe tbody tr th {\n",
       "        vertical-align: top;\n",
       "    }\n",
       "\n",
       "    .dataframe thead th {\n",
       "        text-align: right;\n",
       "    }\n",
       "</style>\n",
       "<table border=\"1\" class=\"dataframe\">\n",
       "  <thead>\n",
       "    <tr style=\"text-align: right;\">\n",
       "      <th></th>\n",
       "      <th>Fruit</th>\n",
       "      <th>Color</th>\n",
       "      <th>Shape</th>\n",
       "      <th>Taste</th>\n",
       "      <th>Size</th>\n",
       "      <th>Season</th>\n",
       "    </tr>\n",
       "  </thead>\n",
       "  <tbody>\n",
       "    <tr>\n",
       "      <th>0</th>\n",
       "      <td>Apple</td>\n",
       "      <td>Red</td>\n",
       "      <td>Round</td>\n",
       "      <td>Sweet</td>\n",
       "      <td>Medium</td>\n",
       "      <td>Fall</td>\n",
       "    </tr>\n",
       "    <tr>\n",
       "      <th>1</th>\n",
       "      <td>Banana</td>\n",
       "      <td>Yellow</td>\n",
       "      <td>Long</td>\n",
       "      <td>Sweet</td>\n",
       "      <td>Large</td>\n",
       "      <td>Summer</td>\n",
       "    </tr>\n",
       "    <tr>\n",
       "      <th>2</th>\n",
       "      <td>Cherry</td>\n",
       "      <td>Red</td>\n",
       "      <td>Round</td>\n",
       "      <td>Tart</td>\n",
       "      <td>Small</td>\n",
       "      <td>Spring</td>\n",
       "    </tr>\n",
       "    <tr>\n",
       "      <th>3</th>\n",
       "      <td>Orange</td>\n",
       "      <td>Orange</td>\n",
       "      <td>Round</td>\n",
       "      <td>Sweet</td>\n",
       "      <td>Medium</td>\n",
       "      <td>Winter</td>\n",
       "    </tr>\n",
       "    <tr>\n",
       "      <th>4</th>\n",
       "      <td>Grapes</td>\n",
       "      <td>Purple</td>\n",
       "      <td>Round</td>\n",
       "      <td>Sweet</td>\n",
       "      <td>Small</td>\n",
       "      <td>Fall</td>\n",
       "    </tr>\n",
       "  </tbody>\n",
       "</table>\n",
       "</div>"
      ],
      "text/plain": [
       "    Fruit   Color  Shape  Taste    Size  Season\n",
       "0   Apple     Red  Round  Sweet  Medium    Fall\n",
       "1  Banana  Yellow   Long  Sweet   Large  Summer\n",
       "2  Cherry     Red  Round   Tart   Small  Spring\n",
       "3  Orange  Orange  Round  Sweet  Medium  Winter\n",
       "4  Grapes  Purple  Round  Sweet   Small    Fall"
      ]
     },
     "execution_count": 51,
     "metadata": {},
     "output_type": "execute_result"
    }
   ],
   "source": [
    "dataFruit = {'Fruit':['Apple', 'Banana', 'Cherry', 'Orange', 'Grapes'],\n",
    "             'Color':['Red', 'Yellow', 'Red', 'Orange', 'Purple'],\n",
    "             'Shape':['Round', 'Long', 'Round', 'Round', 'Round'],\n",
    "             'Taste':['Sweet', 'Sweet', 'Tart', 'Sweet', 'Sweet'],\n",
    "             'Size':['Medium', 'Large', 'Small', 'Medium', 'Small'],\n",
    "             'Season':['Fall', 'Summer', 'Spring', 'Winter', 'Fall']}\n",
    "dfFruit = pd.DataFrame(dataFruit)\n",
    "dfFruit"
   ]
  },
  {
   "cell_type": "markdown",
   "metadata": {},
   "source": [
    "4. Animal Type (Fast or Slow Classification)"
   ]
  },
  {
   "cell_type": "code",
   "execution_count": 54,
   "metadata": {},
   "outputs": [
    {
     "data": {
      "text/html": [
       "<div>\n",
       "<style scoped>\n",
       "    .dataframe tbody tr th:only-of-type {\n",
       "        vertical-align: middle;\n",
       "    }\n",
       "\n",
       "    .dataframe tbody tr th {\n",
       "        vertical-align: top;\n",
       "    }\n",
       "\n",
       "    .dataframe thead th {\n",
       "        text-align: right;\n",
       "    }\n",
       "</style>\n",
       "<table border=\"1\" class=\"dataframe\">\n",
       "  <thead>\n",
       "    <tr style=\"text-align: right;\">\n",
       "      <th></th>\n",
       "      <th>Nomi</th>\n",
       "      <th>Yashash joyi</th>\n",
       "      <th>Yemish turi</th>\n",
       "      <th>Oyoqlari</th>\n",
       "      <th>Tezligi</th>\n",
       "    </tr>\n",
       "  </thead>\n",
       "  <tbody>\n",
       "    <tr>\n",
       "      <th>0</th>\n",
       "      <td>Sher</td>\n",
       "      <td>Savanna</td>\n",
       "      <td>Go'shtxo'r</td>\n",
       "      <td>4</td>\n",
       "      <td>Tez</td>\n",
       "    </tr>\n",
       "    <tr>\n",
       "      <th>1</th>\n",
       "      <td>Fil</td>\n",
       "      <td>O'rmon</td>\n",
       "      <td>O'txo'r</td>\n",
       "      <td>4</td>\n",
       "      <td>Sekin</td>\n",
       "    </tr>\n",
       "    <tr>\n",
       "      <th>2</th>\n",
       "      <td>Akula</td>\n",
       "      <td>Okean</td>\n",
       "      <td>Go'shtxo'r</td>\n",
       "      <td>0</td>\n",
       "      <td>Tez</td>\n",
       "    </tr>\n",
       "    <tr>\n",
       "      <th>3</th>\n",
       "      <td>Burgut</td>\n",
       "      <td>Osmon</td>\n",
       "      <td>Go'shtxo'r</td>\n",
       "      <td>2</td>\n",
       "      <td>Juda tez</td>\n",
       "    </tr>\n",
       "    <tr>\n",
       "      <th>4</th>\n",
       "      <td>Yo\"lbars</td>\n",
       "      <td>O'rmon</td>\n",
       "      <td>Go'shtxo'r</td>\n",
       "      <td>4</td>\n",
       "      <td>Tez</td>\n",
       "    </tr>\n",
       "  </tbody>\n",
       "</table>\n",
       "</div>"
      ],
      "text/plain": [
       "       Nomi Yashash joyi Yemish turi  Oyoqlari   Tezligi\n",
       "0      Sher      Savanna  Go'shtxo'r         4       Tez\n",
       "1       Fil       O'rmon     O'txo'r         4     Sekin\n",
       "2     Akula        Okean  Go'shtxo'r         0       Tez\n",
       "3    Burgut        Osmon  Go'shtxo'r         2  Juda tez\n",
       "4  Yo\"lbars       O'rmon  Go'shtxo'r         4       Tez"
      ]
     },
     "execution_count": 54,
     "metadata": {},
     "output_type": "execute_result"
    }
   ],
   "source": [
    "dataAnimalType={'Nomi':['Sher','Fil','Akula','Burgut','Yo\"lbars'],\n",
    "                'Yashash joyi':['Savanna',\"O'rmon\",'Okean','Osmon',\"O'rmon\"],\n",
    "                'Yemish turi':[\"Go'shtxo'r\",\"O'txo'r\",\"Go'shtxo'r\",\"Go'shtxo'r\",\"Go'shtxo'r\"],\n",
    "                'Oyoqlari':[4,4,0,2,4],\n",
    "                'Tezligi':['Tez','Sekin','Tez','Juda tez','Tez']}\n",
    "dfAnimalType = pd.DataFrame(dataAnimalType)\n",
    "dfAnimalType"
   ]
  },
  {
   "cell_type": "markdown",
   "metadata": {},
   "source": [
    "# Regression Examples"
   ]
  },
  {
   "cell_type": "markdown",
   "metadata": {},
   "source": [
    "1. Koreada daraxt gullash davrini predict qilish"
   ]
  },
  {
   "cell_type": "code",
   "execution_count": 57,
   "metadata": {},
   "outputs": [
    {
     "data": {
      "text/html": [
       "<div>\n",
       "<style scoped>\n",
       "    .dataframe tbody tr th:only-of-type {\n",
       "        vertical-align: middle;\n",
       "    }\n",
       "\n",
       "    .dataframe tbody tr th {\n",
       "        vertical-align: top;\n",
       "    }\n",
       "\n",
       "    .dataframe thead th {\n",
       "        text-align: right;\n",
       "    }\n",
       "</style>\n",
       "<table border=\"1\" class=\"dataframe\">\n",
       "  <thead>\n",
       "    <tr style=\"text-align: right;\">\n",
       "      <th></th>\n",
       "      <th>Havo harorati</th>\n",
       "      <th>Yomg'ir yog'ish ehtimolligi</th>\n",
       "      <th>Namlik darajasi</th>\n",
       "      <th>Quyosh davomiyligi soatiga</th>\n",
       "      <th>Tuproq harorati</th>\n",
       "      <th>Daraxt Gullash sanasi (Aprel oyi)</th>\n",
       "    </tr>\n",
       "  </thead>\n",
       "  <tbody>\n",
       "    <tr>\n",
       "      <th>0</th>\n",
       "      <td>Past</td>\n",
       "      <td>Yuqori</td>\n",
       "      <td>Yuqori</td>\n",
       "      <td>5</td>\n",
       "      <td>Past</td>\n",
       "      <td>15</td>\n",
       "    </tr>\n",
       "    <tr>\n",
       "      <th>1</th>\n",
       "      <td>O'rtacha</td>\n",
       "      <td>O'rtacha</td>\n",
       "      <td>O'rtacha</td>\n",
       "      <td>7</td>\n",
       "      <td>O'rtacha</td>\n",
       "      <td>10</td>\n",
       "    </tr>\n",
       "    <tr>\n",
       "      <th>2</th>\n",
       "      <td>Yuqori</td>\n",
       "      <td>Past</td>\n",
       "      <td>Past</td>\n",
       "      <td>9</td>\n",
       "      <td>Yuqori</td>\n",
       "      <td>5</td>\n",
       "    </tr>\n",
       "  </tbody>\n",
       "</table>\n",
       "</div>"
      ],
      "text/plain": [
       "  Havo harorati Yomg'ir yog'ish ehtimolligi Namlik darajasi  \\\n",
       "0          Past                      Yuqori          Yuqori   \n",
       "1      O'rtacha                    O'rtacha        O'rtacha   \n",
       "2        Yuqori                        Past            Past   \n",
       "\n",
       "   Quyosh davomiyligi soatiga Tuproq harorati  \\\n",
       "0                           5            Past   \n",
       "1                           7        O'rtacha   \n",
       "2                           9          Yuqori   \n",
       "\n",
       "   Daraxt Gullash sanasi (Aprel oyi)  \n",
       "0                                 15  \n",
       "1                                 10  \n",
       "2                                  5  "
      ]
     },
     "execution_count": 57,
     "metadata": {},
     "output_type": "execute_result"
    }
   ],
   "source": [
    "dataTreeBls = {'Havo harorati':['Past',\"O'rtacha\",'Yuqori'],\n",
    "               \"Yomg'ir yog'ish ehtimolligi\":['Yuqori',\"O'rtacha\",'Past'],\n",
    "               'Namlik darajasi':['Yuqori',\"O'rtacha\",'Past'],\n",
    "               'Quyosh davomiyligi soatiga':[5,7,9],\n",
    "               'Tuproq harorati':['Past',\"O'rtacha\",'Yuqori'],\n",
    "               'Daraxt Gullash sanasi (Aprel oyi)':[15,10,5]}\n",
    "dfTreeBls = pd.DataFrame(dataTreeBls)\n",
    "dfTreeBls"
   ]
  },
  {
   "cell_type": "markdown",
   "metadata": {},
   "source": [
    "2. 2050-yilda Korea aholi sonini predict qilish"
   ]
  },
  {
   "cell_type": "code",
   "execution_count": 3,
   "metadata": {},
   "outputs": [
    {
     "data": {
      "text/html": [
       "<div>\n",
       "<style scoped>\n",
       "    .dataframe tbody tr th:only-of-type {\n",
       "        vertical-align: middle;\n",
       "    }\n",
       "\n",
       "    .dataframe tbody tr th {\n",
       "        vertical-align: top;\n",
       "    }\n",
       "\n",
       "    .dataframe thead th {\n",
       "        text-align: right;\n",
       "    }\n",
       "</style>\n",
       "<table border=\"1\" class=\"dataframe\">\n",
       "  <thead>\n",
       "    <tr style=\"text-align: right;\">\n",
       "      <th></th>\n",
       "      <th>Yil</th>\n",
       "      <th>Tugulish darajasi(bir ayolga)</th>\n",
       "      <th>O'lim darajasi (har 1000ta odamga)</th>\n",
       "      <th>Urush ehtimolligi</th>\n",
       "      <th>Epidemiya ehtimolligi</th>\n",
       "      <th>Aholining emigratisiya darajasi (har 1000ta odamga)</th>\n",
       "      <th>YaIm )(1 odamga/$da)</th>\n",
       "    </tr>\n",
       "  </thead>\n",
       "  <tbody>\n",
       "    <tr>\n",
       "      <th>0</th>\n",
       "      <td>2014</td>\n",
       "      <td>1.00</td>\n",
       "      <td>5.5</td>\n",
       "      <td>Past</td>\n",
       "      <td>Past</td>\n",
       "      <td>2</td>\n",
       "      <td>30120</td>\n",
       "    </tr>\n",
       "    <tr>\n",
       "      <th>1</th>\n",
       "      <td>2020</td>\n",
       "      <td>0.84</td>\n",
       "      <td>6.4</td>\n",
       "      <td>Past</td>\n",
       "      <td>Past</td>\n",
       "      <td>1</td>\n",
       "      <td>32090</td>\n",
       "    </tr>\n",
       "    <tr>\n",
       "      <th>2</th>\n",
       "      <td>2022</td>\n",
       "      <td>0.80</td>\n",
       "      <td>6.7</td>\n",
       "      <td>Yuqori</td>\n",
       "      <td>Yuqori</td>\n",
       "      <td>5</td>\n",
       "      <td>35600</td>\n",
       "    </tr>\n",
       "    <tr>\n",
       "      <th>3</th>\n",
       "      <td>2025</td>\n",
       "      <td>0.78</td>\n",
       "      <td>7.3</td>\n",
       "      <td>Ortacha</td>\n",
       "      <td>Ortacha</td>\n",
       "      <td>3</td>\n",
       "      <td>38080</td>\n",
       "    </tr>\n",
       "  </tbody>\n",
       "</table>\n",
       "</div>"
      ],
      "text/plain": [
       "    Yil  Tugulish darajasi(bir ayolga)  O'lim darajasi (har 1000ta odamga)  \\\n",
       "0  2014                           1.00                                 5.5   \n",
       "1  2020                           0.84                                 6.4   \n",
       "2  2022                           0.80                                 6.7   \n",
       "3  2025                           0.78                                 7.3   \n",
       "\n",
       "  Urush ehtimolligi Epidemiya ehtimolligi  \\\n",
       "0              Past                  Past   \n",
       "1              Past                  Past   \n",
       "2            Yuqori                Yuqori   \n",
       "3           Ortacha               Ortacha   \n",
       "\n",
       "   Aholining emigratisiya darajasi (har 1000ta odamga)  YaIm )(1 odamga/$da)  \n",
       "0                                                  2                   30120  \n",
       "1                                                  1                   32090  \n",
       "2                                                  5                   35600  \n",
       "3                                                  3                   38080  "
      ]
     },
     "execution_count": 3,
     "metadata": {},
     "output_type": "execute_result"
    }
   ],
   "source": [
    "dataPopulation={'Yil':[2014,2020,2022,2025],\n",
    "                'Tugulish darajasi(bir ayolga)':[1,0.84,0.80,0.78],\n",
    "                \"O'lim darajasi (har 1000ta odamga)\":[5.5,6.4,6.7,7.3],\n",
    "                \"Urush ehtimolligi\":['Past','Past','Yuqori','Ortacha'],\n",
    "                'Epidemiya ehtimolligi':['Past','Past','Yuqori','Ortacha'],\n",
    "                'Aholining emigratisiya darajasi (har 1000ta odamga)':[2,1,5,3],\n",
    "                'YaIm )(1 odamga/$da)':[30120,32090,35600,38080]}\n",
    "dfPopulation = pd.DataFrame(dataPopulation)\n",
    "dfPopulation"
   ]
  },
  {
   "cell_type": "markdown",
   "metadata": {},
   "source": [
    "3. Korea GDP 2030 yil"
   ]
  },
  {
   "cell_type": "code",
   "execution_count": 21,
   "metadata": {},
   "outputs": [
    {
     "data": {
      "text/html": [
       "<div>\n",
       "<style scoped>\n",
       "    .dataframe tbody tr th:only-of-type {\n",
       "        vertical-align: middle;\n",
       "    }\n",
       "\n",
       "    .dataframe tbody tr th {\n",
       "        vertical-align: top;\n",
       "    }\n",
       "\n",
       "    .dataframe thead th {\n",
       "        text-align: right;\n",
       "    }\n",
       "</style>\n",
       "<table border=\"1\" class=\"dataframe\">\n",
       "  <thead>\n",
       "    <tr style=\"text-align: right;\">\n",
       "      <th></th>\n",
       "      <th>Yil</th>\n",
       "      <th>Texnologik innovatsiyalar darajasi</th>\n",
       "      <th>Ta'lim darajasi</th>\n",
       "      <th>Infratuzilmaga sarmoya</th>\n",
       "      <th>Siyosiy barqarorlik</th>\n",
       "      <th>Tashqi savdo ochiqligi</th>\n",
       "      <th>YaIM (1 odamga/$da)</th>\n",
       "    </tr>\n",
       "  </thead>\n",
       "  <tbody>\n",
       "    <tr>\n",
       "      <th>0</th>\n",
       "      <td>2017</td>\n",
       "      <td>Yuqori</td>\n",
       "      <td>Yuqori</td>\n",
       "      <td>Yuqori</td>\n",
       "      <td>Barqaror</td>\n",
       "      <td>Ochiq</td>\n",
       "      <td>32500</td>\n",
       "    </tr>\n",
       "    <tr>\n",
       "      <th>1</th>\n",
       "      <td>2018</td>\n",
       "      <td>O'rtacha</td>\n",
       "      <td>O'rtacha</td>\n",
       "      <td>O'rtacha</td>\n",
       "      <td>O'zgaruvchan</td>\n",
       "      <td>Qisman ochiq</td>\n",
       "      <td>33500</td>\n",
       "    </tr>\n",
       "    <tr>\n",
       "      <th>2</th>\n",
       "      <td>2019</td>\n",
       "      <td>Past</td>\n",
       "      <td>Past</td>\n",
       "      <td>Past</td>\n",
       "      <td>Buzilgan</td>\n",
       "      <td>Yopiq</td>\n",
       "      <td>34500</td>\n",
       "    </tr>\n",
       "    <tr>\n",
       "      <th>3</th>\n",
       "      <td>2020</td>\n",
       "      <td>Yuqori</td>\n",
       "      <td>Yuqori</td>\n",
       "      <td>Yuqori</td>\n",
       "      <td>Barqaror</td>\n",
       "      <td>Ochiq</td>\n",
       "      <td>35000</td>\n",
       "    </tr>\n",
       "    <tr>\n",
       "      <th>4</th>\n",
       "      <td>2021</td>\n",
       "      <td>O'rtacha</td>\n",
       "      <td>Yuqori</td>\n",
       "      <td>Yuqori</td>\n",
       "      <td>Barqaror</td>\n",
       "      <td>Ochiq</td>\n",
       "      <td>36000</td>\n",
       "    </tr>\n",
       "  </tbody>\n",
       "</table>\n",
       "</div>"
      ],
      "text/plain": [
       "    Yil Texnologik innovatsiyalar darajasi Ta'lim darajasi  \\\n",
       "0  2017                             Yuqori          Yuqori   \n",
       "1  2018                           O'rtacha        O'rtacha   \n",
       "2  2019                               Past            Past   \n",
       "3  2020                             Yuqori          Yuqori   \n",
       "4  2021                           O'rtacha          Yuqori   \n",
       "\n",
       "  Infratuzilmaga sarmoya Siyosiy barqarorlik Tashqi savdo ochiqligi  \\\n",
       "0                 Yuqori            Barqaror                  Ochiq   \n",
       "1               O'rtacha        O'zgaruvchan           Qisman ochiq   \n",
       "2                   Past            Buzilgan                  Yopiq   \n",
       "3                 Yuqori            Barqaror                  Ochiq   \n",
       "4                 Yuqori            Barqaror                  Ochiq   \n",
       "\n",
       "   YaIM (1 odamga/$da)  \n",
       "0                32500  \n",
       "1                33500  \n",
       "2                34500  \n",
       "3                35000  \n",
       "4                36000  "
      ]
     },
     "metadata": {},
     "output_type": "display_data"
    }
   ],
   "source": [
    "\n",
    "\n",
    "dataGDP = {\n",
    "    'Yil': [2017, 2018, 2019, 2020, 2021],\n",
    "    'Texnologik innovatsiyalar darajasi': ['Yuqori', 'O\\'rtacha', 'Past', 'Yuqori', 'O\\'rtacha'],\n",
    "    'Ta\\'lim darajasi': ['Yuqori', 'O\\'rtacha', 'Past', 'Yuqori', 'Yuqori'],\n",
    "    'Infratuzilmaga sarmoya': ['Yuqori', 'O\\'rtacha', 'Past', 'Yuqori', 'Yuqori'],\n",
    "    'Siyosiy barqarorlik': ['Barqaror', 'O\\'zgaruvchan', 'Buzilgan', 'Barqaror', 'Barqaror'],\n",
    "    'Tashqi savdo ochiqligi': ['Ochiq', 'Qisman ochiq', 'Yopiq', 'Ochiq', 'Ochiq'],\n",
    "    'YaIM (1 odamga/$da)': [32500, 33500, 34500, 35000, 36000] # Taxminiy qiymatlar\n",
    "}\n",
    "\n",
    "dfGDP = pd.DataFrame(dataGDP)\n",
    "display(dfGDP)"
   ]
  },
  {
   "cell_type": "markdown",
   "metadata": {},
   "source": [
    "4. Studentlarning yakuniy baholarini predict qilish"
   ]
  },
  {
   "cell_type": "code",
   "execution_count": 23,
   "metadata": {},
   "outputs": [
    {
     "data": {
      "text/html": [
       "<div>\n",
       "<style scoped>\n",
       "    .dataframe tbody tr th:only-of-type {\n",
       "        vertical-align: middle;\n",
       "    }\n",
       "\n",
       "    .dataframe tbody tr th {\n",
       "        vertical-align: top;\n",
       "    }\n",
       "\n",
       "    .dataframe thead th {\n",
       "        text-align: right;\n",
       "    }\n",
       "</style>\n",
       "<table border=\"1\" class=\"dataframe\">\n",
       "  <thead>\n",
       "    <tr style=\"text-align: right;\">\n",
       "      <th></th>\n",
       "      <th>StudentName</th>\n",
       "      <th>MidtermExam</th>\n",
       "      <th>Participation</th>\n",
       "      <th>HomeworkResults</th>\n",
       "      <th>FinalExamScore</th>\n",
       "      <th>StudyHours</th>\n",
       "    </tr>\n",
       "  </thead>\n",
       "  <tbody>\n",
       "    <tr>\n",
       "      <th>0</th>\n",
       "      <td>Olim</td>\n",
       "      <td>75</td>\n",
       "      <td>80</td>\n",
       "      <td>85</td>\n",
       "      <td>82</td>\n",
       "      <td>4</td>\n",
       "    </tr>\n",
       "    <tr>\n",
       "      <th>1</th>\n",
       "      <td>Gulnora</td>\n",
       "      <td>88</td>\n",
       "      <td>95</td>\n",
       "      <td>90</td>\n",
       "      <td>93</td>\n",
       "      <td>5</td>\n",
       "    </tr>\n",
       "    <tr>\n",
       "      <th>2</th>\n",
       "      <td>Javohir</td>\n",
       "      <td>62</td>\n",
       "      <td>70</td>\n",
       "      <td>75</td>\n",
       "      <td>70</td>\n",
       "      <td>2</td>\n",
       "    </tr>\n",
       "    <tr>\n",
       "      <th>3</th>\n",
       "      <td>Nargiza</td>\n",
       "      <td>92</td>\n",
       "      <td>98</td>\n",
       "      <td>95</td>\n",
       "      <td>97</td>\n",
       "      <td>7</td>\n",
       "    </tr>\n",
       "    <tr>\n",
       "      <th>4</th>\n",
       "      <td>Rustam</td>\n",
       "      <td>78</td>\n",
       "      <td>85</td>\n",
       "      <td>88</td>\n",
       "      <td>86</td>\n",
       "      <td>3</td>\n",
       "    </tr>\n",
       "  </tbody>\n",
       "</table>\n",
       "</div>"
      ],
      "text/plain": [
       "  StudentName  MidtermExam  Participation  HomeworkResults  FinalExamScore  \\\n",
       "0        Olim           75             80               85              82   \n",
       "1     Gulnora           88             95               90              93   \n",
       "2     Javohir           62             70               75              70   \n",
       "3     Nargiza           92             98               95              97   \n",
       "4      Rustam           78             85               88              86   \n",
       "\n",
       "   StudyHours  \n",
       "0           4  \n",
       "1           5  \n",
       "2           2  \n",
       "3           7  \n",
       "4           3  "
      ]
     },
     "metadata": {},
     "output_type": "display_data"
    }
   ],
   "source": [
    "dataStudent = {\n",
    "    'StudentName': ['Olim', 'Gulnora', 'Javohir', 'Nargiza', 'Rustam'],\n",
    "    'MidtermExam': [75, 88, 62, 92, 78],\n",
    "    'Participation': [80, 95, 70, 98, 85],\n",
    "    'HomeworkResults': [85, 90, 75, 95, 88],\n",
    "    'FinalExamScore': [82, 93, 70, 97, 86],\n",
    "    'StudyHours':[4,5,2,7,3]\n",
    "}\n",
    "\n",
    "dfStudent = pd.DataFrame(dataStudent)\n",
    "display(dfStudent)"
   ]
  },
  {
   "cell_type": "code",
   "execution_count": null,
   "metadata": {},
   "outputs": [],
   "source": []
  }
 ],
 "metadata": {
  "kernelspec": {
   "display_name": "Python 3",
   "language": "python",
   "name": "python3"
  },
  "language_info": {
   "codemirror_mode": {
    "name": "ipython",
    "version": 3
   },
   "file_extension": ".py",
   "mimetype": "text/x-python",
   "name": "python",
   "nbconvert_exporter": "python",
   "pygments_lexer": "ipython3",
   "version": "3.13.2"
  }
 },
 "nbformat": 4,
 "nbformat_minor": 2
}
