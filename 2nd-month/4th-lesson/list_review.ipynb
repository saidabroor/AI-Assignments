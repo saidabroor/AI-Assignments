{
 "cells": [
  {
   "cell_type": "code",
   "execution_count": null,
   "metadata": {},
   "outputs": [
    {
     "name": "stdout",
     "output_type": "stream",
     "text": [
      "swiss new zealand\n"
     ]
    }
   ],
   "source": [
    "# printing both first and last items and at the same time\n",
    "\n",
    "a = ['swiss','canada','new zealand']\n",
    "print(a[0], a[-1])"
   ]
  },
  {
   "cell_type": "code",
   "execution_count": 3,
   "metadata": {},
   "outputs": [
    {
     "name": "stdout",
     "output_type": "stream",
     "text": [
      "['swiss', 'usa', 'new zealand']\n"
     ]
    }
   ],
   "source": [
    "# modifying the list, changing the 2nd item\n",
    "a[1] = 'usa'\n",
    "print(a)"
   ]
  },
  {
   "cell_type": "code",
   "execution_count": 4,
   "metadata": {},
   "outputs": [
    {
     "name": "stdout",
     "output_type": "stream",
     "text": [
      "['swiss', 'usa', 'new zealand', 'japan']\n"
     ]
    }
   ],
   "source": [
    "# adding to the list\n",
    "a.append('japan')\n",
    "print(a)"
   ]
  },
  {
   "cell_type": "code",
   "execution_count": null,
   "metadata": {},
   "outputs": [
    {
     "name": "stdout",
     "output_type": "stream",
     "text": [
      "['swiss', 'usa', 'japan']\n"
     ]
    }
   ],
   "source": [
    "# removing from the list\n",
    "a.remove('new zealand')\n",
    "print(a)"
   ]
  },
  {
   "cell_type": "code",
   "execution_count": null,
   "metadata": {},
   "outputs": [
    {
     "name": "stdout",
     "output_type": "stream",
     "text": [
      "swiss\n",
      "usa\n",
      "japan\n"
     ]
    }
   ],
   "source": [
    "# printing all items at once\n",
    "for i in a:\n",
    "  print(i)"
   ]
  },
  {
   "cell_type": "code",
   "execution_count": null,
   "metadata": {},
   "outputs": [
    {
     "name": "stdout",
     "output_type": "stream",
     "text": [
      "exists\n"
     ]
    }
   ],
   "source": [
    "# to check whether an item exists\n",
    "if 'usa' in a:\n",
    "   print('exists')\n",
    "else:\n",
    "    print('doesnt exist')"
   ]
  },
  {
   "cell_type": "code",
   "execution_count": 11,
   "metadata": {},
   "outputs": [
    {
     "name": "stdout",
     "output_type": "stream",
     "text": [
      "doesnt exist\n"
     ]
    }
   ],
   "source": [
    "if 'russia' in a:\n",
    "   print('exists')\n",
    "else:\n",
    "    print('doesnt exist')"
   ]
  },
  {
   "cell_type": "code",
   "execution_count": null,
   "metadata": {},
   "outputs": [
    {
     "data": {
      "text/plain": [
       "3"
      ]
     },
     "execution_count": 12,
     "metadata": {},
     "output_type": "execute_result"
    }
   ],
   "source": [
    "# length of the list\n",
    "len(a)"
   ]
  },
  {
   "cell_type": "code",
   "execution_count": null,
   "metadata": {},
   "outputs": [
    {
     "name": "stdout",
     "output_type": "stream",
     "text": [
      "['swiss', 'uzbekistan', 'usa', 'japan']\n"
     ]
    }
   ],
   "source": [
    "# inserting an item at the specific index\n",
    "a.insert(1,'uzbekistan')\n",
    "print(a)"
   ]
  },
  {
   "cell_type": "code",
   "execution_count": null,
   "metadata": {},
   "outputs": [
    {
     "name": "stdout",
     "output_type": "stream",
     "text": [
      "['uzbekistan', 'usa', 'japan']\n"
     ]
    }
   ],
   "source": [
    "# popping the specific item and removing it\n",
    "a.pop(0)\n",
    "print(a)"
   ]
  },
  {
   "cell_type": "code",
   "execution_count": null,
   "metadata": {},
   "outputs": [],
   "source": []
  }
 ],
 "metadata": {
  "kernelspec": {
   "display_name": "Python 3",
   "language": "python",
   "name": "python3"
  },
  "language_info": {
   "codemirror_mode": {
    "name": "ipython",
    "version": 3
   },
   "file_extension": ".py",
   "mimetype": "text/x-python",
   "name": "python",
   "nbconvert_exporter": "python",
   "pygments_lexer": "ipython3",
   "version": "3.13.2"
  }
 },
 "nbformat": 4,
 "nbformat_minor": 2
}
