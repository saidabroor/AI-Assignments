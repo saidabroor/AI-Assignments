{
 "cells": [
  {
   "cell_type": "code",
   "execution_count": 2,
   "metadata": {},
   "outputs": [],
   "source": [
    "import numpy as np"
   ]
  },
  {
   "cell_type": "markdown",
   "metadata": {},
   "source": [
    "# List"
   ]
  },
  {
   "cell_type": "code",
   "execution_count": 22,
   "metadata": {},
   "outputs": [
    {
     "name": "stdout",
     "output_type": "stream",
     "text": [
      "M\n",
      "a\n",
      "c\n",
      "h\n",
      "i\n",
      "n\n",
      "e\n"
     ]
    }
   ],
   "source": [
    "#  Berilgan so'zni for loop yordamida xar bir xarfini ekranga chiqaring\n",
    "\n",
    "a = ['Machine']\n",
    "for i in a:\n",
    "  for letter in i:\n",
    "    print(letter)"
   ]
  },
  {
   "cell_type": "code",
   "execution_count": 26,
   "metadata": {},
   "outputs": [
    {
     "name": "stdout",
     "output_type": "stream",
     "text": [
      "Yigindi: 20\n",
      "Kopaytma: 384\n"
     ]
    }
   ],
   "source": [
    "# Berilgan sonlar oraligidan faqat juft sonlarni yigindisi va kopaytmasini toping(range step orqali va if orqali)\n",
    "\n",
    "y = 0\n",
    "k = 1\n",
    "for i in range(1,10):\n",
    "  if i % 2 == 0:\n",
    "    y += i\n",
    "    k *= i\n",
    "print(f\"Yigindi: {y}\")\n",
    "print(f\"Kopaytma: {k}\")\n",
    "\n"
   ]
  },
  {
   "cell_type": "code",
   "execution_count": 28,
   "metadata": {},
   "outputs": [
    {
     "name": "stdout",
     "output_type": "stream",
     "text": [
      "Juft sonlar: 4\n",
      "Toq sonlar: 5\n"
     ]
    }
   ],
   "source": [
    "# Berilgan rangeda berilgan juft va toq sonlarni miqdorini aniqlang\n",
    "j = 0\n",
    "t = 0\n",
    "for i in range(1,10):\n",
    "  if i % 2 == 0:\n",
    "    j += 1\n",
    "  else:\n",
    "    t += 1\n",
    "print(f\"Juft sonlar: {j}\")\n",
    "print(f\"Toq sonlar: {t}\")\n"
   ]
  },
  {
   "cell_type": "code",
   "execution_count": 30,
   "metadata": {},
   "outputs": [
    {
     "name": "stdout",
     "output_type": "stream",
     "text": [
      "6\n"
     ]
    }
   ],
   "source": [
    "# Berilgan rangeda 3 ga va 5 ga karrali sonlar miqdorini aniqlang\n",
    "d = 0\n",
    "for i in range(1,100):\n",
    "  if i % 3 == 0 and i % 5 == 0:\n",
    "    d += 1\n",
    "print(d)"
   ]
  },
  {
   "cell_type": "markdown",
   "metadata": {},
   "source": [
    "# Numpy"
   ]
  },
  {
   "cell_type": "code",
   "execution_count": 31,
   "metadata": {},
   "outputs": [
    {
     "name": "stdout",
     "output_type": "stream",
     "text": [
      "M\n",
      "a\n",
      "c\n",
      "h\n",
      "i\n",
      "n\n",
      "e\n"
     ]
    }
   ],
   "source": [
    "#  Berilgan so'zni for loop yordamida xar bir xarfini ekranga chiqaring\n",
    "\n",
    "a = np.array(['Machine'])\n",
    "for i in a:\n",
    "  for letter in i:\n",
    "    print(letter)"
   ]
  },
  {
   "cell_type": "code",
   "execution_count": 33,
   "metadata": {},
   "outputs": [
    {
     "name": "stdout",
     "output_type": "stream",
     "text": [
      "Yigindi: 20\n",
      "Kopaytma: 384\n"
     ]
    }
   ],
   "source": [
    "# Berilgan sonlar oraligidan faqat juft sonlarni yigindisi va kopaytmasini toping(range step orqali va if orqali)\n",
    "\n",
    "y = 0\n",
    "k = 1\n",
    "for i in np.arange(1,10):\n",
    "  if i % 2 == 0:\n",
    "    y += i\n",
    "    k *= i\n",
    "print(f\"Yigindi: {y}\")\n",
    "print(f\"Kopaytma: {k}\")\n"
   ]
  },
  {
   "cell_type": "code",
   "execution_count": 35,
   "metadata": {},
   "outputs": [
    {
     "name": "stdout",
     "output_type": "stream",
     "text": [
      "Juft sonlar: 4\n",
      "Toq sonlar: 5\n"
     ]
    }
   ],
   "source": [
    "# Berilgan rangeda berilgan juft va toq sonlarni miqdorini aniqlang\n",
    "j = 0\n",
    "t = 0\n",
    "for i in np.arange(1,10):\n",
    "  if i % 2 == 0:\n",
    "    j += 1\n",
    "  else:\n",
    "    t += 1\n",
    "print(f\"Juft sonlar: {j}\")\n",
    "print(f\"Toq sonlar: {t}\")"
   ]
  },
  {
   "cell_type": "code",
   "execution_count": 37,
   "metadata": {},
   "outputs": [
    {
     "name": "stdout",
     "output_type": "stream",
     "text": [
      "6\n"
     ]
    }
   ],
   "source": [
    "# Berilgan rangeda 3 ga va 5 ga karrali sonlar miqdorini aniqlang\n",
    "d = 0\n",
    "for i in np.arange(1,100):\n",
    "  if i % 3 == 0 and i % 5 == 0:\n",
    "    d += 1\n",
    "print(d)"
   ]
  }
 ],
 "metadata": {
  "kernelspec": {
   "display_name": "Python 3",
   "language": "python",
   "name": "python3"
  },
  "language_info": {
   "codemirror_mode": {
    "name": "ipython",
    "version": 3
   },
   "file_extension": ".py",
   "mimetype": "text/x-python",
   "name": "python",
   "nbconvert_exporter": "python",
   "pygments_lexer": "ipython3",
   "version": "3.13.2"
  }
 },
 "nbformat": 4,
 "nbformat_minor": 2
}
