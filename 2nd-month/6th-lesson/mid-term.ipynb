{
 "cells": [
  {
   "cell_type": "markdown",
   "metadata": {},
   "source": [
    "1. LINEAR REGRESSION VA LOGISTIC REGRESSION FARQI VA O’XSHASH TOMONLARI BOR?\n",
    "\n",
    "O'xshash tomonlari: ikkalasi ham Linear model va input va outputlarining hisob-kitob qilishiga ko'ra o'xshashlik bor.\n",
    "\n",
    "Farqli tomoni: Linear Regression regression model uchun, Logistic Regression esa Classification model uchun ishlaydi. Hamda, Logistic regression mantiq funkstiyasi bo'yicha ishlaydi va target valuelarni discrete qiymatlarga ajratadi.\n",
    "\n",
    "2.Klibning asosiy xusiyatlari va ishlash kodi\n",
    "\n",
    "Klibning asosiy xususiyatlari quyidagilardan iborat: 1)memory usageni kamaytirish, 2)50% dan ortiq missing value bor columnlarni drop qilish, 3)columnlarni bir formatga keltirish, 4)missing-valuelarni to'ldirish, 5) vizualizationda grafni ko'rish, 6) duplicate rowlarni drop qilish\n",
    "\n",
    "Ishlash kodi esa quyidagicha: birinchi terminalga o'tib install qilib olinadi, notebook cellda import qilinadi va autoclean function chaqirilib uning parameteriga df dataseti joylanadi.\n",
    "\n",
    "pip install klib --> import klib --> df = klib.datacleaner.autoclean(df) \n",
    "\n",
    "3.Structured va Unstructured datasetlar orasidagi farq?\n",
    "\n",
    "Ularning orasidagi farq tartibda. Structured dataset qator va ustunlardan tashkil topgan va jadval ko'rinishida bo'ladi. Hamda har bir ustun bir xususiyatni anglatadi. Bu tartibga tushmagan har qanday dataset unstructured dataset hisoblanadi.\n",
    "\n",
    "4.Ternary conditionals nima? Va uni qanday amalga oshiriladi?\n",
    "\n",
    "Ternary condionals pythondagi code block. If-else conditionals ni single line codeda yozish hisoblanadi. Qisqa nazorat, tekshiruv, qaror qilish logikasi uchun ishlatiladi.\n",
    "\n",
    "5.Random Forest va Decision Tree orasidagi farq va o’xshashlik tomonlari?\n",
    "\n",
    "O'xshashliklari: ikkala model ham Regression va Classification model uchun ham ishlaydi. Ikkalasi ham yuqori aniqlikda ishlaydi va shu bois ham sekin ishlashi mumkin. Featurelarning ko'pligi yoki datasetning oz hajmi sabab va ikkalasining ham overfittingga moyilligi bor.\n",
    "\n",
    "Farqlari: Decision tree tree model hisoblansa, Random forest ensemble model turiga kiradi. Random forest aniqlikda yuqoriroq va shu sabab ham sekinroq ishlaydi. \n",
    "\n",
    "6.Ensemble nima?\n",
    "\n",
    "Jamlanma. Bir necha kuchsiz modellarning kuchli taraflari jamlangan foundation model. \n",
    "\n",
    "7.Mutable nima?\n",
    "\n",
    "Mutable o'zgartirsa bo'ladigan, degan ma'noni beradi va data structurelar bilan ishlaganda duch kelishimiz mumkin. Masalan, list. List data structure predefined datani o'z ichiga olsa ham biz undan keraksizlarini olib tashlash yoki yangilarini qo'shish orqali upgarde qilishimiz mumkin va bu xususiyat mutable deb ataladi.\n",
    "\n",
    "8.Listga istalgan joyiga element qo’shish qoidasi?\n",
    "\n",
    "insert() funktsiyasidan foydalaniladi. Parameter sifatida birinchi index beriladi va keyin biz bermoqchi bo'lgan qiymat beriladi. Masalan: a = [1,2,4,5] va biz 2-index ga 3 raqamini qo'shmoqchimiz.\n",
    "a.insert(2,3) --> [1,2,3,4,5]\n",
    "\n",
    "9.Dictionarga qanday element qo’shamiz/olib tashlaymiz?\n",
    "\n",
    "Dictionaryga element qo'shish keyga to'g'ridan-to'g'ri valueni assign qilish bilan bo'ladi. Masalan: my_country = {\"languange\": 'uzbek',\"capital\": 'Tashkent'}\n",
    "my_country['population'] = 34000000 --> {\"languange\": 'uzbek',\"capital\": 'Tashkent', 'population': '34000000'}\n",
    "\n",
    "Element olib tashlash esa pop() metodi yoki del keywordini ishlatish bilan amalga oshiriladi. my_country.pop('population'), del my_country['language']\n",
    "\n",
    "10.Dictinary mutable/immutable? Nimaga?\n",
    "\n",
    "Dictionary muatable hisoblanadi. Ya'ni datani modify, update qilish mumkin. Bu yangi data structure yaratmasdan o'sha bor data structureni ishlatish mumkin va bu flexibility hamda dynamism imkonini beradi.\n",
    "\n"
   ]
  },
  {
   "cell_type": "markdown",
   "metadata": {},
   "source": []
  }
 ],
 "metadata": {
  "language_info": {
   "name": "python"
  }
 },
 "nbformat": 4,
 "nbformat_minor": 2
}
