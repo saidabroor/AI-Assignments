{
 "cells": [
  {
   "cell_type": "code",
   "execution_count": 3,
   "metadata": {},
   "outputs": [
    {
     "name": "stdout",
     "output_type": "stream",
     "text": [
      "{'Khusniddin': 19, '023': 20, 'Maftuna': 19, 'Qutbiddin': 17}\n"
     ]
    }
   ],
   "source": [
    "# creating a dictionary with student names and scores and updating it\n",
    "\n",
    "students = {\n",
    "  'Khusniddin': 19,\n",
    "  '023': 20,\n",
    "  'Maftuna': 18\n",
    "}\n",
    "students['Qutbiddin'] = 17\n",
    "students['Maftuna'] = 19\n",
    "print(students)"
   ]
  },
  {
   "cell_type": "code",
   "execution_count": 26,
   "metadata": {},
   "outputs": [
    {
     "name": "stdout",
     "output_type": "stream",
     "text": [
      "{'023': 4, 'Qutbiddin': 2, 'Maftuna': 1, 'Khusniddin': 2, 'Saidabror': 1}\n"
     ]
    }
   ],
   "source": [
    "# creating a function that counts how mant times a word appears in a sentence and stores it in a dictionary\n",
    "\n",
    "def word_count(sentence):\n",
    "  words = sentence.split()\n",
    "\n",
    "  word_counts = {}\n",
    "  for word in words:\n",
    "    if word in word_counts:\n",
    "      word_counts[word] += 1\n",
    "    else:\n",
    "      word_counts[word] = 1\n",
    "    # word_counts[word] = word_counts.get(word, 0) + 1\n",
    "  return word_counts\n",
    "\n",
    "sentence = '023 Qutbiddin 023 Maftuna 023 Khusniddin 023 Qutbiddin Khusniddin Saidabror'\n",
    "result = word_count(sentence)\n",
    "print(result)\n"
   ]
  },
  {
   "cell_type": "code",
   "execution_count": null,
   "metadata": {},
   "outputs": [
    {
     "data": {
      "text/plain": [
       "{'a': 1, 'b': 2, 'c': 3}"
      ]
     },
     "execution_count": 11,
     "metadata": {},
     "output_type": "execute_result"
    }
   ],
   "source": [
    "# creating a function that swaps the keys with values\n",
    "\n",
    "original = {1:'a', 2:'b', 3: 'c'}\n",
    "def swap(original):\n",
    "  swapped = {value: key for key, value in original.items()}\n",
    "  return swapped\n",
    "swap(original)"
   ]
  },
  {
   "cell_type": "code",
   "execution_count": 12,
   "metadata": {},
   "outputs": [
    {
     "data": {
      "text/plain": [
       "{'w': 10, 'p': 9, 't': 8}"
      ]
     },
     "execution_count": 12,
     "metadata": {},
     "output_type": "execute_result"
    }
   ],
   "source": [
    "z = {10:'w',9:'p',8:'t'}\n",
    "swap(z)"
   ]
  },
  {
   "cell_type": "code",
   "execution_count": 13,
   "metadata": {},
   "outputs": [
    {
     "data": {
      "text/plain": [
       "dict_items([(10, 'w'), (9, 'p'), (8, 't')])"
      ]
     },
     "execution_count": 13,
     "metadata": {},
     "output_type": "execute_result"
    }
   ],
   "source": [
    "z.items()"
   ]
  },
  {
   "cell_type": "code",
   "execution_count": 18,
   "metadata": {},
   "outputs": [],
   "source": [
    "# creating a function that swaps the keys with values only if the values are strings\n",
    "\n",
    "def swapp(inputt):\n",
    "  swappped = {value: key for key, value in inputt.items() if isinstance(value, str)}\n",
    "  return swappped"
   ]
  },
  {
   "cell_type": "code",
   "execution_count": 19,
   "metadata": {},
   "outputs": [
    {
     "data": {
      "text/plain": [
       "{'apple': 1, 'banana': 2, 'cherry': 4}"
      ]
     },
     "execution_count": 19,
     "metadata": {},
     "output_type": "execute_result"
    }
   ],
   "source": [
    "data = {1: 'apple', 2: 'banana', 3: 100, 4: 'cherry', 5: 200}\n",
    "swapp(data)"
   ]
  },
  {
   "cell_type": "code",
   "execution_count": null,
   "metadata": {},
   "outputs": [],
   "source": []
  }
 ],
 "metadata": {
  "kernelspec": {
   "display_name": "Python 3",
   "language": "python",
   "name": "python3"
  },
  "language_info": {
   "codemirror_mode": {
    "name": "ipython",
    "version": 3
   },
   "file_extension": ".py",
   "mimetype": "text/x-python",
   "name": "python",
   "nbconvert_exporter": "python",
   "pygments_lexer": "ipython3",
   "version": "3.13.2"
  }
 },
 "nbformat": 4,
 "nbformat_minor": 2
}
