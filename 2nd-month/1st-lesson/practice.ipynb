{
 "cells": [
  {
   "cell_type": "code",
   "execution_count": null,
   "metadata": {},
   "outputs": [],
   "source": [
    "import pandas as pd\n",
    "import numpy as np\n",
    "import seaborn as sns\n",
    "import matplotlib.pyplot as plt\n",
    "import klib\n",
    "\n",
    "from sklearn.preprocessing import LabelEncoder, StandardScaler\n",
    "from sklearn.model_selection import train_test_split, KFold, cross_val_score\n",
    "from sklearn.linear_model import LinearRegression\n",
    "from sklearn.tree import DecisionTreeRegressor\n",
    "from sklearn.metrics import mean_squared_error, r2_score, classification_report\n",
    "import warnings\n",
    "warnings.filterwarnings('ignore')\n",
    "from tabulate import tabulate"
   ]
  },
  {
   "cell_type": "code",
   "execution_count": 3,
   "metadata": {},
   "outputs": [],
   "source": [
    "df = pd.read_csv(r\"C:\\Users\\Saidabrorkhon\\ML_Lectures\\global_shark_attacks.csv\")"
   ]
  },
  {
   "cell_type": "code",
   "execution_count": 3,
   "metadata": {},
   "outputs": [
    {
     "data": {
      "text/html": [
       "<div>\n",
       "<style scoped>\n",
       "    .dataframe tbody tr th:only-of-type {\n",
       "        vertical-align: middle;\n",
       "    }\n",
       "\n",
       "    .dataframe tbody tr th {\n",
       "        vertical-align: top;\n",
       "    }\n",
       "\n",
       "    .dataframe thead th {\n",
       "        text-align: right;\n",
       "    }\n",
       "</style>\n",
       "<table border=\"1\" class=\"dataframe\">\n",
       "  <thead>\n",
       "    <tr style=\"text-align: right;\">\n",
       "      <th></th>\n",
       "      <th>date</th>\n",
       "      <th>year</th>\n",
       "      <th>type</th>\n",
       "      <th>country</th>\n",
       "      <th>area</th>\n",
       "      <th>location</th>\n",
       "      <th>activity</th>\n",
       "      <th>name</th>\n",
       "      <th>sex</th>\n",
       "      <th>age</th>\n",
       "      <th>fatal_y_n</th>\n",
       "      <th>time</th>\n",
       "      <th>species</th>\n",
       "    </tr>\n",
       "  </thead>\n",
       "  <tbody>\n",
       "    <tr>\n",
       "      <th>0</th>\n",
       "      <td>2023-05-13</td>\n",
       "      <td>2023.0</td>\n",
       "      <td>Unprovoked</td>\n",
       "      <td>AUSTRALIA</td>\n",
       "      <td>South Australia</td>\n",
       "      <td>Elliston</td>\n",
       "      <td>Surfing</td>\n",
       "      <td>Simon Baccanello</td>\n",
       "      <td>M</td>\n",
       "      <td>46</td>\n",
       "      <td>Y</td>\n",
       "      <td>10h10</td>\n",
       "      <td>White shark</td>\n",
       "    </tr>\n",
       "    <tr>\n",
       "      <th>1</th>\n",
       "      <td>2023-04-29</td>\n",
       "      <td>2023.0</td>\n",
       "      <td>Unprovoked</td>\n",
       "      <td>AUSTRALIA</td>\n",
       "      <td>Western Australia</td>\n",
       "      <td>Yallingup, Busselton</td>\n",
       "      <td>Swimming</td>\n",
       "      <td>male</td>\n",
       "      <td>M</td>\n",
       "      <td>NaN</td>\n",
       "      <td>N</td>\n",
       "      <td>11h20</td>\n",
       "      <td>1m shark</td>\n",
       "    </tr>\n",
       "    <tr>\n",
       "      <th>2</th>\n",
       "      <td>2022-10-07</td>\n",
       "      <td>2022.0</td>\n",
       "      <td>Unprovoked</td>\n",
       "      <td>AUSTRALIA</td>\n",
       "      <td>Western  Australia</td>\n",
       "      <td>Port Hedland</td>\n",
       "      <td>Spearfishing</td>\n",
       "      <td>Robbie Peck</td>\n",
       "      <td>M</td>\n",
       "      <td>38</td>\n",
       "      <td>N</td>\n",
       "      <td>11h30</td>\n",
       "      <td>Bull shark</td>\n",
       "    </tr>\n",
       "    <tr>\n",
       "      <th>3</th>\n",
       "      <td>2021-10-04</td>\n",
       "      <td>2021.0</td>\n",
       "      <td>Unprovoked</td>\n",
       "      <td>USA</td>\n",
       "      <td>Florida</td>\n",
       "      <td>Fort Pierce State Park, St. Lucie County</td>\n",
       "      <td>Surfing</td>\n",
       "      <td>Truman Van Patrick</td>\n",
       "      <td>M</td>\n",
       "      <td>25.0</td>\n",
       "      <td>N</td>\n",
       "      <td>NaN</td>\n",
       "      <td>NaN</td>\n",
       "    </tr>\n",
       "    <tr>\n",
       "      <th>4</th>\n",
       "      <td>2021-10-03</td>\n",
       "      <td>2021.0</td>\n",
       "      <td>Unprovoked</td>\n",
       "      <td>USA</td>\n",
       "      <td>Florida</td>\n",
       "      <td>Jensen Beach, Martin County</td>\n",
       "      <td>Swimming</td>\n",
       "      <td>male</td>\n",
       "      <td>M</td>\n",
       "      <td>NaN</td>\n",
       "      <td>N</td>\n",
       "      <td>12h00</td>\n",
       "      <td>NaN</td>\n",
       "    </tr>\n",
       "  </tbody>\n",
       "</table>\n",
       "</div>"
      ],
      "text/plain": [
       "         date    year        type    country                area  \\\n",
       "0  2023-05-13  2023.0  Unprovoked  AUSTRALIA     South Australia   \n",
       "1  2023-04-29  2023.0  Unprovoked  AUSTRALIA   Western Australia   \n",
       "2  2022-10-07  2022.0  Unprovoked  AUSTRALIA  Western  Australia   \n",
       "3  2021-10-04  2021.0  Unprovoked        USA             Florida   \n",
       "4  2021-10-03  2021.0  Unprovoked        USA             Florida   \n",
       "\n",
       "                                   location      activity                name  \\\n",
       "0                                  Elliston       Surfing    Simon Baccanello   \n",
       "1                      Yallingup, Busselton      Swimming                male   \n",
       "2                              Port Hedland  Spearfishing         Robbie Peck   \n",
       "3  Fort Pierce State Park, St. Lucie County       Surfing  Truman Van Patrick   \n",
       "4               Jensen Beach, Martin County      Swimming                male   \n",
       "\n",
       "  sex   age fatal_y_n   time      species  \n",
       "0   M    46         Y  10h10  White shark  \n",
       "1   M   NaN         N  11h20     1m shark  \n",
       "2   M    38         N  11h30   Bull shark  \n",
       "3   M  25.0         N    NaN          NaN  \n",
       "4   M   NaN         N  12h00          NaN  "
      ]
     },
     "execution_count": 3,
     "metadata": {},
     "output_type": "execute_result"
    }
   ],
   "source": [
    "df.head()"
   ]
  },
  {
   "cell_type": "code",
   "execution_count": 4,
   "metadata": {},
   "outputs": [
    {
     "data": {
      "text/plain": [
       "date          303\n",
       "year          132\n",
       "type           19\n",
       "country        51\n",
       "area          481\n",
       "location      565\n",
       "activity      586\n",
       "name          220\n",
       "sex           572\n",
       "age          2987\n",
       "fatal_y_n       0\n",
       "time         3518\n",
       "species      3118\n",
       "dtype: int64"
      ]
     },
     "execution_count": 4,
     "metadata": {},
     "output_type": "execute_result"
    }
   ],
   "source": [
    "df.isnull().sum()"
   ]
  },
  {
   "cell_type": "code",
   "execution_count": 5,
   "metadata": {},
   "outputs": [
    {
     "data": {
      "text/plain": [
       "(6890, 13)"
      ]
     },
     "execution_count": 5,
     "metadata": {},
     "output_type": "execute_result"
    }
   ],
   "source": [
    "df.shape"
   ]
  },
  {
   "cell_type": "code",
   "execution_count": 4,
   "metadata": {},
   "outputs": [
    {
     "name": "stdout",
     "output_type": "stream",
     "text": [
      "Shape of cleaned data: (6886, 13) - Remaining NAs: 12531\n",
      "\n",
      "\n",
      "Dropped rows: 4\n",
      "     of which 3 duplicates. (Rows (first 150 shown): [3923, 5356, 6370])\n",
      "\n",
      "Dropped columns: 0\n",
      "     of which 0 single valued.     Columns: []\n",
      "Dropped missing values: 21\n",
      "Reduced memory by at least: 0.16 MB (-23.53%)\n",
      "\n"
     ]
    }
   ],
   "source": [
    "df = klib.data_cleaning(df)"
   ]
  },
  {
   "cell_type": "code",
   "execution_count": 12,
   "metadata": {},
   "outputs": [
    {
     "data": {
      "text/plain": [
       "(6886, 13)"
      ]
     },
     "execution_count": 12,
     "metadata": {},
     "output_type": "execute_result"
    }
   ],
   "source": [
    "df.shape"
   ]
  },
  {
   "cell_type": "code",
   "execution_count": 7,
   "metadata": {},
   "outputs": [
    {
     "data": {
      "text/plain": [
       "date          301\n",
       "year          131\n",
       "type           18\n",
       "country        50\n",
       "area          480\n",
       "location      564\n",
       "activity      585\n",
       "name          219\n",
       "sex           571\n",
       "age          2983\n",
       "fatal_y_n       0\n",
       "time         3514\n",
       "species      3115\n",
       "dtype: int64"
      ]
     },
     "execution_count": 7,
     "metadata": {},
     "output_type": "execute_result"
    }
   ],
   "source": [
    "df.isnull().sum()"
   ]
  },
  {
   "cell_type": "code",
   "execution_count": null,
   "metadata": {},
   "outputs": [
    {
     "name": "stdout",
     "output_type": "stream",
     "text": [
      "<class 'pandas.core.frame.DataFrame'>\n",
      "RangeIndex: 6886 entries, 0 to 6885\n",
      "Data columns (total 13 columns):\n",
      " #   Column     Non-Null Count  Dtype   \n",
      "---  ------     --------------  -----   \n",
      " 0   date       6585 non-null   string  \n",
      " 1   year       6755 non-null   float32 \n",
      " 2   type       6868 non-null   category\n",
      " 3   country    6836 non-null   string  \n",
      " 4   area       6406 non-null   string  \n",
      " 5   location   6322 non-null   string  \n",
      " 6   activity   6301 non-null   string  \n",
      " 7   name       6667 non-null   string  \n",
      " 8   sex        6315 non-null   category\n",
      " 9   age        3903 non-null   string  \n",
      " 10  fatal_y_n  6886 non-null   category\n",
      " 11  time       3372 non-null   string  \n",
      " 12  species    3771 non-null   string  \n",
      "dtypes: category(3), float32(1), string(9)\n",
      "memory usage: 532.3 KB\n"
     ]
    }
   ],
   "source": [
    "df.info() # --> klib"
   ]
  },
  {
   "cell_type": "code",
   "execution_count": null,
   "metadata": {},
   "outputs": [
    {
     "name": "stdout",
     "output_type": "stream",
     "text": [
      "<class 'pandas.core.frame.DataFrame'>\n",
      "RangeIndex: 6890 entries, 0 to 6889\n",
      "Data columns (total 13 columns):\n",
      " #   Column     Non-Null Count  Dtype  \n",
      "---  ------     --------------  -----  \n",
      " 0   date       6587 non-null   object \n",
      " 1   year       6758 non-null   float64\n",
      " 2   type       6871 non-null   object \n",
      " 3   country    6839 non-null   object \n",
      " 4   area       6409 non-null   object \n",
      " 5   location   6325 non-null   object \n",
      " 6   activity   6304 non-null   object \n",
      " 7   name       6670 non-null   object \n",
      " 8   sex        6318 non-null   object \n",
      " 9   age        3903 non-null   object \n",
      " 10  fatal_y_n  6890 non-null   object \n",
      " 11  time       3372 non-null   object \n",
      " 12  species    3772 non-null   object \n",
      "dtypes: float64(1), object(12)\n",
      "memory usage: 699.9+ KB\n"
     ]
    }
   ],
   "source": [
    "df.info() # --> no klib (look at the memory usage)"
   ]
  },
  {
   "cell_type": "markdown",
   "metadata": {},
   "source": [
    "Data Preprocessing"
   ]
  },
  {
   "cell_type": "code",
   "execution_count": 5,
   "metadata": {},
   "outputs": [],
   "source": [
    "#For klib\n",
    "\n",
    "for col in df.columns:\n",
    "  if df[col].dtype == \"string\" or df[col].dtype.name == \"category\":\n",
    "    df[col].fillna(df[col].mode()[0], inplace=True)\n",
    "  elif df[col].dtype in ['float32', 'int32']:\n",
    "    df[col].fillna(df[col].median(), inplace=True)"
   ]
  },
  {
   "cell_type": "code",
   "execution_count": 6,
   "metadata": {},
   "outputs": [],
   "source": [
    "# no klib\n",
    "\n",
    "for col in df.columns:\n",
    "  if df[col].dtype == \"object\":\n",
    "    df[col].fillna(df[col].mode()[0], inplace=True)\n",
    "  elif df[col].dtype in ['float64', 'int64']:\n",
    "    df[col].fillna(df[col].median(), inplace=True)"
   ]
  },
  {
   "cell_type": "code",
   "execution_count": 7,
   "metadata": {},
   "outputs": [
    {
     "data": {
      "text/plain": [
       "0       2023.0\n",
       "1       2023.0\n",
       "2       2022.0\n",
       "3       2021.0\n",
       "4       2021.0\n",
       "         ...  \n",
       "6885    1986.0\n",
       "6886    1986.0\n",
       "6887    1986.0\n",
       "6888    1986.0\n",
       "6889    1986.0\n",
       "Name: year, Length: 6890, dtype: float64"
      ]
     },
     "execution_count": 7,
     "metadata": {},
     "output_type": "execute_result"
    }
   ],
   "source": [
    "df['year']"
   ]
  },
  {
   "cell_type": "code",
   "execution_count": 6,
   "metadata": {},
   "outputs": [
    {
     "data": {
      "text/plain": [
       "date         0\n",
       "year         0\n",
       "type         0\n",
       "country      0\n",
       "area         0\n",
       "location     0\n",
       "activity     0\n",
       "name         0\n",
       "sex          0\n",
       "age          0\n",
       "fatal_y_n    0\n",
       "time         0\n",
       "species      0\n",
       "dtype: int64"
      ]
     },
     "execution_count": 6,
     "metadata": {},
     "output_type": "execute_result"
    }
   ],
   "source": [
    "df.isnull().sum()"
   ]
  },
  {
   "cell_type": "code",
   "execution_count": 7,
   "metadata": {},
   "outputs": [
    {
     "name": "stdout",
     "output_type": "stream",
     "text": [
      "<class 'pandas.core.frame.DataFrame'>\n",
      "RangeIndex: 6886 entries, 0 to 6885\n",
      "Data columns (total 13 columns):\n",
      " #   Column     Non-Null Count  Dtype   \n",
      "---  ------     --------------  -----   \n",
      " 0   date       6886 non-null   string  \n",
      " 1   year       6886 non-null   float32 \n",
      " 2   type       6886 non-null   category\n",
      " 3   country    6886 non-null   string  \n",
      " 4   area       6886 non-null   string  \n",
      " 5   location   6886 non-null   string  \n",
      " 6   activity   6886 non-null   string  \n",
      " 7   name       6886 non-null   string  \n",
      " 8   sex        6886 non-null   category\n",
      " 9   age        6886 non-null   string  \n",
      " 10  fatal_y_n  6886 non-null   category\n",
      " 11  time       6886 non-null   string  \n",
      " 12  species    6886 non-null   string  \n",
      "dtypes: category(3), float32(1), string(9)\n",
      "memory usage: 532.3 KB\n"
     ]
    }
   ],
   "source": [
    "df.info()"
   ]
  },
  {
   "cell_type": "markdown",
   "metadata": {},
   "source": [
    "Encoding"
   ]
  },
  {
   "cell_type": "code",
   "execution_count": 6,
   "metadata": {},
   "outputs": [],
   "source": [
    "df_encoded = df.copy()\n",
    "\n",
    "# for klib\n",
    "for col in df_encoded.select_dtypes(include=['string','category']).columns:\n",
    "  cardinality = df_encoded[col].nunique()\n",
    "  if cardinality >= 5:\n",
    "    le = LabelEncoder()\n",
    "    df_encoded[col] = le.fit_transform(df_encoded[col])\n",
    "  else:\n",
    "    df_encoded = pd.get_dummies(df_encoded, columns=[col], dtype=int, drop_first=True) \n",
    "\n",
    " "
   ]
  },
  {
   "cell_type": "code",
   "execution_count": 14,
   "metadata": {},
   "outputs": [],
   "source": [
    "# for no klib\n",
    "\n",
    "df_encoded = df.copy()\n",
    "for col in df_encoded:\n",
    "  if df_encoded[col].dtypes =='object':\n",
    "   cardinality = df_encoded[col].nunique()\n",
    "  if cardinality >= 5:\n",
    "    le = LabelEncoder()\n",
    "    df_encoded[col] = le.fit_transform(df_encoded[col])\n",
    "  else:\n",
    "    df_encoded = pd.get_dummies(df_encoded, columns=[col], dtype=int, drop_first=True) "
   ]
  },
  {
   "cell_type": "code",
   "execution_count": 11,
   "metadata": {},
   "outputs": [
    {
     "data": {
      "text/html": [
       "<div>\n",
       "<style scoped>\n",
       "    .dataframe tbody tr th:only-of-type {\n",
       "        vertical-align: middle;\n",
       "    }\n",
       "\n",
       "    .dataframe tbody tr th {\n",
       "        vertical-align: top;\n",
       "    }\n",
       "\n",
       "    .dataframe thead th {\n",
       "        text-align: right;\n",
       "    }\n",
       "</style>\n",
       "<table border=\"1\" class=\"dataframe\">\n",
       "  <thead>\n",
       "    <tr style=\"text-align: right;\">\n",
       "      <th></th>\n",
       "      <th>date</th>\n",
       "      <th>year</th>\n",
       "      <th>type</th>\n",
       "      <th>country</th>\n",
       "      <th>area</th>\n",
       "      <th>location</th>\n",
       "      <th>activity</th>\n",
       "      <th>name</th>\n",
       "      <th>sex</th>\n",
       "      <th>age</th>\n",
       "      <th>fatal_y_n</th>\n",
       "      <th>time</th>\n",
       "      <th>species</th>\n",
       "    </tr>\n",
       "  </thead>\n",
       "  <tbody>\n",
       "    <tr>\n",
       "      <th>0</th>\n",
       "      <td>5534</td>\n",
       "      <td>2023.0</td>\n",
       "      <td>8</td>\n",
       "      <td>12</td>\n",
       "      <td>707</td>\n",
       "      <td>1124</td>\n",
       "      <td>1165</td>\n",
       "      <td>4662</td>\n",
       "      <td>2</td>\n",
       "      <td>122</td>\n",
       "      <td>5</td>\n",
       "      <td>92</td>\n",
       "      <td>1289</td>\n",
       "    </tr>\n",
       "    <tr>\n",
       "      <th>1</th>\n",
       "      <td>5529</td>\n",
       "      <td>2023.0</td>\n",
       "      <td>8</td>\n",
       "      <td>12</td>\n",
       "      <td>841</td>\n",
       "      <td>4378</td>\n",
       "      <td>1201</td>\n",
       "      <td>5511</td>\n",
       "      <td>2</td>\n",
       "      <td>24</td>\n",
       "      <td>2</td>\n",
       "      <td>122</td>\n",
       "      <td>165</td>\n",
       "    </tr>\n",
       "    <tr>\n",
       "      <th>2</th>\n",
       "      <td>5492</td>\n",
       "      <td>2022.0</td>\n",
       "      <td>8</td>\n",
       "      <td>12</td>\n",
       "      <td>839</td>\n",
       "      <td>3198</td>\n",
       "      <td>1054</td>\n",
       "      <td>4290</td>\n",
       "      <td>2</td>\n",
       "      <td>102</td>\n",
       "      <td>2</td>\n",
       "      <td>125</td>\n",
       "      <td>641</td>\n",
       "    </tr>\n",
       "    <tr>\n",
       "      <th>3</th>\n",
       "      <td>5413</td>\n",
       "      <td>2021.0</td>\n",
       "      <td>8</td>\n",
       "      <td>208</td>\n",
       "      <td>261</td>\n",
       "      <td>1257</td>\n",
       "      <td>1165</td>\n",
       "      <td>4998</td>\n",
       "      <td>2</td>\n",
       "      <td>59</td>\n",
       "      <td>2</td>\n",
       "      <td>341</td>\n",
       "      <td>1289</td>\n",
       "    </tr>\n",
       "    <tr>\n",
       "      <th>4</th>\n",
       "      <td>5412</td>\n",
       "      <td>2021.0</td>\n",
       "      <td>8</td>\n",
       "      <td>208</td>\n",
       "      <td>261</td>\n",
       "      <td>1686</td>\n",
       "      <td>1201</td>\n",
       "      <td>5511</td>\n",
       "      <td>2</td>\n",
       "      <td>24</td>\n",
       "      <td>2</td>\n",
       "      <td>140</td>\n",
       "      <td>1289</td>\n",
       "    </tr>\n",
       "  </tbody>\n",
       "</table>\n",
       "</div>"
      ],
      "text/plain": [
       "   date    year  type  country  area  location  activity  name  sex  age  \\\n",
       "0  5534  2023.0     8       12   707      1124      1165  4662    2  122   \n",
       "1  5529  2023.0     8       12   841      4378      1201  5511    2   24   \n",
       "2  5492  2022.0     8       12   839      3198      1054  4290    2  102   \n",
       "3  5413  2021.0     8      208   261      1257      1165  4998    2   59   \n",
       "4  5412  2021.0     8      208   261      1686      1201  5511    2   24   \n",
       "\n",
       "   fatal_y_n  time  species  \n",
       "0          5    92     1289  \n",
       "1          2   122      165  \n",
       "2          2   125      641  \n",
       "3          2   341     1289  \n",
       "4          2   140     1289  "
      ]
     },
     "execution_count": 11,
     "metadata": {},
     "output_type": "execute_result"
    }
   ],
   "source": [
    "df_encoded.head()"
   ]
  },
  {
   "cell_type": "code",
   "execution_count": 15,
   "metadata": {},
   "outputs": [],
   "source": [
    "df = df_encoded"
   ]
  },
  {
   "cell_type": "code",
   "execution_count": 13,
   "metadata": {},
   "outputs": [
    {
     "data": {
      "text/html": [
       "<div>\n",
       "<style scoped>\n",
       "    .dataframe tbody tr th:only-of-type {\n",
       "        vertical-align: middle;\n",
       "    }\n",
       "\n",
       "    .dataframe tbody tr th {\n",
       "        vertical-align: top;\n",
       "    }\n",
       "\n",
       "    .dataframe thead th {\n",
       "        text-align: right;\n",
       "    }\n",
       "</style>\n",
       "<table border=\"1\" class=\"dataframe\">\n",
       "  <thead>\n",
       "    <tr style=\"text-align: right;\">\n",
       "      <th></th>\n",
       "      <th>date</th>\n",
       "      <th>year</th>\n",
       "      <th>type</th>\n",
       "      <th>country</th>\n",
       "      <th>area</th>\n",
       "      <th>location</th>\n",
       "      <th>activity</th>\n",
       "      <th>name</th>\n",
       "      <th>sex</th>\n",
       "      <th>age</th>\n",
       "      <th>fatal_y_n</th>\n",
       "      <th>time</th>\n",
       "      <th>species</th>\n",
       "    </tr>\n",
       "  </thead>\n",
       "  <tbody>\n",
       "    <tr>\n",
       "      <th>0</th>\n",
       "      <td>5534</td>\n",
       "      <td>2023.0</td>\n",
       "      <td>8</td>\n",
       "      <td>12</td>\n",
       "      <td>707</td>\n",
       "      <td>1124</td>\n",
       "      <td>1165</td>\n",
       "      <td>4662</td>\n",
       "      <td>2</td>\n",
       "      <td>122</td>\n",
       "      <td>5</td>\n",
       "      <td>92</td>\n",
       "      <td>1289</td>\n",
       "    </tr>\n",
       "    <tr>\n",
       "      <th>1</th>\n",
       "      <td>5529</td>\n",
       "      <td>2023.0</td>\n",
       "      <td>8</td>\n",
       "      <td>12</td>\n",
       "      <td>841</td>\n",
       "      <td>4378</td>\n",
       "      <td>1201</td>\n",
       "      <td>5511</td>\n",
       "      <td>2</td>\n",
       "      <td>24</td>\n",
       "      <td>2</td>\n",
       "      <td>122</td>\n",
       "      <td>165</td>\n",
       "    </tr>\n",
       "    <tr>\n",
       "      <th>2</th>\n",
       "      <td>5492</td>\n",
       "      <td>2022.0</td>\n",
       "      <td>8</td>\n",
       "      <td>12</td>\n",
       "      <td>839</td>\n",
       "      <td>3198</td>\n",
       "      <td>1054</td>\n",
       "      <td>4290</td>\n",
       "      <td>2</td>\n",
       "      <td>102</td>\n",
       "      <td>2</td>\n",
       "      <td>125</td>\n",
       "      <td>641</td>\n",
       "    </tr>\n",
       "    <tr>\n",
       "      <th>3</th>\n",
       "      <td>5413</td>\n",
       "      <td>2021.0</td>\n",
       "      <td>8</td>\n",
       "      <td>208</td>\n",
       "      <td>261</td>\n",
       "      <td>1257</td>\n",
       "      <td>1165</td>\n",
       "      <td>4998</td>\n",
       "      <td>2</td>\n",
       "      <td>59</td>\n",
       "      <td>2</td>\n",
       "      <td>341</td>\n",
       "      <td>1289</td>\n",
       "    </tr>\n",
       "    <tr>\n",
       "      <th>4</th>\n",
       "      <td>5412</td>\n",
       "      <td>2021.0</td>\n",
       "      <td>8</td>\n",
       "      <td>208</td>\n",
       "      <td>261</td>\n",
       "      <td>1686</td>\n",
       "      <td>1201</td>\n",
       "      <td>5511</td>\n",
       "      <td>2</td>\n",
       "      <td>24</td>\n",
       "      <td>2</td>\n",
       "      <td>140</td>\n",
       "      <td>1289</td>\n",
       "    </tr>\n",
       "  </tbody>\n",
       "</table>\n",
       "</div>"
      ],
      "text/plain": [
       "   date    year  type  country  area  location  activity  name  sex  age  \\\n",
       "0  5534  2023.0     8       12   707      1124      1165  4662    2  122   \n",
       "1  5529  2023.0     8       12   841      4378      1201  5511    2   24   \n",
       "2  5492  2022.0     8       12   839      3198      1054  4290    2  102   \n",
       "3  5413  2021.0     8      208   261      1257      1165  4998    2   59   \n",
       "4  5412  2021.0     8      208   261      1686      1201  5511    2   24   \n",
       "\n",
       "   fatal_y_n  time  species  \n",
       "0          5    92     1289  \n",
       "1          2   122      165  \n",
       "2          2   125      641  \n",
       "3          2   341     1289  \n",
       "4          2   140     1289  "
      ]
     },
     "execution_count": 13,
     "metadata": {},
     "output_type": "execute_result"
    }
   ],
   "source": [
    "df.head()"
   ]
  },
  {
   "cell_type": "code",
   "execution_count": null,
   "metadata": {},
   "outputs": [
    {
     "name": "stdout",
     "output_type": "stream",
     "text": [
      "<class 'pandas.core.frame.DataFrame'>\n",
      "RangeIndex: 6886 entries, 0 to 6885\n",
      "Data columns (total 13 columns):\n",
      " #   Column     Non-Null Count  Dtype  \n",
      "---  ------     --------------  -----  \n",
      " 0   date       6886 non-null   int64  \n",
      " 1   year       6886 non-null   float32\n",
      " 2   type       6886 non-null   int64  \n",
      " 3   country    6886 non-null   int64  \n",
      " 4   area       6886 non-null   int64  \n",
      " 5   location   6886 non-null   int64  \n",
      " 6   activity   6886 non-null   int64  \n",
      " 7   name       6886 non-null   int64  \n",
      " 8   sex        6886 non-null   int64  \n",
      " 9   age        6886 non-null   int64  \n",
      " 10  fatal_y_n  6886 non-null   int64  \n",
      " 11  time       6886 non-null   int64  \n",
      " 12  species    6886 non-null   int64  \n",
      "dtypes: float32(1), int64(12)\n",
      "memory usage: 672.6 KB\n"
     ]
    }
   ],
   "source": [
    "df.info() #klib"
   ]
  },
  {
   "cell_type": "code",
   "execution_count": null,
   "metadata": {},
   "outputs": [
    {
     "name": "stdout",
     "output_type": "stream",
     "text": [
      "<class 'pandas.core.frame.DataFrame'>\n",
      "RangeIndex: 6890 entries, 0 to 6889\n",
      "Data columns (total 13 columns):\n",
      " #   Column     Non-Null Count  Dtype\n",
      "---  ------     --------------  -----\n",
      " 0   date       6890 non-null   int64\n",
      " 1   year       6890 non-null   int64\n",
      " 2   type       6890 non-null   int64\n",
      " 3   country    6890 non-null   int64\n",
      " 4   area       6890 non-null   int64\n",
      " 5   location   6890 non-null   int64\n",
      " 6   activity   6890 non-null   int64\n",
      " 7   name       6890 non-null   int64\n",
      " 8   sex        6890 non-null   int64\n",
      " 9   age        6890 non-null   int64\n",
      " 10  fatal_y_n  6890 non-null   int64\n",
      " 11  time       6890 non-null   int64\n",
      " 12  species    6890 non-null   int64\n",
      "dtypes: int64(13)\n",
      "memory usage: 699.9 KB\n"
     ]
    }
   ],
   "source": [
    "df.info() #no klib"
   ]
  },
  {
   "cell_type": "markdown",
   "metadata": {},
   "source": [
    "Scaling"
   ]
  },
  {
   "cell_type": "code",
   "execution_count": 7,
   "metadata": {},
   "outputs": [
    {
     "data": {
      "text/html": [
       "<div>\n",
       "<style scoped>\n",
       "    .dataframe tbody tr th:only-of-type {\n",
       "        vertical-align: middle;\n",
       "    }\n",
       "\n",
       "    .dataframe tbody tr th {\n",
       "        vertical-align: top;\n",
       "    }\n",
       "\n",
       "    .dataframe thead th {\n",
       "        text-align: right;\n",
       "    }\n",
       "</style>\n",
       "<table border=\"1\" class=\"dataframe\">\n",
       "  <thead>\n",
       "    <tr style=\"text-align: right;\">\n",
       "      <th></th>\n",
       "      <th>date</th>\n",
       "      <th>year</th>\n",
       "      <th>type</th>\n",
       "      <th>country</th>\n",
       "      <th>area</th>\n",
       "      <th>location</th>\n",
       "      <th>activity</th>\n",
       "      <th>name</th>\n",
       "      <th>sex</th>\n",
       "      <th>age</th>\n",
       "      <th>fatal_y_n</th>\n",
       "      <th>time</th>\n",
       "      <th>species</th>\n",
       "    </tr>\n",
       "  </thead>\n",
       "  <tbody>\n",
       "    <tr>\n",
       "      <th>0</th>\n",
       "      <td>2023-05-13</td>\n",
       "      <td>0.928780</td>\n",
       "      <td>Unprovoked</td>\n",
       "      <td>AUSTRALIA</td>\n",
       "      <td>South Australia</td>\n",
       "      <td>Elliston</td>\n",
       "      <td>Surfing</td>\n",
       "      <td>Simon Baccanello</td>\n",
       "      <td>M</td>\n",
       "      <td>46</td>\n",
       "      <td>Y</td>\n",
       "      <td>10h10</td>\n",
       "      <td>White shark</td>\n",
       "    </tr>\n",
       "    <tr>\n",
       "      <th>1</th>\n",
       "      <td>2023-04-29</td>\n",
       "      <td>0.928780</td>\n",
       "      <td>Unprovoked</td>\n",
       "      <td>AUSTRALIA</td>\n",
       "      <td>Western Australia</td>\n",
       "      <td>Yallingup, Busselton</td>\n",
       "      <td>Swimming</td>\n",
       "      <td>male</td>\n",
       "      <td>M</td>\n",
       "      <td>16.0</td>\n",
       "      <td>N</td>\n",
       "      <td>11h20</td>\n",
       "      <td>1m shark</td>\n",
       "    </tr>\n",
       "    <tr>\n",
       "      <th>2</th>\n",
       "      <td>2022-10-07</td>\n",
       "      <td>0.910832</td>\n",
       "      <td>Unprovoked</td>\n",
       "      <td>AUSTRALIA</td>\n",
       "      <td>Western  Australia</td>\n",
       "      <td>Port Hedland</td>\n",
       "      <td>Spearfishing</td>\n",
       "      <td>Robbie Peck</td>\n",
       "      <td>M</td>\n",
       "      <td>38</td>\n",
       "      <td>N</td>\n",
       "      <td>11h30</td>\n",
       "      <td>Bull shark</td>\n",
       "    </tr>\n",
       "    <tr>\n",
       "      <th>3</th>\n",
       "      <td>2021-10-04</td>\n",
       "      <td>0.892885</td>\n",
       "      <td>Unprovoked</td>\n",
       "      <td>USA</td>\n",
       "      <td>Florida</td>\n",
       "      <td>Fort Pierce State Park, St. Lucie County</td>\n",
       "      <td>Surfing</td>\n",
       "      <td>Truman Van Patrick</td>\n",
       "      <td>M</td>\n",
       "      <td>25.0</td>\n",
       "      <td>N</td>\n",
       "      <td>Afternoon</td>\n",
       "      <td>White shark</td>\n",
       "    </tr>\n",
       "    <tr>\n",
       "      <th>4</th>\n",
       "      <td>2021-10-03</td>\n",
       "      <td>0.892885</td>\n",
       "      <td>Unprovoked</td>\n",
       "      <td>USA</td>\n",
       "      <td>Florida</td>\n",
       "      <td>Jensen Beach, Martin County</td>\n",
       "      <td>Swimming</td>\n",
       "      <td>male</td>\n",
       "      <td>M</td>\n",
       "      <td>16.0</td>\n",
       "      <td>N</td>\n",
       "      <td>12h00</td>\n",
       "      <td>White shark</td>\n",
       "    </tr>\n",
       "  </tbody>\n",
       "</table>\n",
       "</div>"
      ],
      "text/plain": [
       "         date      year        type    country                area  \\\n",
       "0  2023-05-13  0.928780  Unprovoked  AUSTRALIA     South Australia   \n",
       "1  2023-04-29  0.928780  Unprovoked  AUSTRALIA   Western Australia   \n",
       "2  2022-10-07  0.910832  Unprovoked  AUSTRALIA  Western  Australia   \n",
       "3  2021-10-04  0.892885  Unprovoked        USA             Florida   \n",
       "4  2021-10-03  0.892885  Unprovoked        USA             Florida   \n",
       "\n",
       "                                   location      activity                name  \\\n",
       "0                                  Elliston       Surfing    Simon Baccanello   \n",
       "1                      Yallingup, Busselton      Swimming                male   \n",
       "2                              Port Hedland  Spearfishing         Robbie Peck   \n",
       "3  Fort Pierce State Park, St. Lucie County       Surfing  Truman Van Patrick   \n",
       "4               Jensen Beach, Martin County      Swimming                male   \n",
       "\n",
       "  sex   age fatal_y_n       time      species  \n",
       "0   M    46         Y      10h10  White shark  \n",
       "1   M  16.0         N      11h20     1m shark  \n",
       "2   M    38         N      11h30   Bull shark  \n",
       "3   M  25.0         N  Afternoon  White shark  \n",
       "4   M  16.0         N      12h00  White shark  "
      ]
     },
     "execution_count": 7,
     "metadata": {},
     "output_type": "execute_result"
    }
   ],
   "source": [
    "num_col = df.select_dtypes(include=['int64', 'float32']).columns\n",
    "\n",
    "#klib\n",
    "scaler = StandardScaler()\n",
    "df[num_col] = scaler.fit_transform(df[num_col])\n",
    "df.head()"
   ]
  },
  {
   "cell_type": "code",
   "execution_count": 17,
   "metadata": {},
   "outputs": [],
   "source": [
    "#no klib\n",
    "num_col = df.select_dtypes(include=['int64']).columns\n",
    "scaler = StandardScaler()\n",
    "df[num_col] = scaler.fit_transform(df[num_col])"
   ]
  },
  {
   "cell_type": "code",
   "execution_count": 18,
   "metadata": {},
   "outputs": [
    {
     "data": {
      "text/plain": [
       "1560"
      ]
     },
     "execution_count": 18,
     "metadata": {},
     "output_type": "execute_result"
    }
   ],
   "source": [
    "# choosing linear assuming our target variable is species\n",
    "df['species'].nunique()"
   ]
  },
  {
   "cell_type": "code",
   "execution_count": 22,
   "metadata": {},
   "outputs": [
    {
     "data": {
      "text/plain": [
       "species\n",
       " 0.661725    3307\n",
       " 0.165249     105\n",
       "-0.554035     102\n",
       " 0.131344      92\n",
       " 0.375949      89\n",
       "             ... \n",
       "-1.803700       1\n",
       "-0.096308       1\n",
       " 0.608445       1\n",
       " 0.141031       1\n",
       "-0.752625       1\n",
       "Name: count, Length: 1560, dtype: int64"
      ]
     },
     "execution_count": 22,
     "metadata": {},
     "output_type": "execute_result"
    }
   ],
   "source": [
    "df['species'].value_counts()"
   ]
  },
  {
   "cell_type": "markdown",
   "metadata": {},
   "source": [
    "Model Selection"
   ]
  },
  {
   "cell_type": "code",
   "execution_count": 8,
   "metadata": {},
   "outputs": [],
   "source": [
    "x = df.drop(columns=['species'])\n",
    "y = df['species']\n",
    "\n",
    "x_train,x_temp,y_train,y_temp=train_test_split(x,y,test_size=0.2,random_state=42)\n",
    "x_test,x_val,y_test,y_val=train_test_split(x_temp,y_temp,test_size=0.5,random_state=42)"
   ]
  },
  {
   "cell_type": "code",
   "execution_count": 9,
   "metadata": {},
   "outputs": [
    {
     "data": {
      "text/plain": [
       "((1378, 12), (1378,))"
      ]
     },
     "execution_count": 9,
     "metadata": {},
     "output_type": "execute_result"
    }
   ],
   "source": [
    "x_temp.shape, y_temp.shape"
   ]
  },
  {
   "cell_type": "code",
   "execution_count": 10,
   "metadata": {},
   "outputs": [
    {
     "data": {
      "text/plain": [
       "((689, 12), (689,))"
      ]
     },
     "execution_count": 10,
     "metadata": {},
     "output_type": "execute_result"
    }
   ],
   "source": [
    "x_test.shape, y_test.shape"
   ]
  },
  {
   "cell_type": "code",
   "execution_count": 15,
   "metadata": {},
   "outputs": [
    {
     "data": {
      "text/plain": [
       "((689, 12), (689,))"
      ]
     },
     "execution_count": 15,
     "metadata": {},
     "output_type": "execute_result"
    }
   ],
   "source": [
    "x_val.shape, y_val.shape"
   ]
  },
  {
   "cell_type": "code",
   "execution_count": 14,
   "metadata": {},
   "outputs": [
    {
     "data": {
      "text/plain": [
       "969                             White shark\n",
       "6566                          a small shark\n",
       "4338        Shark involvement not confirmed\n",
       "5514    3 m to 4 m [10' to 13'] white shark\n",
       "5985        Shark involvement not confirmed\n",
       "Name: species, dtype: string"
      ]
     },
     "execution_count": 14,
     "metadata": {},
     "output_type": "execute_result"
    }
   ],
   "source": [
    "y_train.head()"
   ]
  },
  {
   "cell_type": "code",
   "execution_count": 21,
   "metadata": {},
   "outputs": [
    {
     "data": {
      "text/html": [
       "<style>#sk-container-id-1 {\n",
       "  /* Definition of color scheme common for light and dark mode */\n",
       "  --sklearn-color-text: #000;\n",
       "  --sklearn-color-text-muted: #666;\n",
       "  --sklearn-color-line: gray;\n",
       "  /* Definition of color scheme for unfitted estimators */\n",
       "  --sklearn-color-unfitted-level-0: #fff5e6;\n",
       "  --sklearn-color-unfitted-level-1: #f6e4d2;\n",
       "  --sklearn-color-unfitted-level-2: #ffe0b3;\n",
       "  --sklearn-color-unfitted-level-3: chocolate;\n",
       "  /* Definition of color scheme for fitted estimators */\n",
       "  --sklearn-color-fitted-level-0: #f0f8ff;\n",
       "  --sklearn-color-fitted-level-1: #d4ebff;\n",
       "  --sklearn-color-fitted-level-2: #b3dbfd;\n",
       "  --sklearn-color-fitted-level-3: cornflowerblue;\n",
       "\n",
       "  /* Specific color for light theme */\n",
       "  --sklearn-color-text-on-default-background: var(--sg-text-color, var(--theme-code-foreground, var(--jp-content-font-color1, black)));\n",
       "  --sklearn-color-background: var(--sg-background-color, var(--theme-background, var(--jp-layout-color0, white)));\n",
       "  --sklearn-color-border-box: var(--sg-text-color, var(--theme-code-foreground, var(--jp-content-font-color1, black)));\n",
       "  --sklearn-color-icon: #696969;\n",
       "\n",
       "  @media (prefers-color-scheme: dark) {\n",
       "    /* Redefinition of color scheme for dark theme */\n",
       "    --sklearn-color-text-on-default-background: var(--sg-text-color, var(--theme-code-foreground, var(--jp-content-font-color1, white)));\n",
       "    --sklearn-color-background: var(--sg-background-color, var(--theme-background, var(--jp-layout-color0, #111)));\n",
       "    --sklearn-color-border-box: var(--sg-text-color, var(--theme-code-foreground, var(--jp-content-font-color1, white)));\n",
       "    --sklearn-color-icon: #878787;\n",
       "  }\n",
       "}\n",
       "\n",
       "#sk-container-id-1 {\n",
       "  color: var(--sklearn-color-text);\n",
       "}\n",
       "\n",
       "#sk-container-id-1 pre {\n",
       "  padding: 0;\n",
       "}\n",
       "\n",
       "#sk-container-id-1 input.sk-hidden--visually {\n",
       "  border: 0;\n",
       "  clip: rect(1px 1px 1px 1px);\n",
       "  clip: rect(1px, 1px, 1px, 1px);\n",
       "  height: 1px;\n",
       "  margin: -1px;\n",
       "  overflow: hidden;\n",
       "  padding: 0;\n",
       "  position: absolute;\n",
       "  width: 1px;\n",
       "}\n",
       "\n",
       "#sk-container-id-1 div.sk-dashed-wrapped {\n",
       "  border: 1px dashed var(--sklearn-color-line);\n",
       "  margin: 0 0.4em 0.5em 0.4em;\n",
       "  box-sizing: border-box;\n",
       "  padding-bottom: 0.4em;\n",
       "  background-color: var(--sklearn-color-background);\n",
       "}\n",
       "\n",
       "#sk-container-id-1 div.sk-container {\n",
       "  /* jupyter's `normalize.less` sets `[hidden] { display: none; }`\n",
       "     but bootstrap.min.css set `[hidden] { display: none !important; }`\n",
       "     so we also need the `!important` here to be able to override the\n",
       "     default hidden behavior on the sphinx rendered scikit-learn.org.\n",
       "     See: https://github.com/scikit-learn/scikit-learn/issues/21755 */\n",
       "  display: inline-block !important;\n",
       "  position: relative;\n",
       "}\n",
       "\n",
       "#sk-container-id-1 div.sk-text-repr-fallback {\n",
       "  display: none;\n",
       "}\n",
       "\n",
       "div.sk-parallel-item,\n",
       "div.sk-serial,\n",
       "div.sk-item {\n",
       "  /* draw centered vertical line to link estimators */\n",
       "  background-image: linear-gradient(var(--sklearn-color-text-on-default-background), var(--sklearn-color-text-on-default-background));\n",
       "  background-size: 2px 100%;\n",
       "  background-repeat: no-repeat;\n",
       "  background-position: center center;\n",
       "}\n",
       "\n",
       "/* Parallel-specific style estimator block */\n",
       "\n",
       "#sk-container-id-1 div.sk-parallel-item::after {\n",
       "  content: \"\";\n",
       "  width: 100%;\n",
       "  border-bottom: 2px solid var(--sklearn-color-text-on-default-background);\n",
       "  flex-grow: 1;\n",
       "}\n",
       "\n",
       "#sk-container-id-1 div.sk-parallel {\n",
       "  display: flex;\n",
       "  align-items: stretch;\n",
       "  justify-content: center;\n",
       "  background-color: var(--sklearn-color-background);\n",
       "  position: relative;\n",
       "}\n",
       "\n",
       "#sk-container-id-1 div.sk-parallel-item {\n",
       "  display: flex;\n",
       "  flex-direction: column;\n",
       "}\n",
       "\n",
       "#sk-container-id-1 div.sk-parallel-item:first-child::after {\n",
       "  align-self: flex-end;\n",
       "  width: 50%;\n",
       "}\n",
       "\n",
       "#sk-container-id-1 div.sk-parallel-item:last-child::after {\n",
       "  align-self: flex-start;\n",
       "  width: 50%;\n",
       "}\n",
       "\n",
       "#sk-container-id-1 div.sk-parallel-item:only-child::after {\n",
       "  width: 0;\n",
       "}\n",
       "\n",
       "/* Serial-specific style estimator block */\n",
       "\n",
       "#sk-container-id-1 div.sk-serial {\n",
       "  display: flex;\n",
       "  flex-direction: column;\n",
       "  align-items: center;\n",
       "  background-color: var(--sklearn-color-background);\n",
       "  padding-right: 1em;\n",
       "  padding-left: 1em;\n",
       "}\n",
       "\n",
       "\n",
       "/* Toggleable style: style used for estimator/Pipeline/ColumnTransformer box that is\n",
       "clickable and can be expanded/collapsed.\n",
       "- Pipeline and ColumnTransformer use this feature and define the default style\n",
       "- Estimators will overwrite some part of the style using the `sk-estimator` class\n",
       "*/\n",
       "\n",
       "/* Pipeline and ColumnTransformer style (default) */\n",
       "\n",
       "#sk-container-id-1 div.sk-toggleable {\n",
       "  /* Default theme specific background. It is overwritten whether we have a\n",
       "  specific estimator or a Pipeline/ColumnTransformer */\n",
       "  background-color: var(--sklearn-color-background);\n",
       "}\n",
       "\n",
       "/* Toggleable label */\n",
       "#sk-container-id-1 label.sk-toggleable__label {\n",
       "  cursor: pointer;\n",
       "  display: flex;\n",
       "  width: 100%;\n",
       "  margin-bottom: 0;\n",
       "  padding: 0.5em;\n",
       "  box-sizing: border-box;\n",
       "  text-align: center;\n",
       "  align-items: start;\n",
       "  justify-content: space-between;\n",
       "  gap: 0.5em;\n",
       "}\n",
       "\n",
       "#sk-container-id-1 label.sk-toggleable__label .caption {\n",
       "  font-size: 0.6rem;\n",
       "  font-weight: lighter;\n",
       "  color: var(--sklearn-color-text-muted);\n",
       "}\n",
       "\n",
       "#sk-container-id-1 label.sk-toggleable__label-arrow:before {\n",
       "  /* Arrow on the left of the label */\n",
       "  content: \"▸\";\n",
       "  float: left;\n",
       "  margin-right: 0.25em;\n",
       "  color: var(--sklearn-color-icon);\n",
       "}\n",
       "\n",
       "#sk-container-id-1 label.sk-toggleable__label-arrow:hover:before {\n",
       "  color: var(--sklearn-color-text);\n",
       "}\n",
       "\n",
       "/* Toggleable content - dropdown */\n",
       "\n",
       "#sk-container-id-1 div.sk-toggleable__content {\n",
       "  max-height: 0;\n",
       "  max-width: 0;\n",
       "  overflow: hidden;\n",
       "  text-align: left;\n",
       "  /* unfitted */\n",
       "  background-color: var(--sklearn-color-unfitted-level-0);\n",
       "}\n",
       "\n",
       "#sk-container-id-1 div.sk-toggleable__content.fitted {\n",
       "  /* fitted */\n",
       "  background-color: var(--sklearn-color-fitted-level-0);\n",
       "}\n",
       "\n",
       "#sk-container-id-1 div.sk-toggleable__content pre {\n",
       "  margin: 0.2em;\n",
       "  border-radius: 0.25em;\n",
       "  color: var(--sklearn-color-text);\n",
       "  /* unfitted */\n",
       "  background-color: var(--sklearn-color-unfitted-level-0);\n",
       "}\n",
       "\n",
       "#sk-container-id-1 div.sk-toggleable__content.fitted pre {\n",
       "  /* unfitted */\n",
       "  background-color: var(--sklearn-color-fitted-level-0);\n",
       "}\n",
       "\n",
       "#sk-container-id-1 input.sk-toggleable__control:checked~div.sk-toggleable__content {\n",
       "  /* Expand drop-down */\n",
       "  max-height: 200px;\n",
       "  max-width: 100%;\n",
       "  overflow: auto;\n",
       "}\n",
       "\n",
       "#sk-container-id-1 input.sk-toggleable__control:checked~label.sk-toggleable__label-arrow:before {\n",
       "  content: \"▾\";\n",
       "}\n",
       "\n",
       "/* Pipeline/ColumnTransformer-specific style */\n",
       "\n",
       "#sk-container-id-1 div.sk-label input.sk-toggleable__control:checked~label.sk-toggleable__label {\n",
       "  color: var(--sklearn-color-text);\n",
       "  background-color: var(--sklearn-color-unfitted-level-2);\n",
       "}\n",
       "\n",
       "#sk-container-id-1 div.sk-label.fitted input.sk-toggleable__control:checked~label.sk-toggleable__label {\n",
       "  background-color: var(--sklearn-color-fitted-level-2);\n",
       "}\n",
       "\n",
       "/* Estimator-specific style */\n",
       "\n",
       "/* Colorize estimator box */\n",
       "#sk-container-id-1 div.sk-estimator input.sk-toggleable__control:checked~label.sk-toggleable__label {\n",
       "  /* unfitted */\n",
       "  background-color: var(--sklearn-color-unfitted-level-2);\n",
       "}\n",
       "\n",
       "#sk-container-id-1 div.sk-estimator.fitted input.sk-toggleable__control:checked~label.sk-toggleable__label {\n",
       "  /* fitted */\n",
       "  background-color: var(--sklearn-color-fitted-level-2);\n",
       "}\n",
       "\n",
       "#sk-container-id-1 div.sk-label label.sk-toggleable__label,\n",
       "#sk-container-id-1 div.sk-label label {\n",
       "  /* The background is the default theme color */\n",
       "  color: var(--sklearn-color-text-on-default-background);\n",
       "}\n",
       "\n",
       "/* On hover, darken the color of the background */\n",
       "#sk-container-id-1 div.sk-label:hover label.sk-toggleable__label {\n",
       "  color: var(--sklearn-color-text);\n",
       "  background-color: var(--sklearn-color-unfitted-level-2);\n",
       "}\n",
       "\n",
       "/* Label box, darken color on hover, fitted */\n",
       "#sk-container-id-1 div.sk-label.fitted:hover label.sk-toggleable__label.fitted {\n",
       "  color: var(--sklearn-color-text);\n",
       "  background-color: var(--sklearn-color-fitted-level-2);\n",
       "}\n",
       "\n",
       "/* Estimator label */\n",
       "\n",
       "#sk-container-id-1 div.sk-label label {\n",
       "  font-family: monospace;\n",
       "  font-weight: bold;\n",
       "  display: inline-block;\n",
       "  line-height: 1.2em;\n",
       "}\n",
       "\n",
       "#sk-container-id-1 div.sk-label-container {\n",
       "  text-align: center;\n",
       "}\n",
       "\n",
       "/* Estimator-specific */\n",
       "#sk-container-id-1 div.sk-estimator {\n",
       "  font-family: monospace;\n",
       "  border: 1px dotted var(--sklearn-color-border-box);\n",
       "  border-radius: 0.25em;\n",
       "  box-sizing: border-box;\n",
       "  margin-bottom: 0.5em;\n",
       "  /* unfitted */\n",
       "  background-color: var(--sklearn-color-unfitted-level-0);\n",
       "}\n",
       "\n",
       "#sk-container-id-1 div.sk-estimator.fitted {\n",
       "  /* fitted */\n",
       "  background-color: var(--sklearn-color-fitted-level-0);\n",
       "}\n",
       "\n",
       "/* on hover */\n",
       "#sk-container-id-1 div.sk-estimator:hover {\n",
       "  /* unfitted */\n",
       "  background-color: var(--sklearn-color-unfitted-level-2);\n",
       "}\n",
       "\n",
       "#sk-container-id-1 div.sk-estimator.fitted:hover {\n",
       "  /* fitted */\n",
       "  background-color: var(--sklearn-color-fitted-level-2);\n",
       "}\n",
       "\n",
       "/* Specification for estimator info (e.g. \"i\" and \"?\") */\n",
       "\n",
       "/* Common style for \"i\" and \"?\" */\n",
       "\n",
       ".sk-estimator-doc-link,\n",
       "a:link.sk-estimator-doc-link,\n",
       "a:visited.sk-estimator-doc-link {\n",
       "  float: right;\n",
       "  font-size: smaller;\n",
       "  line-height: 1em;\n",
       "  font-family: monospace;\n",
       "  background-color: var(--sklearn-color-background);\n",
       "  border-radius: 1em;\n",
       "  height: 1em;\n",
       "  width: 1em;\n",
       "  text-decoration: none !important;\n",
       "  margin-left: 0.5em;\n",
       "  text-align: center;\n",
       "  /* unfitted */\n",
       "  border: var(--sklearn-color-unfitted-level-1) 1pt solid;\n",
       "  color: var(--sklearn-color-unfitted-level-1);\n",
       "}\n",
       "\n",
       ".sk-estimator-doc-link.fitted,\n",
       "a:link.sk-estimator-doc-link.fitted,\n",
       "a:visited.sk-estimator-doc-link.fitted {\n",
       "  /* fitted */\n",
       "  border: var(--sklearn-color-fitted-level-1) 1pt solid;\n",
       "  color: var(--sklearn-color-fitted-level-1);\n",
       "}\n",
       "\n",
       "/* On hover */\n",
       "div.sk-estimator:hover .sk-estimator-doc-link:hover,\n",
       ".sk-estimator-doc-link:hover,\n",
       "div.sk-label-container:hover .sk-estimator-doc-link:hover,\n",
       ".sk-estimator-doc-link:hover {\n",
       "  /* unfitted */\n",
       "  background-color: var(--sklearn-color-unfitted-level-3);\n",
       "  color: var(--sklearn-color-background);\n",
       "  text-decoration: none;\n",
       "}\n",
       "\n",
       "div.sk-estimator.fitted:hover .sk-estimator-doc-link.fitted:hover,\n",
       ".sk-estimator-doc-link.fitted:hover,\n",
       "div.sk-label-container:hover .sk-estimator-doc-link.fitted:hover,\n",
       ".sk-estimator-doc-link.fitted:hover {\n",
       "  /* fitted */\n",
       "  background-color: var(--sklearn-color-fitted-level-3);\n",
       "  color: var(--sklearn-color-background);\n",
       "  text-decoration: none;\n",
       "}\n",
       "\n",
       "/* Span, style for the box shown on hovering the info icon */\n",
       ".sk-estimator-doc-link span {\n",
       "  display: none;\n",
       "  z-index: 9999;\n",
       "  position: relative;\n",
       "  font-weight: normal;\n",
       "  right: .2ex;\n",
       "  padding: .5ex;\n",
       "  margin: .5ex;\n",
       "  width: min-content;\n",
       "  min-width: 20ex;\n",
       "  max-width: 50ex;\n",
       "  color: var(--sklearn-color-text);\n",
       "  box-shadow: 2pt 2pt 4pt #999;\n",
       "  /* unfitted */\n",
       "  background: var(--sklearn-color-unfitted-level-0);\n",
       "  border: .5pt solid var(--sklearn-color-unfitted-level-3);\n",
       "}\n",
       "\n",
       ".sk-estimator-doc-link.fitted span {\n",
       "  /* fitted */\n",
       "  background: var(--sklearn-color-fitted-level-0);\n",
       "  border: var(--sklearn-color-fitted-level-3);\n",
       "}\n",
       "\n",
       ".sk-estimator-doc-link:hover span {\n",
       "  display: block;\n",
       "}\n",
       "\n",
       "/* \"?\"-specific style due to the `<a>` HTML tag */\n",
       "\n",
       "#sk-container-id-1 a.estimator_doc_link {\n",
       "  float: right;\n",
       "  font-size: 1rem;\n",
       "  line-height: 1em;\n",
       "  font-family: monospace;\n",
       "  background-color: var(--sklearn-color-background);\n",
       "  border-radius: 1rem;\n",
       "  height: 1rem;\n",
       "  width: 1rem;\n",
       "  text-decoration: none;\n",
       "  /* unfitted */\n",
       "  color: var(--sklearn-color-unfitted-level-1);\n",
       "  border: var(--sklearn-color-unfitted-level-1) 1pt solid;\n",
       "}\n",
       "\n",
       "#sk-container-id-1 a.estimator_doc_link.fitted {\n",
       "  /* fitted */\n",
       "  border: var(--sklearn-color-fitted-level-1) 1pt solid;\n",
       "  color: var(--sklearn-color-fitted-level-1);\n",
       "}\n",
       "\n",
       "/* On hover */\n",
       "#sk-container-id-1 a.estimator_doc_link:hover {\n",
       "  /* unfitted */\n",
       "  background-color: var(--sklearn-color-unfitted-level-3);\n",
       "  color: var(--sklearn-color-background);\n",
       "  text-decoration: none;\n",
       "}\n",
       "\n",
       "#sk-container-id-1 a.estimator_doc_link.fitted:hover {\n",
       "  /* fitted */\n",
       "  background-color: var(--sklearn-color-fitted-level-3);\n",
       "}\n",
       "</style><div id=\"sk-container-id-1\" class=\"sk-top-container\"><div class=\"sk-text-repr-fallback\"><pre>LinearRegression()</pre><b>In a Jupyter environment, please rerun this cell to show the HTML representation or trust the notebook. <br />On GitHub, the HTML representation is unable to render, please try loading this page with nbviewer.org.</b></div><div class=\"sk-container\" hidden><div class=\"sk-item\"><div class=\"sk-estimator fitted sk-toggleable\"><input class=\"sk-toggleable__control sk-hidden--visually\" id=\"sk-estimator-id-1\" type=\"checkbox\" checked><label for=\"sk-estimator-id-1\" class=\"sk-toggleable__label fitted sk-toggleable__label-arrow\"><div><div>LinearRegression</div></div><div><a class=\"sk-estimator-doc-link fitted\" rel=\"noreferrer\" target=\"_blank\" href=\"https://scikit-learn.org/1.6/modules/generated/sklearn.linear_model.LinearRegression.html\">?<span>Documentation for LinearRegression</span></a><span class=\"sk-estimator-doc-link fitted\">i<span>Fitted</span></span></div></label><div class=\"sk-toggleable__content fitted\"><pre>LinearRegression()</pre></div> </div></div></div></div>"
      ],
      "text/plain": [
       "LinearRegression()"
      ]
     },
     "execution_count": 21,
     "metadata": {},
     "output_type": "execute_result"
    }
   ],
   "source": [
    "model = LinearRegression()\n",
    "linear_model = model.fit(x_train, y_train)\n",
    "linear_model"
   ]
  },
  {
   "cell_type": "code",
   "execution_count": null,
   "metadata": {},
   "outputs": [
    {
     "name": "stdout",
     "output_type": "stream",
     "text": [
      "Cross validation score:  [0.98421409 0.96195885 1.02077924 0.94580631 0.96763686]\n",
      "Mean Cv score:  0.9760790700256681\n"
     ]
    }
   ],
   "source": [
    "#klib\n",
    "\n",
    "kf = KFold(n_splits=5, shuffle=True, random_state=42)\n",
    "cv_scores = cross_val_score(linear_model, x, y, cv=kf, scoring='neg_mean_squared_error')\n",
    "cv_scores = np.sqrt(-cv_scores)\n",
    "\n",
    "print(\"Cross validation score: \", cv_scores)\n",
    "print(\"Mean Cv score: \", np.mean(cv_scores))\n",
    "\n"
   ]
  },
  {
   "cell_type": "code",
   "execution_count": 59,
   "metadata": {},
   "outputs": [
    {
     "data": {
      "text/plain": [
       "numpy.ndarray"
      ]
     },
     "execution_count": 59,
     "metadata": {},
     "output_type": "execute_result"
    }
   ],
   "source": [
    "type(cv_scores)"
   ]
  },
  {
   "cell_type": "code",
   "execution_count": null,
   "metadata": {},
   "outputs": [
    {
     "name": "stdout",
     "output_type": "stream",
     "text": [
      "0.9628090319210653\n",
      "-17.24502642694796\n"
     ]
    }
   ],
   "source": [
    "#klib\n",
    "\n",
    "y_pred = linear_model.predict(x_test)\n",
    "mse_linear = mean_squared_error(y_pred, y_test)\n",
    "r2_linear = r2_score(y_pred, y_test)\n",
    "\n",
    "print(mse_linear)\n",
    "print(r2_linear)"
   ]
  },
  {
   "cell_type": "code",
   "execution_count": 75,
   "metadata": {},
   "outputs": [],
   "source": [
    "data = [\n",
    "  [\"mse_linear\", mse_linear],\n",
    "  [\"r2_linear\", r2_linear],\n",
    "  [\"mean cv score\", np.mean(cv_scores)]\n",
    "]\n",
    "\n",
    "for i, score in enumerate(cv_scores, 1):\n",
    "    data.append([f\"cv_score_{i}\", score])\n",
    "\n",
    "headers = ['Method', 'Result']"
   ]
  },
  {
   "cell_type": "code",
   "execution_count": 76,
   "metadata": {},
   "outputs": [],
   "source": [
    "table = tabulate(data, headers, tablefmt='grid')"
   ]
  },
  {
   "cell_type": "markdown",
   "metadata": {},
   "source": [
    "Result with Klib"
   ]
  },
  {
   "cell_type": "code",
   "execution_count": 77,
   "metadata": {},
   "outputs": [
    {
     "name": "stdout",
     "output_type": "stream",
     "text": [
      "+---------------+------------+\n",
      "| Method        |     Result |\n",
      "+===============+============+\n",
      "| mse_linear    |   0.962809 |\n",
      "+---------------+------------+\n",
      "| r2_linear     | -17.245    |\n",
      "+---------------+------------+\n",
      "| mean cv score |   0.976079 |\n",
      "+---------------+------------+\n",
      "| cv_score_1    |   0.984214 |\n",
      "+---------------+------------+\n",
      "| cv_score_2    |   0.961959 |\n",
      "+---------------+------------+\n",
      "| cv_score_3    |   1.02078  |\n",
      "+---------------+------------+\n",
      "| cv_score_4    |   0.945806 |\n",
      "+---------------+------------+\n",
      "| cv_score_5    |   0.967637 |\n",
      "+---------------+------------+\n"
     ]
    }
   ],
   "source": [
    "print(table)"
   ]
  },
  {
   "cell_type": "markdown",
   "metadata": {},
   "source": [
    "Result wihtout Klib"
   ]
  },
  {
   "cell_type": "code",
   "execution_count": 22,
   "metadata": {},
   "outputs": [
    {
     "name": "stdout",
     "output_type": "stream",
     "text": [
      "Cross validation score:  [0.96626364 0.96634035 0.9803697  0.9642037  0.97956329]\n",
      "Mean Cv score:  0.9713481344540016\n"
     ]
    }
   ],
   "source": [
    "kf = KFold(n_splits=5, shuffle=True, random_state=42)\n",
    "cv_scores = cross_val_score(linear_model, x, y, cv=kf, scoring='neg_mean_squared_error')\n",
    "cv_scores = np.sqrt(-cv_scores)\n",
    "\n",
    "print(\"Cross validation score: \", cv_scores)\n",
    "print(\"Mean Cv score: \", np.mean(cv_scores))"
   ]
  },
  {
   "cell_type": "code",
   "execution_count": 23,
   "metadata": {},
   "outputs": [
    {
     "name": "stdout",
     "output_type": "stream",
     "text": [
      "0.918120455454211\n",
      "-13.254661045237798\n"
     ]
    }
   ],
   "source": [
    "\n",
    "y_pred = linear_model.predict(x_test)\n",
    "mse_linear = mean_squared_error(y_pred, y_test)\n",
    "r2_linear = r2_score(y_pred, y_test)\n",
    "\n",
    "print(mse_linear)\n",
    "print(r2_linear)"
   ]
  },
  {
   "cell_type": "code",
   "execution_count": 31,
   "metadata": {},
   "outputs": [
    {
     "name": "stdout",
     "output_type": "stream",
     "text": [
      "+---------------+------------+\n",
      "| Method        |     Result |\n",
      "+===============+============+\n",
      "| mse_linear    |   0.91812  |\n",
      "+---------------+------------+\n",
      "| r2_linear     | -13.2547   |\n",
      "+---------------+------------+\n",
      "| mean cv score |   0.971348 |\n",
      "+---------------+------------+\n",
      "| cv_score_1    |   0.966264 |\n",
      "+---------------+------------+\n",
      "| cv_score_2    |   0.96634  |\n",
      "+---------------+------------+\n",
      "| cv_score_3    |   0.98037  |\n",
      "+---------------+------------+\n",
      "| cv_score_4    |   0.964204 |\n",
      "+---------------+------------+\n",
      "| cv_score_5    |   0.979563 |\n",
      "+---------------+------------+\n"
     ]
    }
   ],
   "source": [
    "nk_data = [\n",
    "  [\"mse_linear\", mse_linear],\n",
    "  [\"r2_linear\", r2_linear],\n",
    "  [\"mean cv score\", np.mean(cv_scores)]\n",
    "]\n",
    "\n",
    "for i, score in enumerate(cv_scores, 1):\n",
    "    nk_data.append([f\"cv_score_{i}\", score])\n",
    "\n",
    "nk_headers = ['Method', 'Result']\n",
    "nk_table = tabulate(nk_data, nk_headers, tablefmt='grid')\n",
    "print(nk_table)"
   ]
  },
  {
   "cell_type": "code",
   "execution_count": null,
   "metadata": {},
   "outputs": [],
   "source": []
  }
 ],
 "metadata": {
  "kernelspec": {
   "display_name": "Python 3",
   "language": "python",
   "name": "python3"
  },
  "language_info": {
   "codemirror_mode": {
    "name": "ipython",
    "version": 3
   },
   "file_extension": ".py",
   "mimetype": "text/x-python",
   "name": "python",
   "nbconvert_exporter": "python",
   "pygments_lexer": "ipython3",
   "version": "3.13.2"
  }
 },
 "nbformat": 4,
 "nbformat_minor": 2
}
