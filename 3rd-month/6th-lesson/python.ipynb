{
 "cells": [
  {
   "cell_type": "code",
   "execution_count": 1,
   "id": "b53827ff",
   "metadata": {},
   "outputs": [
    {
     "data": {
      "text/plain": [
       "[2, 4, 6, 6]"
      ]
     },
     "execution_count": 1,
     "metadata": {},
     "output_type": "execute_result"
    }
   ],
   "source": [
    "# Istalgan list elementlari kirgizilganda ular orasidan juft va musbatlarini ekranga chiqaruvchi funksiya yozing\n",
    "\n",
    "def juft_va_musbat(a):\n",
    "  natija=[]\n",
    "  for i in a:\n",
    "    if i > 0 and i % 2 == 0:\n",
    "      natija.append(i)\n",
    "  return natija\n",
    "\n",
    "f = [1,2,3,4,5,6,6,7]\n",
    "juft_va_musbat(f)\n"
   ]
  },
  {
   "cell_type": "code",
   "execution_count": null,
   "id": "69f2d9b2",
   "metadata": {},
   "outputs": [],
   "source": [
    "# Data Preprocessing uchun kerakli bo'lgan barcha kutubxona/kodlarni chaqiring.\n",
    "\n",
    "import pandas as pd\n",
    "import numpy as np\n",
    "\n",
    "from datacleaner import autoclean\n",
    "import klib\n",
    "\n",
    "from sklearn.preprocessing import LabelEncoder, StandardScaler\n",
    "\n",
    "df = pd.DataFrame()\n",
    "\n",
    "# missing value handling\n",
    "for col in df.columns:\n",
    "  if df.dtypes == 'number':\n",
    "    df[col].fillna(df[col].mean(), inplace=True)\n",
    "  else:\n",
    "    df[col].fillna(df[col].mode()[0], inplace=True)\n",
    "\n",
    "\n",
    "# encoding\n",
    "le = LabelEncoder()\n",
    "cat_col = df.select_dtypes(include='object').columns\n",
    "for col in cat_col:\n",
    "  cardinality = df.nunique()\n",
    "  if cardinality >= 5:\n",
    "    df[col] = le.fit_transform(df[col])\n",
    "  else:\n",
    "    df = pd.get_dummies(df, columns=[col], dtype=int, drop_first=True)\n",
    "\n",
    "# scaling\n",
    "scaler = StandardScaler()\n",
    "num_col = df.select_dtypes(include='number').columns\n",
    "df[num_col] = scaler.fit_transform(df[num_col])\n",
    "\n",
    "# klib\n",
    "df = klib.data_cleaning(df)\n",
    "\n",
    "# autoclean\n",
    "df = autoclean(df)"
   ]
  },
  {
   "cell_type": "code",
   "execution_count": 2,
   "id": "1fbdde3b",
   "metadata": {},
   "outputs": [
    {
     "data": {
      "text/plain": [
       "(2, 1)"
      ]
     },
     "execution_count": 2,
     "metadata": {},
     "output_type": "execute_result"
    }
   ],
   "source": [
    "# Berilgan tuple elementlarining o'rinlarini almashtirib beradigan funksiya yozing\n",
    "\n",
    "def swap(a):\n",
    "  return a[1],a[0]\n",
    "\n",
    "d = 1,2\n",
    "swap(d)"
   ]
  },
  {
   "cell_type": "code",
   "execution_count": null,
   "id": "aa750348",
   "metadata": {},
   "outputs": [],
   "source": [
    "# Datasetni drop, mean va mode bilan tozalang\n",
    "\n",
    "df.dropna() # dropping all missing values at once\n",
    "df.dropna(subset=['column name']) # dropping row in certain column with nan value \n",
    "df.drop('column name')  # dropping a column\n",
    "\n",
    "\n",
    "for col in df.columns:\n",
    "  if df.dtypes == 'number':\n",
    "    df[col].fillna(df[col].mean(), inplace=True)\n",
    "  else:\n",
    "    df[col].fillna(df[col].mode()[0], inplace=True)"
   ]
  },
  {
   "cell_type": "code",
   "execution_count": null,
   "id": "483db6c2",
   "metadata": {},
   "outputs": [],
   "source": [
    "# Berilgan dict qiymatlarining o'rta arifmetigini chiqaradigan funksiya yozing.\n",
    "\n",
    "def average(a):\n",
    "    values = list(a.values())\n",
    "    result = sum(values)\n",
    "    avg = result / len(values)\n",
    "    return avg\n",
    "\n",
    "c = {'a': 1, 'b': 2, 'c': 3}\n",
    "average(c)"
   ]
  },
  {
   "cell_type": "code",
   "execution_count": null,
   "id": "f8e9de3b",
   "metadata": {},
   "outputs": [],
   "source": [
    "# Datasetni klib/autoclean yordamida preprocessing qiling\n",
    "\n",
    "df = klib.data_cleaning(df)\n",
    "df = autoclean(df)"
   ]
  },
  {
   "cell_type": "code",
   "execution_count": 8,
   "id": "44269e6b",
   "metadata": {},
   "outputs": [
    {
     "data": {
      "text/plain": [
       "5"
      ]
     },
     "execution_count": 8,
     "metadata": {},
     "output_type": "execute_result"
    }
   ],
   "source": [
    "# Berilgan str uzunligini qaytaradigan funksiya yozing\n",
    "\n",
    "def uzunlik(a):\n",
    "  if type(a) != str:\n",
    "    return \"Xato, String element kiriting.\"\n",
    "  else:\n",
    "    return len(a)\n",
    "\n",
    "a = 'hello'\n",
    "uzunlik(a)"
   ]
  },
  {
   "cell_type": "code",
   "execution_count": 9,
   "id": "e4595838",
   "metadata": {},
   "outputs": [
    {
     "data": {
      "text/plain": [
       "'Xato, String element kiriting.'"
      ]
     },
     "execution_count": 9,
     "metadata": {},
     "output_type": "execute_result"
    }
   ],
   "source": [
    "p = 9\n",
    "uzunlik(9)"
   ]
  },
  {
   "cell_type": "code",
   "execution_count": null,
   "id": "ea43049d",
   "metadata": {},
   "outputs": [],
   "source": [
    "# Datasetni qismlarga bo'ling\n",
    "\n",
    "from sklearn.model_selection import train_test_split\n",
    "\n",
    "x = df.drop(columns=['column_name'])\n",
    "y = df['column name']\n",
    "\n",
    "x_train, x_temp, y_train, y_temp = train_test_split(x, y, test_size=0.2, random_state=42)\n",
    "x_test, x_val, y_test, y_val = train_test_split(x_temp, y_temp, test_size=0.5, random_state=42)"
   ]
  },
  {
   "cell_type": "code",
   "execution_count": 12,
   "id": "6122b825",
   "metadata": {},
   "outputs": [
    {
     "data": {
      "text/plain": [
       "'Juftlar: [12, 12, 56, 6], Toqlar: [1, 3, 5, 21]'"
      ]
     },
     "execution_count": 12,
     "metadata": {},
     "output_type": "execute_result"
    }
   ],
   "source": [
    "# List elementlarini juft va toqlarini alohida yangi 2 ta listga joylashtirib beradigan funksiya tuzing.\n",
    "\n",
    "def separate(a):\n",
    "  juft=[]\n",
    "  toq=[]\n",
    "  for i in a:\n",
    "    if i % 2 == 0:\n",
    "      juft.append(i)\n",
    "    else:\n",
    "      toq.append(i)\n",
    "  return f\"Juftlar: {juft}, Toqlar: {toq}\"\n",
    "\n",
    "x = [1,3,5,12,21,12,56,6]\n",
    "separate(x)"
   ]
  },
  {
   "cell_type": "code",
   "execution_count": 22,
   "id": "df668ce3",
   "metadata": {},
   "outputs": [
    {
     "name": "stdout",
     "output_type": "stream",
     "text": [
      "+--------------+----------+-------+---------+\n",
      "| Studentlar   |   Vazifa |   Mid |   Final |\n",
      "+==============+==========+=======+=========+\n",
      "| Muslimbek    |        2 |    15 |      19 |\n",
      "+--------------+----------+-------+---------+\n",
      "| Sarvar aka   |        3 |    17 |      17 |\n",
      "+--------------+----------+-------+---------+\n",
      "| Maftuna      |        3 |    15 |      18 |\n",
      "+--------------+----------+-------+---------+\n",
      "| Ahmadjon     |        4 |    15 |      18 |\n",
      "+--------------+----------+-------+---------+\n",
      "| Jamshid aka  |        4 |    15 |      18 |\n",
      "+--------------+----------+-------+---------+\n"
     ]
    }
   ],
   "source": [
    "# Tabular yordamida data tuzing.\n",
    "\n",
    "from tabulate import tabulate\n",
    "headers = ['Studentlar', 'Vazifa', 'Mid', 'Final']\n",
    "table = [\n",
    "  ['Muslimbek', 2, 15, 19],\n",
    "  [ 'Sarvar aka', 3, 17, 17],\n",
    "  ['Maftuna', 3, 15, 18],\n",
    "  ['Ahmadjon', 4, 15, 18],\n",
    "  ['Jamshid aka', 4, 15 ,18]\n",
    "]\n",
    "\n",
    "print(tabulate(table, headers, tablefmt='grid'))"
   ]
  },
  {
   "cell_type": "code",
   "execution_count": null,
   "id": "7029dfd2",
   "metadata": {},
   "outputs": [],
   "source": []
  }
 ],
 "metadata": {
  "kernelspec": {
   "display_name": "Python 3",
   "language": "python",
   "name": "python3"
  },
  "language_info": {
   "codemirror_mode": {
    "name": "ipython",
    "version": 3
   },
   "file_extension": ".py",
   "mimetype": "text/x-python",
   "name": "python",
   "nbconvert_exporter": "python",
   "pygments_lexer": "ipython3",
   "version": "3.13.2"
  }
 },
 "nbformat": 4,
 "nbformat_minor": 5
}
