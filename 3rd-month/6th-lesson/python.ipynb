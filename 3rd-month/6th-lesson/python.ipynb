{
 "cells": [
  {
   "cell_type": "code",
   "execution_count": 1,
   "id": "b53827ff",
   "metadata": {},
   "outputs": [
    {
     "data": {
      "text/plain": [
       "[2, 4, 6, 6]"
      ]
     },
     "execution_count": 1,
     "metadata": {},
     "output_type": "execute_result"
    }
   ],
   "source": [
    "# Istalgan list elementlari kirgizilganda ular orasidan juft va musbatlarini ekranga chiqaruvchi funksiya yozing\n",
    "\n",
    "def juft_va_musbat(a):\n",
    "  natija=[]\n",
    "  for i in a:\n",
    "    if i > 0 and i % 2 == 0:\n",
    "      natija.append(i)\n",
    "  return natija\n",
    "\n",
    "f = [1,2,3,4,5,6,6,7]\n",
    "juft_va_musbat(f)\n"
   ]
  },
  {
   "cell_type": "code",
   "execution_count": null,
   "id": "69f2d9b2",
   "metadata": {},
   "outputs": [],
   "source": []
  }
 ],
 "metadata": {
  "kernelspec": {
   "display_name": "Python 3",
   "language": "python",
   "name": "python3"
  },
  "language_info": {
   "codemirror_mode": {
    "name": "ipython",
    "version": 3
   },
   "file_extension": ".py",
   "mimetype": "text/x-python",
   "name": "python",
   "nbconvert_exporter": "python",
   "pygments_lexer": "ipython3",
   "version": "3.13.2"
  }
 },
 "nbformat": 4,
 "nbformat_minor": 5
}
