{
 "cells": [
  {
   "cell_type": "markdown",
   "id": "9e91a4f3",
   "metadata": {},
   "source": [
    "# 1. Klib va Autocleanning bir biridan farqi va o'xshashliklari?\n",
    "\n",
    "Farqlari: \n",
    "Autoclean - handling missing value (mean and mode), removing non-numerical characters from elements, encoding (label)\n",
    "Klib - dropping 50% more missing value rows, dropping duplicated data, column name standardization, data visualization\n",
    "\n",
    "O'xshashliklari:\n",
    "Reduce memory usage"
   ]
  },
  {
   "cell_type": "markdown",
   "id": "3774e886",
   "metadata": {},
   "source": [
    "# 2. Deployment nima va uni boshlashdan oldingi 3ta asosiy savol?\n",
    "\n",
    "Deployment - tayyor bo'lgan modelning foydalanuvchiga tayyor ishlaydigan holatda, web ilova, mobile ilova ko'rinishida taqdim qilish va userlardan olingan haqiqiy datalar bilan ishlash, projectdan productga o'tish.\n",
    "Deploymentni boshlashdan oldingi asosiy savollar quyidagilar:\n",
    "\n",
    "1. Deployment qilinayotgan model nima uchun kerak? \n",
    "2. Qaysi strategiyalarni qo'llash mumkin?\n",
    "3. Qaysi darajadagi automation kerak?"
   ]
  },
  {
   "cell_type": "markdown",
   "id": "dc6c9b37",
   "metadata": {},
   "source": [
    "# 3. Qanday deployment strategiyalari bor?\n",
    "\n",
    "Deployment strategiyalarining turlari:\n",
    "- Rolling - eskini yangiga bosqichma-bosqich almashtirish, kuchli tarafi systemning to'xtamasligi, kuchsiz tarafi problemaning butun systemga ta'sir qilishi.\n",
    "- Blue-Green - eskini yangiga almashtirish, 2 ta versiyaning teng ishlab turishi (blue-eski, green-yangi), birida muammo bo'lsa biriga qaytib olish imkoniyati.\n",
    "- Canary - eskini yangiga bosqichma-bosqich almashtirish (5%, 25%, 50%), rollingdan farqi problemaning o'sha qismning o'ziga ta'siri, butun systemga emas.\n",
    "- Shadowing - offline testing, secure testing, deploymentdan oldingi deployment.\n",
    "- A/B Testing userlarni ikkiga bo'lish va ikkita deployment versiyani ularga berib, ularning reaction va feedbacklari orqali qaysi model yaxshiligini qiyoslash;\n",
    "- Immutable - existing server va envirnmentlarni o'zgartirmaslik, aksincha butunlay yangi deployment yaratish va userlarning traffik oqimini shunga yo'naltirish"
   ]
  },
  {
   "cell_type": "markdown",
   "id": "a558995a",
   "metadata": {},
   "source": [
    "# 4. Blue-green va canary deployment farqlari?\n",
    "\n",
    "Blue-Green - eskini yangiga almashtirish, 2 ta versiyaning teng ishlab turishi (blue-eski, green-yangi), birida muammo bo'lsa biriga qaytib olish imkoniyati.\n",
    "Canary - eskini yangiga bosqichma-bosqich almashtirish (5%, 25%, 50%), rollingdan farqi problemaning o'sha qismning o'ziga ta'siri, butun systemga emas.\n",
    "\n"
   ]
  },
  {
   "cell_type": "markdown",
   "id": "f77e5def",
   "metadata": {},
   "source": [
    "# 5. A/B Testing nima va qanday ishlaydi?\n",
    "\n",
    "A/B Testing - userlarni ikkiga bo'lish va ikkita deployment versiyani ularga berib, ularning reaction va feedbacklari orqali qaysi model yaxshiligini qiyoslash\n"
   ]
  },
  {
   "cell_type": "markdown",
   "id": "90d67b54",
   "metadata": {},
   "source": [
    "# 6. Qanday turdagi deployment va monitoring qiyinchiliklar bor?\n",
    "\n",
    "Deployment challengelar - model issues va software issuesga bo'linadi.\n",
    "Model issuesga - data drift va concept drift misol bo'ladi. Ya'ni data drift featurelardagi o'zgarish. Concept drift feature va target value orasidagi munosabatdagi o'zgarish.\n",
    "Software issues - resultdagi, cloud/edge devicedagi, compute recoursedagi, latency/throughputdagi va logging/securitydagi o'zgarishlar hisoblanadi.\n",
    "Monitoring metriclari - dashboard real-time, log-based historical data va alerting fast response."
   ]
  },
  {
   "cell_type": "markdown",
   "id": "4dab4d82",
   "metadata": {},
   "source": [
    "# 7. Model decay nima?\n",
    "\n",
    "Modelning yoki model faoliyatining eskirishi yoki qarishi. Uning sabablari esa:\n",
    "- broken pipeline,\n",
    "- quality of data,\n",
    "- software issues sabab kelib chiqadi."
   ]
  },
  {
   "cell_type": "markdown",
   "id": "e239d8a6",
   "metadata": {},
   "source": [
    "# 8. Qanday turdagi monitoring turlari bor?\n",
    "\n",
    "- Dashboard monitoring ya'ni real-timeda eng ko'p ishlatiladigan monitoring turi, server-load, fraction of non-null output (ma'noli output chiqarish, threshold berish orqali) va input bilan ishlash, ya'ni to'g'ri yo'llar bilan missing value handle qilinishi tekshirish.\n",
    "- Log-based monitoring,\n",
    "- Alerting monitoring."
   ]
  },
  {
   "cell_type": "markdown",
   "id": "566da389",
   "metadata": {},
   "source": [
    "# 9. Latency va throughputning farqi?\n",
    "\n",
    "Ikkalasi ham software related issues hisoblanadi deployment jarayonidagi. Ularning orasidagi farq delay-speed deb aytilsa bo'ladi. Ya'ni:\n",
    "Latency - inputdan outputni predict qilishgacha qancha vaqt ketishi,\n",
    "Throughput - berilgan vaqtda qancha ish qilinishi."
   ]
  },
  {
   "cell_type": "markdown",
   "id": "4173f32d",
   "metadata": {},
   "source": []
  }
 ],
 "metadata": {
  "language_info": {
   "name": "python"
  }
 },
 "nbformat": 4,
 "nbformat_minor": 5
}
