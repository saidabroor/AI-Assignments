{
 "cells": [
  {
   "cell_type": "code",
   "execution_count": 2,
   "id": "a3187831",
   "metadata": {},
   "outputs": [],
   "source": [
    "import pandas as pd\n",
    "import numpy as np\n",
    "import seaborn as sns\n",
    "import matplotlib.pyplot as plt\n",
    "\n",
    "\n",
    "\n",
    "from sklearn.preprocessing import LabelEncoder, MinMaxScaler, StandardScaler, RobustScaler\n",
    "from sklearn.model_selection import train_test_split, KFold, cross_val_score, GridSearchCV, RandomizedSearchCV\n",
    "from sklearn.metrics import mean_squared_error, r2_score, make_scorer, accuracy_score, classification_report\n",
    "\n",
    "\n",
    "\n",
    "from datacleaner import autoclean\n",
    "import klib\n",
    "from sklearn.feature_selection import mutual_info_regression\n",
    "from joblib import dump, load\n",
    "from sklearn.pipeline import Pipeline\n",
    "from sklearn.compose import ColumnTransformer\n",
    "from sklearn.impute import SimpleImputer\n",
    "\n",
    "from sklearn.metrics import classification_report, confusion_matrix, ConfusionMatrixDisplay\n",
    "\n",
    "from imblearn.over_sampling import SMOTE\n",
    "\n",
    "\n",
    "from tabulate import tabulate\n",
    "import missingno as msno\n",
    "import warnings\n",
    "warnings.filterwarnings('ignore')\n",
    "\n",
    "\n",
    "\n",
    "from sklearn.linear_model import LinearRegression, LogisticRegression\n",
    "from sklearn.ensemble import RandomForestClassifier, RandomForestRegressor\n",
    "from sklearn.tree import DecisionTreeClassifier, DecisionTreeRegressor\n",
    "from sklearn.ensemble import GradientBoostingClassifier\n",
    "from xgboost import XGBRegressor\n",
    "from lightgbm import LGBMClassifier, LGBMRegressor"
   ]
  },
  {
   "cell_type": "code",
   "execution_count": 3,
   "id": "73c475ee",
   "metadata": {},
   "outputs": [
    {
     "data": {
      "text/html": [
       "<div>\n",
       "<style scoped>\n",
       "    .dataframe tbody tr th:only-of-type {\n",
       "        vertical-align: middle;\n",
       "    }\n",
       "\n",
       "    .dataframe tbody tr th {\n",
       "        vertical-align: top;\n",
       "    }\n",
       "\n",
       "    .dataframe thead th {\n",
       "        text-align: right;\n",
       "    }\n",
       "</style>\n",
       "<table border=\"1\" class=\"dataframe\">\n",
       "  <thead>\n",
       "    <tr style=\"text-align: right;\">\n",
       "      <th></th>\n",
       "      <th>status</th>\n",
       "    </tr>\n",
       "  </thead>\n",
       "  <tbody>\n",
       "    <tr>\n",
       "      <th>0</th>\n",
       "      <td>yes</td>\n",
       "    </tr>\n",
       "    <tr>\n",
       "      <th>1</th>\n",
       "      <td>no</td>\n",
       "    </tr>\n",
       "  </tbody>\n",
       "</table>\n",
       "</div>"
      ],
      "text/plain": [
       "  status\n",
       "0    yes\n",
       "1     no"
      ]
     },
     "execution_count": 3,
     "metadata": {},
     "output_type": "execute_result"
    }
   ],
   "source": [
    "df = pd.DataFrame({\n",
    "  'status': ['yes','no'],\n",
    "})\n",
    "df"
   ]
  },
  {
   "cell_type": "markdown",
   "id": "67364fe4",
   "metadata": {},
   "source": [
    "non numerical rows, rows that contain other than nums (just one column)"
   ]
  },
  {
   "cell_type": "code",
   "execution_count": null,
   "id": "1333b0ab",
   "metadata": {},
   "outputs": [],
   "source": [
    "non_num = df.loc[pd.to_numeric(df['column_name'], errors='coerce').isna(), 'column name']"
   ]
  },
  {
   "cell_type": "markdown",
   "id": "1f6d7b32",
   "metadata": {},
   "source": [
    "All rows of all columns with non numerical datas, rows"
   ]
  },
  {
   "cell_type": "code",
   "execution_count": null,
   "id": "5a6130c0",
   "metadata": {},
   "outputs": [],
   "source": [
    "non_num_rows = df[~df.applymap(lambda x: pd.to_numeric(x, errors='coerce')).notna().all(axis=1)]"
   ]
  },
  {
   "cell_type": "markdown",
   "id": "9e08ec0b",
   "metadata": {},
   "source": [
    "Removing strings from rows of numerical columns\n"
   ]
  },
  {
   "cell_type": "code",
   "execution_count": null,
   "id": "0a40e8ce",
   "metadata": {},
   "outputs": [],
   "source": [
    "df['column name'] = df['column name'].astype(str).str.extract(r'([0-9.]+)')\n",
    "df['column name'] = pd.to_numeric(df['column name'], errors='coerce')"
   ]
  },
  {
   "cell_type": "markdown",
   "id": "cfac3f37",
   "metadata": {},
   "source": [
    "Frequency encoding (for one column)"
   ]
  },
  {
   "cell_type": "code",
   "execution_count": null,
   "id": "3e9cf5cd",
   "metadata": {},
   "outputs": [],
   "source": [
    "freq = df['column name'].value_counts()\n",
    "df['column name'] = df['column name'].map(freq)"
   ]
  },
  {
   "cell_type": "markdown",
   "id": "a0ac0067",
   "metadata": {},
   "source": [
    "For all colunms\n"
   ]
  },
  {
   "cell_type": "code",
   "execution_count": null,
   "id": "43981c06",
   "metadata": {},
   "outputs": [],
   "source": [
    "cat_cols = df.select_dtypes(exclude='number').columns\n",
    "for col in cat_cols:\n",
    "  cardinality = df[col].nunique()\n",
    "  if cardinality > 50:\n",
    "    freq = df[col].value_counts()\n",
    "    df[col] = df[col].map(freq)\n"
   ]
  },
  {
   "cell_type": "code",
   "execution_count": null,
   "id": "69260d20",
   "metadata": {},
   "outputs": [],
   "source": []
  },
  {
   "cell_type": "markdown",
   "id": "bc3a4597",
   "metadata": {},
   "source": [
    "Checking the skewness of columns before scaling to apply right scaling technique"
   ]
  },
  {
   "cell_type": "code",
   "execution_count": null,
   "id": "4d036c2c",
   "metadata": {},
   "outputs": [],
   "source": [
    "for col in df.select_dtypes(include='number').columns:\n",
    "    plt.figure(figsize=(6, 4))\n",
    "    sns.histplot(df[col], kde=True)\n",
    "    plt.title(f'Distribution of {col}')\n",
    "    plt.xlabel(col)\n",
    "    plt.ylabel('Frequency')\n",
    "    plt.show()"
   ]
  },
  {
   "cell_type": "markdown",
   "id": "1cf9c2fa",
   "metadata": {},
   "source": [
    "After checking symmetry and skewness of columns, separating them into two lists to apply standardscaler to one and robustscaler to another"
   ]
  },
  {
   "cell_type": "code",
   "execution_count": null,
   "id": "7620ace0",
   "metadata": {},
   "outputs": [],
   "source": [
    "# enter first list column names manually\n",
    "\n",
    "normal_dist_cols = ['column name', 'column name', 'column name', 'column name']\n",
    "\n",
    "all_cols = df.columns.to_list()\n",
    "\n",
    "skewed_cols = [col for col in all_cols if col not in normal_dist_cols]"
   ]
  },
  {
   "cell_type": "markdown",
   "id": "8dccc6e4",
   "metadata": {},
   "source": [
    "Skewness using skew() function and giving threshold 0.5 and -0.5"
   ]
  },
  {
   "cell_type": "code",
   "execution_count": null,
   "id": "0ed93163",
   "metadata": {},
   "outputs": [],
   "source": [
    "skewness = df.skew(numeric_only=True)\n",
    "normal_cols = skewness[abs(skewness) <= 0.5].index.to_list()\n",
    "normal_cols = skewness[abs(skewness) > 0.5].index.to_list()"
   ]
  },
  {
   "cell_type": "markdown",
   "id": "e259ec2d",
   "metadata": {},
   "source": [
    "Math Feature transforming using np.log1p()"
   ]
  },
  {
   "cell_type": "code",
   "execution_count": null,
   "id": "1054f337",
   "metadata": {},
   "outputs": [],
   "source": [
    "df[skewed_cols] = df[skewed_cols].apply(np.log1p)"
   ]
  },
  {
   "cell_type": "markdown",
   "id": "108da69c",
   "metadata": {},
   "source": [
    "Feature transforming (Date into year / month / day)"
   ]
  },
  {
   "cell_type": "code",
   "execution_count": null,
   "id": "758d82f0",
   "metadata": {},
   "outputs": [],
   "source": [
    "df['date'] = pd.to_datetime(df['date'])\n",
    "df['year'] = df['date'].dt.year\n",
    "df['month'] = df['date'].dt.month\n",
    "df['day'] = df['date'].dt.day"
   ]
  },
  {
   "cell_type": "markdown",
   "id": "ae8fea08",
   "metadata": {},
   "source": [
    "pd.to_datetime --> month / day / year\n",
    "if the data has day at first such as 30.12.2020 you should use dayfirst = True"
   ]
  },
  {
   "cell_type": "markdown",
   "id": "0e61e717",
   "metadata": {},
   "source": [
    "Mutual info ni python function orqali yaratish"
   ]
  },
  {
   "cell_type": "code",
   "execution_count": null,
   "id": "92c74c0b",
   "metadata": {},
   "outputs": [],
   "source": [
    "def mtop_scores(df, target_column, top_n=9):\n",
    "    \n",
    "    x = df.copy()\n",
    "    y = x.pop(target_column)\n",
    "    \n",
    "    mi_scores = mutual_info_regression(x, y)\n",
    "    mi_scores_df = pd.DataFrame(mi_scores, index=x.columns, columns=['Mutual Info'])\n",
    "    mi_scores_df = mi_scores_df.sort_values(by='Mutual Info', ascending=False)\n",
    "\n",
    "    return mi_scores_df.head(top_n)\n",
    "\n",
    "top_scores = mtop_scores(df, 'price', top_n=9)\n",
    "top_scores"
   ]
  },
  {
   "cell_type": "markdown",
   "id": "1947d61b",
   "metadata": {},
   "source": [
    "Pipeline tuzish"
   ]
  },
  {
   "cell_type": "code",
   "execution_count": null,
   "id": "477a3542",
   "metadata": {},
   "outputs": [],
   "source": [
    "OneHotEncoder = 1\n",
    "\n",
    "\n",
    "num_col = df.select_dtypes(include='number').columns\n",
    "cat_col = df.select_dtypes(exclude='number').columns\n",
    "\n",
    "numerical_features = Pipeline(steps=[\n",
    "  ('imputer', SimpleImputer(strategy='mean')),\n",
    "  ('scaler', StandardScaler())\n",
    "])\n",
    "\n",
    "categorical_features = Pipeline(steps=[\n",
    "  ('imputer', SimpleImputer(strategy='most_frequent')),\n",
    "  ('encoder', OneHotEncoder(handle_unknown='ignore'))\n",
    "])\n",
    "\n",
    "preprocessor = ColumnTransformer(transformers=[\n",
    "  ('num', numerical_features, num_col),\n",
    "  ('cat', categorical_features, cat_col)\n",
    "])\n",
    "\n",
    "model = RandomForestClassifier()\n",
    "\n",
    "Pipeline = Pipeline(steps=[\n",
    "  ('preprocessor', preprocessor),\n",
    "  ('model', model)\n",
    "])"
   ]
  },
  {
   "cell_type": "markdown",
   "id": "015b5cbc",
   "metadata": {},
   "source": [
    "KFoldni ishlatish"
   ]
  },
  {
   "cell_type": "code",
   "execution_count": null,
   "id": "171f638e",
   "metadata": {},
   "outputs": [],
   "source": [
    "kf = KFold(n_splits=5, shuffle=True, random_state=42)\n",
    "cv_score = cross_val_score(model, x, y, cv=kf, scoring='neg_mean_squared_error')\n",
    "cv_score = np.sqrt(-cv_score)\n",
    "\n",
    "print(np.mean(cv_score))\n",
    "print(np.std(cv_score))"
   ]
  },
  {
   "cell_type": "markdown",
   "id": "fb198aa4",
   "metadata": {},
   "source": [
    "Klib da missing valuelarni ko'rish"
   ]
  },
  {
   "cell_type": "code",
   "execution_count": null,
   "id": "59d6b805",
   "metadata": {},
   "outputs": [],
   "source": [
    "klib.missingval_plot(df)"
   ]
  },
  {
   "cell_type": "markdown",
   "id": "98979ad3",
   "metadata": {},
   "source": [
    "Baselineni ishlatish "
   ]
  },
  {
   "cell_type": "code",
   "execution_count": null,
   "id": "bab4f241",
   "metadata": {},
   "outputs": [],
   "source": [
    "from sklearn.dummy import DummyRegressor\n",
    "from sklearn.metrics import mean_squared_error\n",
    "\n",
    "dummy = DummyRegressor(strategy='mean')\n",
    "model = DecisionTreeClassifier(max_depth=4, criterion='gini')\n",
    "\n",
    "mse = mean_squared_error(y_test, y_pred, squared=False)"
   ]
  },
  {
   "cell_type": "markdown",
   "id": "8f4fb630",
   "metadata": {},
   "source": [
    "plot_tree orqali tree model orqasini ko'rish (classification uchun)"
   ]
  },
  {
   "cell_type": "code",
   "execution_count": null,
   "id": "6d35d7f0",
   "metadata": {},
   "outputs": [],
   "source": [
    "from sklearn.tree import plot_tree\n",
    "\n",
    "plt.figure(figsize=(20,10))\n",
    "plot_tree(model, feature_names=x.columns, class_names=['Good', 'Bad'], filled=True)\n",
    "plt.show()"
   ]
  },
  {
   "cell_type": "markdown",
   "id": "2728ee34",
   "metadata": {},
   "source": [
    "matplotlib plt orqali ikkita featureni aloqasini ko'rish mean bilan"
   ]
  },
  {
   "cell_type": "code",
   "execution_count": null,
   "id": "40211884",
   "metadata": {},
   "outputs": [],
   "source": [
    "import matplotlib.pyplot as plt\n",
    "\n",
    "gender_by_age = df.groupby('Sex')['Age'].mean().reset_index()\n",
    "\n",
    "\n",
    "plt.figure(figsize=(10,8))\n",
    "plt.bar(gender_by_age['Sex'], gender_by_age['Age'], color='skyblue')\n",
    "plt.xlabel('Gender')\n",
    "plt.ylabel('Age')\n",
    "plt.title(\"Yoshga ko'ra jins taqsimoti\")\n",
    "plt.show()"
   ]
  },
  {
   "cell_type": "markdown",
   "id": "88f055ab",
   "metadata": {},
   "source": [
    "Seaborn orqali ikkita feature orasidagi aloqani mean bilan ko'rish"
   ]
  },
  {
   "cell_type": "code",
   "execution_count": null,
   "id": "67459c14",
   "metadata": {},
   "outputs": [],
   "source": [
    "import seaborn as sns\n",
    "\n",
    "gender_by_age = df.groupby('Sex')['Age'].mean().reset_index()\n",
    "\n",
    "plt.figure(figsize=(10,8))\n",
    "sns.barplot(data=gender_by_age, x='Sex', y='Age', palette='Reds')\n",
    "plt.xlabel('Age')\n",
    "plt.ylabel('Gender')\n",
    "plt.title(\"Yoshga ko'ra jins taqsimoti\")\n",
    "plt.show()"
   ]
  },
  {
   "cell_type": "markdown",
   "id": "03626fd4",
   "metadata": {},
   "source": [
    "Plotly express orqali ikkita feature orasidagi aloqani mean bilan ko'rish"
   ]
  },
  {
   "cell_type": "code",
   "execution_count": null,
   "id": "eaf0bbd2",
   "metadata": {},
   "outputs": [],
   "source": [
    "import plotly.express as px\n",
    "\n",
    "gender_by_age = df.groupby('Sex')['Age'].mean().reset_index()\n",
    "\n",
    "# bargraph\n",
    "# pio.renderers.default='browser'\n",
    "fig = px.bar(gender_by_age, x='Sex', y='Age', title=\"Yoshga ko'ra jins taqsimoti\", labels={'Sex': 'Jins', 'Age': 'Yosh'}, color='Sex')\n",
    "fig.show()\n",
    "\n",
    "# piechart\n",
    "fig = px.pie(gender_by_age, names='Sex', values='Age', title=\"Yoshga ko'ra jins taqsimoti\", labels={'Sex': 'Jins', 'Age': 'Yosh'}, color='Sex')\n",
    "fig.show()"
   ]
  },
  {
   "cell_type": "markdown",
   "id": "93d4d08e",
   "metadata": {},
   "source": [
    "Checking whether you have installed a certain library with a certain keyword"
   ]
  },
  {
   "cell_type": "code",
   "execution_count": null,
   "id": "a89edf83",
   "metadata": {},
   "outputs": [],
   "source": [
    "import sys\n",
    "'pandas' in sys.modules"
   ]
  },
  {
   "cell_type": "markdown",
   "id": "5fae83dd",
   "metadata": {},
   "source": [
    "Joblib orqali dump va load"
   ]
  },
  {
   "cell_type": "code",
   "execution_count": null,
   "id": "ddc24114",
   "metadata": {},
   "outputs": [],
   "source": [
    "from joblib import dump, load\n",
    "\n",
    "model = DecisionTreeClassifier()\n",
    "dump(model, 'model_name.joblib')\n",
    "model = load('model_name.joblib')"
   ]
  },
  {
   "cell_type": "markdown",
   "id": "5166b960",
   "metadata": {},
   "source": [
    "GridSearchCV bilan hyperparameter tuning"
   ]
  },
  {
   "cell_type": "code",
   "execution_count": null,
   "id": "f2c0fd35",
   "metadata": {},
   "outputs": [],
   "source": [
    "param_grid = {\n",
    "  'max_depth': [3,5,10,None],\n",
    "  'min_samples_split': [2,5,10],\n",
    "  'min_samples_leaf': [1,2,5],\n",
    "  'max_features': ['auto', 'sqrt', 'log2', None]\n",
    "}\n",
    "\n",
    "grid_search = GridSearchCV(\n",
    "  estimator=model,\n",
    "  param_grid=param_grid,\n",
    "  cv=5,\n",
    "  n_jobs=-1,\n",
    "  scoring='accuracy'\n",
    ")\n",
    "\n",
    "print(\"Best parameters:\", grid_search.best_params_)\n",
    "print('Best model:', grid_search.best_estimator_)"
   ]
  },
  {
   "cell_type": "markdown",
   "id": "e0caae4e",
   "metadata": {},
   "source": [
    "RandomizedSearchCV bilan hyperparameter tuning"
   ]
  },
  {
   "cell_type": "code",
   "execution_count": null,
   "id": "b41e827f",
   "metadata": {},
   "outputs": [],
   "source": [
    "params = {\n",
    "  'max_depth': [3,5,7,None],\n",
    "  'min_samples_split': [2,5,10],\n",
    "  'min_samples_leaf': [1,3,5],\n",
    "  'max_features': ['auto', 'log2', 'sqrt', None]\n",
    "}\n",
    "\n",
    "random_search = RandomizedSearchCV(\n",
    "  estimator = DecisionTreeRegressor(),\n",
    "  param_distributions = params,\n",
    "  n_iter = 10,\n",
    "  cv=5,\n",
    "  n_jobs = -1,\n",
    "  random_state = 42\n",
    ")"
   ]
  },
  {
   "cell_type": "markdown",
   "id": "656fb3d0",
   "metadata": {},
   "source": [
    "Confusion matrix ni ishlatish"
   ]
  },
  {
   "cell_type": "code",
   "execution_count": null,
   "id": "9db97970",
   "metadata": {},
   "outputs": [],
   "source": [
    "cm = confusion_matrix(y_test, y_pred)\n",
    "\n",
    "class_names = ['target class name', 'target class name']\n",
    "\n",
    "disp = ConfusionMatrixDisplay(confusion_matrix=cm, display_labels=class_names)\n",
    "disp.plot(cmap=plt.cm.Blues)\n",
    "plt.title('Error Analysis')\n",
    "plt.show()"
   ]
  },
  {
   "cell_type": "markdown",
   "id": "c07e010c",
   "metadata": {},
   "source": [
    "Saving files as csv"
   ]
  },
  {
   "cell_type": "code",
   "execution_count": null,
   "id": "d85b49bb",
   "metadata": {},
   "outputs": [],
   "source": [
    "# usually x_test/y_test for name\n",
    "x_test.to_csv('name.csv', index=False)\n",
    "y_test.to_csv('name.csv', index=False)"
   ]
  },
  {
   "cell_type": "markdown",
   "id": "c12fe79c",
   "metadata": {},
   "source": [
    "Renaming column names"
   ]
  },
  {
   "cell_type": "code",
   "execution_count": null,
   "id": "c6581a10",
   "metadata": {},
   "outputs": [],
   "source": [
    "df.rename(columns={'Height (cm)': 'Height', 'Weight (kg)': 'Weight'}, inplace=True)"
   ]
  },
  {
   "cell_type": "markdown",
   "id": "a006b076",
   "metadata": {},
   "source": [
    "How to make lowercase the values of columns (eg: Male --> male)"
   ]
  },
  {
   "cell_type": "code",
   "execution_count": null,
   "id": "e8250ba1",
   "metadata": {},
   "outputs": [],
   "source": [
    "df['column name'] = df['column name'].str.lower().str.strip()\n",
    "df['column name'] = df['column name'].str.lower().str.strip()"
   ]
  },
  {
   "cell_type": "markdown",
   "id": "f3caf13a",
   "metadata": {},
   "source": [
    "To make a categotical column numerical"
   ]
  },
  {
   "cell_type": "code",
   "execution_count": null,
   "id": "f0858b7d",
   "metadata": {},
   "outputs": [],
   "source": [
    "df['column_name'] = pd.to_numeric(df['column_name'], errors='coerce')"
   ]
  },
  {
   "cell_type": "markdown",
   "id": "a51ae8d1",
   "metadata": {},
   "source": [
    "plt va sns orqali missing value larni ko'rish"
   ]
  },
  {
   "cell_type": "code",
   "execution_count": null,
   "id": "6100fb7f",
   "metadata": {},
   "outputs": [],
   "source": [
    "missing = df.isnull().sum()\n",
    "missing = missing[missing > 0].sort_values(ascending=False)\n",
    "\n",
    "plt.figure(figsize=(10,6))\n",
    "sns.barplot(x=missing.values, y=missing.index, palette='viridis')\n",
    "plt.title('Missing values by features')\n",
    "plt.xlabel('Number of missing values')\n",
    "plt.ylabel('Feature')\n",
    "plt.show()"
   ]
  },
  {
   "cell_type": "markdown",
   "id": "0b101454",
   "metadata": {},
   "source": [
    "plotly.express orqali piechartda missing value larni ko'rish"
   ]
  },
  {
   "cell_type": "code",
   "execution_count": null,
   "id": "9040b09c",
   "metadata": {},
   "outputs": [],
   "source": [
    "value_counts = df['Square Footage'].isnull().value_counts().rename(index={True: 'Missing', False: 'Not Missing'}).reset_index()\n",
    "value_counts.columns = ['Status', 'Count']\n",
    "\n",
    "px.pie(value_counts, names='Status', values='Count', title='Missing vs Not Missing - Age')"
   ]
  },
  {
   "cell_type": "markdown",
   "id": "7954737e",
   "metadata": {},
   "source": [
    "Regression modelda actual vs predicted valuelarni visual ko'rish (confusion matrix faqat classificationda ishlab, regressionda ishlamagani sababli)"
   ]
  },
  {
   "cell_type": "code",
   "execution_count": null,
   "id": "699c4eb3",
   "metadata": {},
   "outputs": [],
   "source": [
    "sns.scatterplot(x=y_val, y=y_pred)\n",
    "plt.xlabel(\"Actual Values\")\n",
    "plt.ylabel(\"Predicted Values\")\n",
    "plt.title(\"Actual vs. Predicted\")\n",
    "plt.plot([y_val.min(), y_val.max()], [y_val.min(), y_val.max()], 'r--')\n",
    "plt.show()"
   ]
  },
  {
   "cell_type": "code",
   "execution_count": null,
   "id": "fe52db19",
   "metadata": {},
   "outputs": [],
   "source": []
  }
 ],
 "metadata": {
  "kernelspec": {
   "display_name": "Python 3",
   "language": "python",
   "name": "python3"
  },
  "language_info": {
   "codemirror_mode": {
    "name": "ipython",
    "version": 3
   },
   "file_extension": ".py",
   "mimetype": "text/x-python",
   "name": "python",
   "nbconvert_exporter": "python",
   "pygments_lexer": "ipython3",
   "version": "3.13.2"
  }
 },
 "nbformat": 4,
 "nbformat_minor": 5
}
