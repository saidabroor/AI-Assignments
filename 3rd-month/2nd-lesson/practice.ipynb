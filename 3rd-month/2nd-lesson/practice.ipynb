{
 "cells": [
  {
   "cell_type": "code",
   "execution_count": 1,
   "id": "5c22f180",
   "metadata": {},
   "outputs": [],
   "source": [
    "import pandas as pd\n",
    "import numpy as np\n",
    "import matplotlib.pyplot as plt\n",
    "import seaborn as sns\n",
    "\n",
    "from sklearn.preprocessing import StandardScaler, LabelEncoder\n",
    "from sklearn.model_selection import train_test_split\n",
    "\n",
    "from sklearn.tree import DecisionTreeRegressor\n",
    "from sklearn.metrics import mean_squared_error, r2_score\n",
    "from sklearn.feature_selection import mutual_info_regression\n",
    "\n",
    "\n",
    "\n",
    "import warnings\n",
    "warnings.filterwarnings('ignore')"
   ]
  },
  {
   "cell_type": "code",
   "execution_count": 2,
   "id": "3bbefca9",
   "metadata": {},
   "outputs": [],
   "source": [
    "df = pd.read_csv(r\"C:\\Users\\Saidabrorkhon\\Downloads\\archive 2\\Indian_housing_Mumbai_data.csv\")"
   ]
  },
  {
   "cell_type": "code",
   "execution_count": 3,
   "id": "2a85c7e1",
   "metadata": {},
   "outputs": [
    {
     "name": "stdout",
     "output_type": "stream",
     "text": [
      "<class 'pandas.core.frame.DataFrame'>\n",
      "RangeIndex: 5000 entries, 0 to 4999\n",
      "Data columns (total 16 columns):\n",
      " #   Column            Non-Null Count  Dtype  \n",
      "---  ------            --------------  -----  \n",
      " 0   house_type        5000 non-null   object \n",
      " 1   house_size        5000 non-null   object \n",
      " 2   location          5000 non-null   object \n",
      " 3   city              5000 non-null   object \n",
      " 4   latitude          5000 non-null   float64\n",
      " 5   longitude         5000 non-null   float64\n",
      " 6   price             5000 non-null   int64  \n",
      " 7   currency          5000 non-null   object \n",
      " 8   numBathrooms      4986 non-null   float64\n",
      " 9   numBalconies      733 non-null    float64\n",
      " 10  isNegotiable      571 non-null    object \n",
      " 11  priceSqFt         0 non-null      float64\n",
      " 12  verificationDate  5000 non-null   object \n",
      " 13  description       4922 non-null   object \n",
      " 14  SecurityDeposit   5000 non-null   object \n",
      " 15  Status            5000 non-null   object \n",
      "dtypes: float64(5), int64(1), object(10)\n",
      "memory usage: 625.1+ KB\n"
     ]
    }
   ],
   "source": [
    "df.info()"
   ]
  },
  {
   "cell_type": "code",
   "execution_count": 11,
   "id": "231272b2",
   "metadata": {},
   "outputs": [
    {
     "data": {
      "text/html": [
       "<div>\n",
       "<style scoped>\n",
       "    .dataframe tbody tr th:only-of-type {\n",
       "        vertical-align: middle;\n",
       "    }\n",
       "\n",
       "    .dataframe tbody tr th {\n",
       "        vertical-align: top;\n",
       "    }\n",
       "\n",
       "    .dataframe thead th {\n",
       "        text-align: right;\n",
       "    }\n",
       "</style>\n",
       "<table border=\"1\" class=\"dataframe\">\n",
       "  <thead>\n",
       "    <tr style=\"text-align: right;\">\n",
       "      <th></th>\n",
       "      <th>house_type</th>\n",
       "      <th>house_size</th>\n",
       "      <th>location</th>\n",
       "      <th>city</th>\n",
       "      <th>latitude</th>\n",
       "      <th>longitude</th>\n",
       "      <th>price</th>\n",
       "      <th>currency</th>\n",
       "      <th>numBathrooms</th>\n",
       "      <th>numBalconies</th>\n",
       "      <th>isNegotiable</th>\n",
       "      <th>verificationDate</th>\n",
       "      <th>description</th>\n",
       "      <th>SecurityDeposit</th>\n",
       "      <th>Status</th>\n",
       "    </tr>\n",
       "  </thead>\n",
       "  <tbody>\n",
       "    <tr>\n",
       "      <th>0</th>\n",
       "      <td>2 BHK Apartment</td>\n",
       "      <td>1,180 sq ft</td>\n",
       "      <td>Ulwe</td>\n",
       "      <td>Mumbai</td>\n",
       "      <td>18.971046</td>\n",
       "      <td>73.017723</td>\n",
       "      <td>19000</td>\n",
       "      <td>INR</td>\n",
       "      <td>2.0</td>\n",
       "      <td>2.06412</td>\n",
       "      <td>Negotiable</td>\n",
       "      <td>Posted 2 years ago</td>\n",
       "      <td>It has area of 1180 sqft and is available at a...</td>\n",
       "      <td>No Deposit</td>\n",
       "      <td>Furnished</td>\n",
       "    </tr>\n",
       "    <tr>\n",
       "      <th>1</th>\n",
       "      <td>2 BHK Apartment</td>\n",
       "      <td>1,120 sq ft</td>\n",
       "      <td>Ulwe</td>\n",
       "      <td>Mumbai</td>\n",
       "      <td>18.966377</td>\n",
       "      <td>73.012802</td>\n",
       "      <td>12500</td>\n",
       "      <td>INR</td>\n",
       "      <td>2.0</td>\n",
       "      <td>2.06412</td>\n",
       "      <td>Negotiable</td>\n",
       "      <td>Posted 2 years ago</td>\n",
       "      <td>Well designed 2 bhk multistorey apartment is a...</td>\n",
       "      <td>No Deposit</td>\n",
       "      <td>Unfurnished</td>\n",
       "    </tr>\n",
       "    <tr>\n",
       "      <th>2</th>\n",
       "      <td>2 BHK Apartment</td>\n",
       "      <td>1,200 sq ft</td>\n",
       "      <td>Panvel</td>\n",
       "      <td>Mumbai</td>\n",
       "      <td>18.965979</td>\n",
       "      <td>73.124649</td>\n",
       "      <td>22000</td>\n",
       "      <td>INR</td>\n",
       "      <td>2.0</td>\n",
       "      <td>2.06412</td>\n",
       "      <td>Negotiable</td>\n",
       "      <td>Posted a month ago</td>\n",
       "      <td>A spacious 2 bhk multistorey apartment is avai...</td>\n",
       "      <td>No Deposit</td>\n",
       "      <td>Unfurnished</td>\n",
       "    </tr>\n",
       "    <tr>\n",
       "      <th>3</th>\n",
       "      <td>2 BHK Apartment</td>\n",
       "      <td>750 sq ft</td>\n",
       "      <td>Kandivali West</td>\n",
       "      <td>Mumbai</td>\n",
       "      <td>19.213598</td>\n",
       "      <td>72.833633</td>\n",
       "      <td>28500</td>\n",
       "      <td>INR</td>\n",
       "      <td>2.0</td>\n",
       "      <td>2.06412</td>\n",
       "      <td>Negotiable</td>\n",
       "      <td>Posted 3 years ago</td>\n",
       "      <td>It has a built-up area of 750 sqft and is avai...</td>\n",
       "      <td>No Deposit</td>\n",
       "      <td>Unfurnished</td>\n",
       "    </tr>\n",
       "    <tr>\n",
       "      <th>4</th>\n",
       "      <td>3 BHK Apartment</td>\n",
       "      <td>1,400 sq ft</td>\n",
       "      <td>Chembur</td>\n",
       "      <td>Mumbai</td>\n",
       "      <td>19.062933</td>\n",
       "      <td>72.892395</td>\n",
       "      <td>50000</td>\n",
       "      <td>INR</td>\n",
       "      <td>3.0</td>\n",
       "      <td>2.06412</td>\n",
       "      <td>Negotiable</td>\n",
       "      <td>Posted 3 years ago</td>\n",
       "      <td>The house is semi-furnished. It has power back...</td>\n",
       "      <td>No Deposit</td>\n",
       "      <td>Semi-Furnished</td>\n",
       "    </tr>\n",
       "  </tbody>\n",
       "</table>\n",
       "</div>"
      ],
      "text/plain": [
       "         house_type   house_size        location    city   latitude  \\\n",
       "0  2 BHK Apartment   1,180 sq ft            Ulwe  Mumbai  18.971046   \n",
       "1  2 BHK Apartment   1,120 sq ft            Ulwe  Mumbai  18.966377   \n",
       "2  2 BHK Apartment   1,200 sq ft          Panvel  Mumbai  18.965979   \n",
       "3  2 BHK Apartment     750 sq ft  Kandivali West  Mumbai  19.213598   \n",
       "4  3 BHK Apartment   1,400 sq ft         Chembur  Mumbai  19.062933   \n",
       "\n",
       "   longitude  price currency  numBathrooms  numBalconies isNegotiable  \\\n",
       "0  73.017723  19000      INR           2.0       2.06412   Negotiable   \n",
       "1  73.012802  12500      INR           2.0       2.06412   Negotiable   \n",
       "2  73.124649  22000      INR           2.0       2.06412   Negotiable   \n",
       "3  72.833633  28500      INR           2.0       2.06412   Negotiable   \n",
       "4  72.892395  50000      INR           3.0       2.06412   Negotiable   \n",
       "\n",
       "     verificationDate                                        description  \\\n",
       "0  Posted 2 years ago  It has area of 1180 sqft and is available at a...   \n",
       "1  Posted 2 years ago  Well designed 2 bhk multistorey apartment is a...   \n",
       "2  Posted a month ago  A spacious 2 bhk multistorey apartment is avai...   \n",
       "3  Posted 3 years ago  It has a built-up area of 750 sqft and is avai...   \n",
       "4  Posted 3 years ago  The house is semi-furnished. It has power back...   \n",
       "\n",
       "  SecurityDeposit          Status  \n",
       "0      No Deposit       Furnished  \n",
       "1      No Deposit     Unfurnished  \n",
       "2      No Deposit     Unfurnished  \n",
       "3      No Deposit     Unfurnished  \n",
       "4      No Deposit  Semi-Furnished  "
      ]
     },
     "execution_count": 11,
     "metadata": {},
     "output_type": "execute_result"
    }
   ],
   "source": [
    "df.head()"
   ]
  },
  {
   "cell_type": "code",
   "execution_count": 7,
   "id": "617299bc",
   "metadata": {},
   "outputs": [],
   "source": [
    "for col in df.columns:\n",
    "  if np.issubdtype(df[col].dtype, np.number):\n",
    "    df[col].fillna(df[col].mean(),inplace=True)\n",
    "  else:\n",
    "    df[col].fillna(df[col].mode()[0], inplace=True)\n",
    "\n",
    "df.drop(columns=['priceSqFt'], inplace=True)"
   ]
  },
  {
   "cell_type": "code",
   "execution_count": 10,
   "id": "a860c27d",
   "metadata": {},
   "outputs": [
    {
     "data": {
      "text/plain": [
       "house_type          0\n",
       "house_size          0\n",
       "location            0\n",
       "city                0\n",
       "latitude            0\n",
       "longitude           0\n",
       "price               0\n",
       "currency            0\n",
       "numBathrooms        0\n",
       "numBalconies        0\n",
       "isNegotiable        0\n",
       "verificationDate    0\n",
       "description         0\n",
       "SecurityDeposit     0\n",
       "Status              0\n",
       "dtype: int64"
      ]
     },
     "execution_count": 10,
     "metadata": {},
     "output_type": "execute_result"
    }
   ],
   "source": [
    "df.isnull().sum()"
   ]
  },
  {
   "cell_type": "code",
   "execution_count": 13,
   "id": "56dacda0",
   "metadata": {},
   "outputs": [],
   "source": [
    "df.drop(columns=['verificationDate'], inplace=True)"
   ]
  },
  {
   "cell_type": "code",
   "execution_count": 14,
   "id": "2abc92b8",
   "metadata": {},
   "outputs": [],
   "source": [
    "df['price_per_bathroom'] = df['price'] / df['numBathrooms']"
   ]
  },
  {
   "cell_type": "code",
   "execution_count": 15,
   "id": "5f281613",
   "metadata": {},
   "outputs": [],
   "source": [
    "cat_col = df.select_dtypes(include='object').columns\n",
    "le = LabelEncoder()\n",
    "\n",
    "for col in cat_col:\n",
    "  if df[col].nunique() > 5:\n",
    "    df[col] = le.fit_transform(df[col])\n",
    "  else:\n",
    "    df = pd.get_dummies(df, columns=[col], dtype=int, drop_first=True)"
   ]
  },
  {
   "cell_type": "code",
   "execution_count": 16,
   "id": "71932e44",
   "metadata": {},
   "outputs": [
    {
     "name": "stdout",
     "output_type": "stream",
     "text": [
      "<class 'pandas.core.frame.DataFrame'>\n",
      "RangeIndex: 5000 entries, 0 to 4999\n",
      "Data columns (total 14 columns):\n",
      " #   Column                 Non-Null Count  Dtype  \n",
      "---  ------                 --------------  -----  \n",
      " 0   house_type             5000 non-null   int64  \n",
      " 1   house_size             5000 non-null   int64  \n",
      " 2   location               5000 non-null   int64  \n",
      " 3   latitude               5000 non-null   float64\n",
      " 4   longitude              5000 non-null   float64\n",
      " 5   price                  5000 non-null   int64  \n",
      " 6   numBathrooms           5000 non-null   float64\n",
      " 7   numBalconies           5000 non-null   float64\n",
      " 8   description            5000 non-null   int64  \n",
      " 9   SecurityDeposit        5000 non-null   int64  \n",
      " 10  price_per_bathroom     5000 non-null   float64\n",
      " 11  city_Mumbai            5000 non-null   int64  \n",
      " 12  Status_Semi-Furnished  5000 non-null   int64  \n",
      " 13  Status_Unfurnished     5000 non-null   int64  \n",
      "dtypes: float64(5), int64(9)\n",
      "memory usage: 547.0 KB\n"
     ]
    }
   ],
   "source": [
    "df.info()"
   ]
  },
  {
   "cell_type": "code",
   "execution_count": 17,
   "id": "b47d57d3",
   "metadata": {},
   "outputs": [],
   "source": [
    "scaler = StandardScaler()\n",
    "num_col = df.select_dtypes(include='number').columns\n",
    "\n",
    "df[num_col] = scaler.fit_transform(df[num_col])"
   ]
  },
  {
   "cell_type": "code",
   "execution_count": 10,
   "id": "1a199569",
   "metadata": {},
   "outputs": [
    {
     "data": {
      "text/html": [
       "<div>\n",
       "<style scoped>\n",
       "    .dataframe tbody tr th:only-of-type {\n",
       "        vertical-align: middle;\n",
       "    }\n",
       "\n",
       "    .dataframe tbody tr th {\n",
       "        vertical-align: top;\n",
       "    }\n",
       "\n",
       "    .dataframe thead th {\n",
       "        text-align: right;\n",
       "    }\n",
       "</style>\n",
       "<table border=\"1\" class=\"dataframe\">\n",
       "  <thead>\n",
       "    <tr style=\"text-align: right;\">\n",
       "      <th></th>\n",
       "      <th>house_type</th>\n",
       "      <th>house_size</th>\n",
       "      <th>location</th>\n",
       "      <th>latitude</th>\n",
       "      <th>longitude</th>\n",
       "      <th>price</th>\n",
       "      <th>numBathrooms</th>\n",
       "      <th>numBalconies</th>\n",
       "      <th>verificationDate</th>\n",
       "      <th>description</th>\n",
       "      <th>SecurityDeposit</th>\n",
       "      <th>city_Mumbai</th>\n",
       "      <th>Status_Semi-Furnished</th>\n",
       "      <th>Status_Unfurnished</th>\n",
       "    </tr>\n",
       "  </thead>\n",
       "  <tbody>\n",
       "    <tr>\n",
       "      <th>0</th>\n",
       "      <td>0.235485</td>\n",
       "      <td>-1.264763</td>\n",
       "      <td>1.567631</td>\n",
       "      <td>-0.431945</td>\n",
       "      <td>0.114293</td>\n",
       "      <td>-0.489027</td>\n",
       "      <td>-0.042387</td>\n",
       "      <td>0.0</td>\n",
       "      <td>-0.872570</td>\n",
       "      <td>-0.346216</td>\n",
       "      <td>0.495598</td>\n",
       "      <td>0.040032</td>\n",
       "      <td>-0.842607</td>\n",
       "      <td>-0.674043</td>\n",
       "    </tr>\n",
       "    <tr>\n",
       "      <th>1</th>\n",
       "      <td>0.235485</td>\n",
       "      <td>-1.404781</td>\n",
       "      <td>1.567631</td>\n",
       "      <td>-0.442668</td>\n",
       "      <td>0.105572</td>\n",
       "      <td>-0.562278</td>\n",
       "      <td>-0.042387</td>\n",
       "      <td>0.0</td>\n",
       "      <td>-0.872570</td>\n",
       "      <td>1.549140</td>\n",
       "      <td>0.495598</td>\n",
       "      <td>0.040032</td>\n",
       "      <td>-0.842607</td>\n",
       "      <td>1.483585</td>\n",
       "    </tr>\n",
       "    <tr>\n",
       "      <th>2</th>\n",
       "      <td>0.235485</td>\n",
       "      <td>-1.218090</td>\n",
       "      <td>0.827534</td>\n",
       "      <td>-0.443583</td>\n",
       "      <td>0.303773</td>\n",
       "      <td>-0.455219</td>\n",
       "      <td>-0.042387</td>\n",
       "      <td>0.0</td>\n",
       "      <td>1.051054</td>\n",
       "      <td>-0.978259</td>\n",
       "      <td>0.495598</td>\n",
       "      <td>0.040032</td>\n",
       "      <td>-0.842607</td>\n",
       "      <td>1.483585</td>\n",
       "    </tr>\n",
       "    <tr>\n",
       "      <th>3</th>\n",
       "      <td>0.235485</td>\n",
       "      <td>0.949605</td>\n",
       "      <td>-0.007447</td>\n",
       "      <td>0.125067</td>\n",
       "      <td>-0.211926</td>\n",
       "      <td>-0.381968</td>\n",
       "      <td>-0.042387</td>\n",
       "      <td>0.0</td>\n",
       "      <td>-0.088871</td>\n",
       "      <td>-0.593470</td>\n",
       "      <td>0.495598</td>\n",
       "      <td>0.040032</td>\n",
       "      <td>-0.842607</td>\n",
       "      <td>1.483585</td>\n",
       "    </tr>\n",
       "    <tr>\n",
       "      <th>4</th>\n",
       "      <td>1.124554</td>\n",
       "      <td>-0.855079</td>\n",
       "      <td>-0.899358</td>\n",
       "      <td>-0.220931</td>\n",
       "      <td>-0.107797</td>\n",
       "      <td>-0.139675</td>\n",
       "      <td>1.208146</td>\n",
       "      <td>0.0</td>\n",
       "      <td>-0.088871</td>\n",
       "      <td>0.795015</td>\n",
       "      <td>0.495598</td>\n",
       "      <td>0.040032</td>\n",
       "      <td>1.186793</td>\n",
       "      <td>-0.674043</td>\n",
       "    </tr>\n",
       "  </tbody>\n",
       "</table>\n",
       "</div>"
      ],
      "text/plain": [
       "   house_type  house_size  location  latitude  longitude     price  \\\n",
       "0    0.235485   -1.264763  1.567631 -0.431945   0.114293 -0.489027   \n",
       "1    0.235485   -1.404781  1.567631 -0.442668   0.105572 -0.562278   \n",
       "2    0.235485   -1.218090  0.827534 -0.443583   0.303773 -0.455219   \n",
       "3    0.235485    0.949605 -0.007447  0.125067  -0.211926 -0.381968   \n",
       "4    1.124554   -0.855079 -0.899358 -0.220931  -0.107797 -0.139675   \n",
       "\n",
       "   numBathrooms  numBalconies  verificationDate  description  SecurityDeposit  \\\n",
       "0     -0.042387           0.0         -0.872570    -0.346216         0.495598   \n",
       "1     -0.042387           0.0         -0.872570     1.549140         0.495598   \n",
       "2     -0.042387           0.0          1.051054    -0.978259         0.495598   \n",
       "3     -0.042387           0.0         -0.088871    -0.593470         0.495598   \n",
       "4      1.208146           0.0         -0.088871     0.795015         0.495598   \n",
       "\n",
       "   city_Mumbai  Status_Semi-Furnished  Status_Unfurnished  \n",
       "0     0.040032              -0.842607           -0.674043  \n",
       "1     0.040032              -0.842607            1.483585  \n",
       "2     0.040032              -0.842607            1.483585  \n",
       "3     0.040032              -0.842607            1.483585  \n",
       "4     0.040032               1.186793           -0.674043  "
      ]
     },
     "execution_count": 10,
     "metadata": {},
     "output_type": "execute_result"
    }
   ],
   "source": [
    "df.head()"
   ]
  },
  {
   "cell_type": "code",
   "execution_count": 18,
   "id": "72ca2424",
   "metadata": {},
   "outputs": [
    {
     "name": "stdout",
     "output_type": "stream",
     "text": [
      "<class 'pandas.core.frame.DataFrame'>\n",
      "RangeIndex: 5000 entries, 0 to 4999\n",
      "Data columns (total 14 columns):\n",
      " #   Column                 Non-Null Count  Dtype  \n",
      "---  ------                 --------------  -----  \n",
      " 0   house_type             5000 non-null   float64\n",
      " 1   house_size             5000 non-null   float64\n",
      " 2   location               5000 non-null   float64\n",
      " 3   latitude               5000 non-null   float64\n",
      " 4   longitude              5000 non-null   float64\n",
      " 5   price                  5000 non-null   float64\n",
      " 6   numBathrooms           5000 non-null   float64\n",
      " 7   numBalconies           5000 non-null   float64\n",
      " 8   description            5000 non-null   float64\n",
      " 9   SecurityDeposit        5000 non-null   float64\n",
      " 10  price_per_bathroom     5000 non-null   float64\n",
      " 11  city_Mumbai            5000 non-null   float64\n",
      " 12  Status_Semi-Furnished  5000 non-null   float64\n",
      " 13  Status_Unfurnished     5000 non-null   float64\n",
      "dtypes: float64(14)\n",
      "memory usage: 547.0 KB\n"
     ]
    }
   ],
   "source": [
    "df.info()"
   ]
  },
  {
   "cell_type": "code",
   "execution_count": 19,
   "id": "716fa034",
   "metadata": {},
   "outputs": [],
   "source": [
    "def mtop_scores(df, target_column, top_n=9):\n",
    "    \n",
    "    x = df.copy()\n",
    "    y = x.pop(target_column)\n",
    "    \n",
    "    mi_scores = mutual_info_regression(x, y)\n",
    "    mi_scores_df = pd.DataFrame(mi_scores, index=x.columns, columns=['Mutual Info'])\n",
    "    mi_scores_df = mi_scores_df.sort_values(by='Mutual Info', ascending=False)\n",
    "\n",
    "    return mi_scores_df.head(top_n)\n"
   ]
  },
  {
   "cell_type": "code",
   "execution_count": 20,
   "id": "bb5a2c81",
   "metadata": {},
   "outputs": [
    {
     "data": {
      "text/html": [
       "<div>\n",
       "<style scoped>\n",
       "    .dataframe tbody tr th:only-of-type {\n",
       "        vertical-align: middle;\n",
       "    }\n",
       "\n",
       "    .dataframe tbody tr th {\n",
       "        vertical-align: top;\n",
       "    }\n",
       "\n",
       "    .dataframe thead th {\n",
       "        text-align: right;\n",
       "    }\n",
       "</style>\n",
       "<table border=\"1\" class=\"dataframe\">\n",
       "  <thead>\n",
       "    <tr style=\"text-align: right;\">\n",
       "      <th></th>\n",
       "      <th>Mutual Info</th>\n",
       "    </tr>\n",
       "  </thead>\n",
       "  <tbody>\n",
       "    <tr>\n",
       "      <th>price_per_bathroom</th>\n",
       "      <td>3.708670</td>\n",
       "    </tr>\n",
       "    <tr>\n",
       "      <th>longitude</th>\n",
       "      <td>0.920830</td>\n",
       "    </tr>\n",
       "    <tr>\n",
       "      <th>latitude</th>\n",
       "      <td>0.831547</td>\n",
       "    </tr>\n",
       "    <tr>\n",
       "      <th>location</th>\n",
       "      <td>0.817680</td>\n",
       "    </tr>\n",
       "    <tr>\n",
       "      <th>house_size</th>\n",
       "      <td>0.693007</td>\n",
       "    </tr>\n",
       "    <tr>\n",
       "      <th>description</th>\n",
       "      <td>0.484144</td>\n",
       "    </tr>\n",
       "    <tr>\n",
       "      <th>SecurityDeposit</th>\n",
       "      <td>0.357726</td>\n",
       "    </tr>\n",
       "    <tr>\n",
       "      <th>house_type</th>\n",
       "      <td>0.343068</td>\n",
       "    </tr>\n",
       "    <tr>\n",
       "      <th>numBathrooms</th>\n",
       "      <td>0.286443</td>\n",
       "    </tr>\n",
       "  </tbody>\n",
       "</table>\n",
       "</div>"
      ],
      "text/plain": [
       "                    Mutual Info\n",
       "price_per_bathroom     3.708670\n",
       "longitude              0.920830\n",
       "latitude               0.831547\n",
       "location               0.817680\n",
       "house_size             0.693007\n",
       "description            0.484144\n",
       "SecurityDeposit        0.357726\n",
       "house_type             0.343068\n",
       "numBathrooms           0.286443"
      ]
     },
     "execution_count": 20,
     "metadata": {},
     "output_type": "execute_result"
    }
   ],
   "source": [
    "top_scores = mtop_scores(df, 'price', top_n=9)\n",
    "top_scores"
   ]
  },
  {
   "cell_type": "code",
   "execution_count": 21,
   "id": "c75adb99",
   "metadata": {},
   "outputs": [],
   "source": [
    "x = df.drop(columns=['price'])\n",
    "y = df['price']\n",
    "\n",
    "x_train, x_temp, y_train, y_temp = train_test_split(x, y, test_size=0.2, random_state=42)\n",
    "x_test, x_val, y_test, y_val = train_test_split(x_temp, y_temp, test_size=0.5, random_state=42)"
   ]
  },
  {
   "cell_type": "code",
   "execution_count": 22,
   "id": "0df3694c",
   "metadata": {},
   "outputs": [],
   "source": [
    "model = DecisionTreeRegressor(random_state=42)\n",
    "dt_model = model.fit(x_train, y_train)"
   ]
  },
  {
   "cell_type": "code",
   "execution_count": 23,
   "id": "045a810c",
   "metadata": {},
   "outputs": [],
   "source": [
    "y_pred = dt_model.predict(x_val)"
   ]
  },
  {
   "cell_type": "code",
   "execution_count": 31,
   "id": "8a644893",
   "metadata": {},
   "outputs": [
    {
     "name": "stdout",
     "output_type": "stream",
     "text": [
      "0.022874350870483156\n",
      "0.9796564204248567\n"
     ]
    }
   ],
   "source": [
    "dt_mse = mean_squared_error(y_val, y_pred)\n",
    "dt_r2 = r2_score(y_val, y_pred)\n",
    "print(dt_mse)\n",
    "print(dt_r2)\n",
    "\n",
    "# mse: 0.13427876286517653\n",
    "# r2:  0.9197168935761537\n",
    "\n",
    "dt_mse = 0.13427876286517653\n",
    "dt_r2 = 0.9197168935761537"
   ]
  },
  {
   "cell_type": "code",
   "execution_count": null,
   "id": "5bf3bb52",
   "metadata": {},
   "outputs": [
    {
     "name": "stdout",
     "output_type": "stream",
     "text": [
      "0.022874350870483156\n",
      "0.9796564204248567\n"
     ]
    }
   ],
   "source": [
    "mi_mse = mean_squared_error(y_val, y_pred)\n",
    "mi_r2 = r2_score(y_val, y_pred)\n",
    "print(mi_mse)\n",
    "print(mi_r2)\n",
    "\n",
    "# 0.022874350870483156\n",
    "# 0.9796564204248567"
   ]
  },
  {
   "cell_type": "code",
   "execution_count": 25,
   "id": "7fae1158",
   "metadata": {},
   "outputs": [],
   "source": [
    "from tabulate import tabulate"
   ]
  },
  {
   "cell_type": "code",
   "execution_count": null,
   "id": "c87e73f1",
   "metadata": {},
   "outputs": [
    {
     "name": "stdout",
     "output_type": "stream",
     "text": [
      "+---------------------------+-----------+----------+\n",
      "| Model                     |       MSE |       R2 |\n",
      "+===========================+===========+==========+\n",
      "| After feature engineering | 0.134279  | 0.919717 |\n",
      "+---------------------------+-----------+----------+\n",
      "| DecisionTreeRegressor     | 0.0228744 | 0.979656 |\n",
      "+---------------------------+-----------+----------+\n"
     ]
    }
   ],
   "source": [
    "headers=['Model', 'MSE', 'R2']\n",
    "table=[\n",
    "  ['After feature engineering', dt_mse, dt_r2],\n",
    "  ['DecisionTreeRegressor', mi_mse, mi_r2]\n",
    "]\n",
    "\n",
    "print(tabulate(table, headers=headers, tablefmt='grid'))"
   ]
  },
  {
   "cell_type": "code",
   "execution_count": null,
   "id": "7e16966e",
   "metadata": {},
   "outputs": [],
   "source": []
  }
 ],
 "metadata": {
  "kernelspec": {
   "display_name": "Python 3",
   "language": "python",
   "name": "python3"
  },
  "language_info": {
   "codemirror_mode": {
    "name": "ipython",
    "version": 3
   },
   "file_extension": ".py",
   "mimetype": "text/x-python",
   "name": "python",
   "nbconvert_exporter": "python",
   "pygments_lexer": "ipython3",
   "version": "3.13.2"
  }
 },
 "nbformat": 4,
 "nbformat_minor": 5
}
