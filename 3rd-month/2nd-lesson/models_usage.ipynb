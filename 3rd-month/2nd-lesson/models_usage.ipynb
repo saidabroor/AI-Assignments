{
 "cells": [
  {
   "cell_type": "code",
   "execution_count": 1,
   "id": "e33b75e8",
   "metadata": {},
   "outputs": [],
   "source": [
    "from tabulate import tabulate"
   ]
  },
  {
   "cell_type": "code",
   "execution_count": 3,
   "id": "a10192dd",
   "metadata": {},
   "outputs": [
    {
     "name": "stdout",
     "output_type": "stream",
     "text": [
      "+-----------------------+------------------------------------------+------------------------------------------+\n",
      "| Deployment Strategy   | Example Model 1                          | Example Model 2                          |\n",
      "+=======================+==========================================+==========================================+\n",
      "| Rolling               | Language detection model for comments    | Sentiment analysis for customer reviews  |\n",
      "+-----------------------+------------------------------------------+------------------------------------------+\n",
      "| Blue-Green            | Credit card fraud detection in banking   | Health diagnostics model in hospital app |\n",
      "+-----------------------+------------------------------------------+------------------------------------------+\n",
      "| Canary                | Personalized news feed recommender       | AI chatbot on customer service app       |\n",
      "+-----------------------+------------------------------------------+------------------------------------------+\n",
      "| Shadow                | Product recommendation for new users     | Anomaly detection for transactions       |\n",
      "+-----------------------+------------------------------------------+------------------------------------------+\n",
      "| Feature Flags         | Social media post ranking model          | Trending hashtag detection model         |\n",
      "+-----------------------+------------------------------------------+------------------------------------------+\n",
      "| Immutable             | Financial forecast model                 | Face recognition model on edge devices   |\n",
      "+-----------------------+------------------------------------------+------------------------------------------+\n",
      "| A/B Testing           | Product pricing model on e-commerce site | Search ranking model for travel website  |\n",
      "+-----------------------+------------------------------------------+------------------------------------------+\n"
     ]
    }
   ],
   "source": [
    "from tabulate import tabulate\n",
    "\n",
    "data = [\n",
    "    [\"Rolling\", \"Language detection model for comments\", \"Sentiment analysis for customer reviews\"],\n",
    "    [\"Blue-Green\", \"Credit card fraud detection in banking\", \"Health diagnostics model in hospital app\"],\n",
    "    [\"Canary\", \"Personalized news feed recommender\", \"AI chatbot on customer service app\"],\n",
    "    [\"Shadow\", \"Product recommendation for new users\", \"Anomaly detection for transactions\"],\n",
    "    [\"Feature Flags\", \"Social media post ranking model\", \"Trending hashtag detection model\"],\n",
    "    [\"Immutable\", \"Financial forecast model\", \"Face recognition model on edge devices\"],\n",
    "    [\"A/B Testing\", \"Product pricing model on e-commerce site\", \"Search ranking model for travel website\"],\n",
    "]\n",
    "\n",
    "headers = [\"Deployment Strategy\", \"Example Model 1\", \"Example Model 2\"]\n",
    "\n",
    "print(tabulate(data, headers=headers, tablefmt=\"grid\"))\n"
   ]
  }
 ],
 "metadata": {
  "kernelspec": {
   "display_name": "Python 3",
   "language": "python",
   "name": "python3"
  },
  "language_info": {
   "codemirror_mode": {
    "name": "ipython",
    "version": 3
   },
   "file_extension": ".py",
   "mimetype": "text/x-python",
   "name": "python",
   "nbconvert_exporter": "python",
   "pygments_lexer": "ipython3",
   "version": "3.13.2"
  }
 },
 "nbformat": 4,
 "nbformat_minor": 5
}
