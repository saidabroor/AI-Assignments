{
 "cells": [
  {
   "cell_type": "code",
   "execution_count": 1,
   "id": "99317c99",
   "metadata": {},
   "outputs": [
    {
     "data": {
      "text/plain": [
       "[2, 2, 4, 66]"
      ]
     },
     "execution_count": 1,
     "metadata": {},
     "output_type": "execute_result"
    }
   ],
   "source": [
    "# Istalgan list elementlari kirgizilganda ular orasidan juft va mustbatlarini ekranga chiqaruvchi funksiya yozing.\n",
    "\n",
    "def juft_va_mustbat(sonlar):\n",
    "  natija=[]\n",
    "  for i in sonlar:\n",
    "    if i > 0 and i % 2 == 0:\n",
    "      natija.append(i)\n",
    "  return natija\n",
    "\n",
    "a = [1,-1,0,1,2,2,3,3,4,5,5,66]\n",
    "juft_va_mustbat(a)\n"
   ]
  },
  {
   "cell_type": "code",
   "execution_count": 5,
   "id": "4d6d494a",
   "metadata": {},
   "outputs": [
    {
     "data": {
      "text/plain": [
       "(2, 1)"
      ]
     },
     "execution_count": 5,
     "metadata": {},
     "output_type": "execute_result"
    }
   ],
   "source": [
    "# Ikkita elementdan tashkil topgan tuple elementlarining o'rinlarini almashtirib beradigan funksiya tuzing.\n",
    "\n",
    "def swap(a):\n",
    "  return a[1],a[0]\n",
    "\n",
    "t = (1,2)\n",
    "swap(t)"
   ]
  },
  {
   "cell_type": "code",
   "execution_count": 23,
   "id": "76474ed3",
   "metadata": {},
   "outputs": [
    {
     "data": {
      "text/plain": [
       "2.0"
      ]
     },
     "execution_count": 23,
     "metadata": {},
     "output_type": "execute_result"
    }
   ],
   "source": [
    "# Berilgan dict qiymatlarining o'rta arifmetigini chiqaradigan funksiya yozing.\n",
    "\n",
    "def average(a):\n",
    "    values = list(a.values())\n",
    "    result = sum(values)\n",
    "    avg = result / len(values)\n",
    "    return avg\n",
    "\n",
    "c = {'a': 1, 'b': 2, 'c': 3}\n",
    "average(c)"
   ]
  },
  {
   "cell_type": "code",
   "execution_count": 43,
   "id": "f0b72a84",
   "metadata": {},
   "outputs": [
    {
     "data": {
      "text/plain": [
       "6"
      ]
     },
     "execution_count": 43,
     "metadata": {},
     "output_type": "execute_result"
    }
   ],
   "source": [
    "# Berilgan str uzunligini qaytaradigan funksiya yozing.\n",
    "\n",
    "def uzunlik(a):\n",
    "   if type(a) != str:\n",
    "       print('Xato element kiritildi.')\n",
    "   else:\n",
    "    return len(a)\n",
    "\n",
    "p = 'pyhton'\n",
    "uzunlik(p)"
   ]
  },
  {
   "cell_type": "code",
   "execution_count": 41,
   "id": "f0b6afc2",
   "metadata": {},
   "outputs": [
    {
     "name": "stdout",
     "output_type": "stream",
     "text": [
      "Xato element kiritildi.\n"
     ]
    }
   ],
   "source": [
    "a = 1\n",
    "uzunlik(a)"
   ]
  },
  {
   "cell_type": "code",
   "execution_count": 48,
   "id": "43cfbcfb",
   "metadata": {},
   "outputs": [
    {
     "data": {
      "text/plain": [
       "'Juftlar: [2, 4, 56, 6], Toqlar: [1, 3, 5]'"
      ]
     },
     "execution_count": 48,
     "metadata": {},
     "output_type": "execute_result"
    }
   ],
   "source": [
    "# List elementlarini juft va toqlarini alohida yangi 2 ta listga joylashtirib beradigan funksiya tuzing.\n",
    "\n",
    "def separate(listt):\n",
    "  juft=[]\n",
    "  toq=[]\n",
    "  for i in listt:\n",
    "    if i % 2 == 0:\n",
    "      juft.append(i)\n",
    "    else:\n",
    "      toq.append(i)\n",
    "  return f\"Juftlar: {juft}, Toqlar: {toq}\"\n",
    "\n",
    "d = [1,2,3,4,5,56,6]\n",
    "separate(d)"
   ]
  },
  {
   "cell_type": "code",
   "execution_count": null,
   "id": "d8c92e6c",
   "metadata": {},
   "outputs": [],
   "source": []
  }
 ],
 "metadata": {
  "kernelspec": {
   "display_name": "Python 3",
   "language": "python",
   "name": "python3"
  },
  "language_info": {
   "codemirror_mode": {
    "name": "ipython",
    "version": 3
   },
   "file_extension": ".py",
   "mimetype": "text/x-python",
   "name": "python",
   "nbconvert_exporter": "python",
   "pygments_lexer": "ipython3",
   "version": "3.13.2"
  }
 },
 "nbformat": 4,
 "nbformat_minor": 5
}
