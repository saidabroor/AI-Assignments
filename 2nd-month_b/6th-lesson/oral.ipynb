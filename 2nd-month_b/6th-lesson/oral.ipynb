{
 "cells": [
  {
   "cell_type": "markdown",
   "id": "8cdabd3e",
   "metadata": {},
   "source": [
    "# 1. Feature engineering va Transforming orasidagi farq?\n",
    "\n",
    "Feature engineering ikki va undan ko'p columnlardan fooydalanib yangi column yaratish. Feature Transforming esa bir column ustida uning qiymatlarini turli yo'llar bilan o'zgartirish orqali ish olib borish."
   ]
  },
  {
   "cell_type": "markdown",
   "id": "dd2f1b9e",
   "metadata": {},
   "source": [
    "# 2. Qanday turdagi feature transforming bor?\n",
    "\n",
    "Feature transforming yo'llari quyidagilardan iborat:\n",
    "- Mathematical (Logarithmic, Power, Exponentiation, Sqrt)\n",
    "- Scaling, Normalization\n",
    "- Encoding\n",
    "- Discretization\n",
    "- Groupby, log, rank"
   ]
  },
  {
   "cell_type": "markdown",
   "id": "e926ba87",
   "metadata": {},
   "source": [
    "# 3. Klib va Autocleanning bir biridan farqi va o'xshashliklari?\n",
    "\n",
    "Farqlari: \n",
    "Autoclean - handling missing value (mean and mode), removing non-numerical characters from elements, encoding (label)\n",
    "Klib - dropping 50% more missing value rows, dropping duplicated data, column name standardization, data visualization\n",
    "\n",
    "O'xshashliklari:\n",
    "Reduce memory usage"
   ]
  },
  {
   "cell_type": "markdown",
   "id": "7702946e",
   "metadata": {},
   "source": [
    "# 4.Funksiya nima? Lambda funksiya qanday ishlaydi?\n",
    "\n",
    "Funksiya - istalgan nom bilan ataladigan, filening istalgan joyida yana qayta ishlatish mumkin bo'lgan, bir vazifani bajaradigan logika ustiga qurilgan python code block.\n",
    "Lambda funksiya - anonymous ya'ni nomsiz, faqar bir martalik, kichik logikani o'z ichiga olgan funksiya. Odatda print() buyrug'i ichida lambda x: ko'rinishida ishlaydi va parameteri ham logikadan keyinla beriladi. Ya'ni: print((lambda x: x + 2)(2)) ko'rinishida."
   ]
  },
  {
   "cell_type": "markdown",
   "id": "931ed4e3",
   "metadata": {},
   "source": [
    "# 5. Data structure List: Python/ML\n",
    "\n",
    "List - tartiblangan, mutuable (o'zgartirsa bo'ladigan), turli data typelarni saqlash mumkin bo'lgan data tizimi hisoblanadi. append(), insert(), pop(), remove(), clear(), count() kabi funksiyalarni o'z ichiga oladi.\n",
    "\n",
    "Machine learningda biz shu paytgacha - masalan encoding qilishda,  featurelarni num_col va cat_col ga ajratganimizda ularni listda saqlashimiz, yoki pipeline qismida steps= dan so'ng imputerlarni ham listda saqlaymiz. Yoki mutual_info tekshirishda ham score larni listda saqlashda va scoreni tabulateda ko'rsatishda ishlaydi."
   ]
  },
  {
   "cell_type": "markdown",
   "id": "b9c115e6",
   "metadata": {},
   "source": [
    "# 6. Data structure Dict: Python/ML\n",
    "\n",
    "Dictionary - mutuable, unordered, key-value tartibida ishlaydigan python data structure. Buning ham get(), keys(), values(), items(), pop(), popitem(), clear() kabi funksiyalari bor.\n",
    "ML da Dataframe yasashda, target valueni mapping qilishda, hyperparameter turingda parameterlarni berishda ishlatdik."
   ]
  },
  {
   "cell_type": "markdown",
   "metadata": {},
   "source": [
    "# 7. Data structure Tuple: Python/ML\n",
    "\n",
    "Tuple - ordered, unmutuable, turli datatypeni saqlay oladigan, o'zgartirib bo'lmaydigan, listdan tezroq ishlaydigan data structure hisoblanadi. count(), index(), max(), min(), len(), kabi funksiyalari bor. Kamligiga sabab ham uni o'zgartirib bo'lmagani sabab.\n",
    "\n",
    "Machine learningda x_train, y_train ga train_test_split da ajratganimizda data tupleda bo'lishi, pipeline steplari tupleda saqlanishi, masalan ('scaler', standardscaler()) qilganimizda ishlatishimiz mumkin."
   ]
  }
 ],
 "metadata": {
  "kernelspec": {
   "display_name": "Python 3",
   "language": "python",
   "name": "python3"
  },
  "language_info": {
   "codemirror_mode": {
    "name": "ipython",
    "version": 3
   },
   "file_extension": ".py",
   "mimetype": "text/x-python",
   "name": "python",
   "nbconvert_exporter": "python",
   "pygments_lexer": "ipython3",
   "version": "3.13.2"
  }
 },
 "nbformat": 4,
 "nbformat_minor": 5
}
