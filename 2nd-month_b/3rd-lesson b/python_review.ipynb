{
 "cells": [
  {
   "cell_type": "code",
   "execution_count": 6,
   "id": "aa1535de",
   "metadata": {},
   "outputs": [
    {
     "name": "stdout",
     "output_type": "stream",
     "text": [
      "O'rtadagi element: 30\n"
     ]
    }
   ],
   "source": [
    "# #Berilgan listni o'rtasidagi elementni toping\n",
    "\n",
    "a = [10, 20, 30, 40, 50]\n",
    "\n",
    "middle_index = len(a) // 2\n",
    "middle_element = a[middle_index]\n",
    "\n",
    "print(\"O'rtadagi element:\", middle_element)\n"
   ]
  },
  {
   "cell_type": "code",
   "execution_count": 8,
   "id": "203a27d8",
   "metadata": {},
   "outputs": [
    {
     "data": {
      "text/plain": [
       "[10, 20, 40, 50]"
      ]
     },
     "execution_count": 8,
     "metadata": {},
     "output_type": "execute_result"
    }
   ],
   "source": [
    "#Berilgan listni o'rtasidagi elementni o'chiring\n",
    "\n",
    "a = [10, 20, 30, 40, 50]\n",
    "middle_index = len(a) // 2\n",
    "a.pop(middle_index)\n",
    "a"
   ]
  },
  {
   "cell_type": "code",
   "execution_count": 10,
   "id": "bffa5327",
   "metadata": {},
   "outputs": [
    {
     "data": {
      "text/plain": [
       "[10, 20, 30, 40, 50]"
      ]
     },
     "execution_count": 10,
     "metadata": {},
     "output_type": "execute_result"
    }
   ],
   "source": [
    "#Berilgan list o'rtasiga elementni qo'shing\n",
    "\n",
    "a = [10, 20, 40, 50]\n",
    "middle_index = len(a) // 2\n",
    "a.insert(middle_index, 30)\n",
    "a"
   ]
  },
  {
   "cell_type": "code",
   "execution_count": 17,
   "id": "903f5ccc",
   "metadata": {},
   "outputs": [
    {
     "name": "stdout",
     "output_type": "stream",
     "text": [
      "Natija: [20, 40, 60]\n"
     ]
    }
   ],
   "source": [
    "my_list = [10, 20, 30, 40, 50, 60]\n",
    "\n",
    "new_list = []\n",
    "\n",
    "for i in range(len(my_list)):\n",
    "    if i % 2 != 0: \n",
    "        new_list.append(my_list[i])\n",
    "\n",
    "print(\"Natija:\", new_list)\n"
   ]
  },
  {
   "cell_type": "code",
   "execution_count": 20,
   "id": "7e224f7d",
   "metadata": {},
   "outputs": [
    {
     "name": "stdout",
     "output_type": "stream",
     "text": [
      "Juftlar yigindisi: 90\n",
      "Toqlar yigindisi: 120\n"
     ]
    }
   ],
   "source": [
    "b = [10, 20, 30, 40, 50, 60]\n",
    "\n",
    "juft = 0  \n",
    "toq = 0 \n",
    "\n",
    "for i in range(len(b)):\n",
    "    if i % 2 == 0:\n",
    "        juft += b[i]\n",
    "    else: \n",
    "        toq += b[i]\n",
    "\n",
    "print(\"Juftlar yigindisi:\", juft)\n",
    "print(\"Toqlar yigindisi:\", toq)\n"
   ]
  },
  {
   "cell_type": "code",
   "execution_count": null,
   "id": "749a5357",
   "metadata": {},
   "outputs": [],
   "source": []
  }
 ],
 "metadata": {
  "kernelspec": {
   "display_name": "Python 3",
   "language": "python",
   "name": "python3"
  },
  "language_info": {
   "codemirror_mode": {
    "name": "ipython",
    "version": 3
   },
   "file_extension": ".py",
   "mimetype": "text/x-python",
   "name": "python",
   "nbconvert_exporter": "python",
   "pygments_lexer": "ipython3",
   "version": "3.13.2"
  }
 },
 "nbformat": 4,
 "nbformat_minor": 5
}
