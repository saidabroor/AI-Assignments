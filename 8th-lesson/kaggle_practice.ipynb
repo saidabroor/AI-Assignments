{
 "cells": [
  {
   "cell_type": "markdown",
   "metadata": {},
   "source": [
    "# Project"
   ]
  },
  {
   "cell_type": "markdown",
   "metadata": {},
   "source": [
    "Datani yuklash"
   ]
  },
  {
   "cell_type": "code",
   "execution_count": 1,
   "metadata": {},
   "outputs": [],
   "source": [
    "import pandas as pd\n",
    "import numpy as np\n",
    "import matplotlib.pyplot as plt\n",
    "import seaborn as sns\n",
    "from sklearn.preprocessing import LabelEncoder, MinMaxScaler, StandardScaler, RobustScaler"
   ]
  },
  {
   "cell_type": "code",
   "execution_count": 2,
   "metadata": {},
   "outputs": [],
   "source": [
    "df = pd.read_csv(r'C:\\Users\\Saidabrorkhon\\Downloads\\archive (1)\\student_admission_record_dirty.csv')"
   ]
  },
  {
   "cell_type": "markdown",
   "metadata": {},
   "source": [
    "Data bilan tanishish"
   ]
  },
  {
   "cell_type": "code",
   "execution_count": 3,
   "metadata": {},
   "outputs": [
    {
     "data": {
      "text/html": [
       "<div>\n",
       "<style scoped>\n",
       "    .dataframe tbody tr th:only-of-type {\n",
       "        vertical-align: middle;\n",
       "    }\n",
       "\n",
       "    .dataframe tbody tr th {\n",
       "        vertical-align: top;\n",
       "    }\n",
       "\n",
       "    .dataframe thead th {\n",
       "        text-align: right;\n",
       "    }\n",
       "</style>\n",
       "<table border=\"1\" class=\"dataframe\">\n",
       "  <thead>\n",
       "    <tr style=\"text-align: right;\">\n",
       "      <th></th>\n",
       "      <th>Name</th>\n",
       "      <th>Age</th>\n",
       "      <th>Gender</th>\n",
       "      <th>Admission Test Score</th>\n",
       "      <th>High School Percentage</th>\n",
       "      <th>City</th>\n",
       "      <th>Admission Status</th>\n",
       "    </tr>\n",
       "  </thead>\n",
       "  <tbody>\n",
       "    <tr>\n",
       "      <th>0</th>\n",
       "      <td>Shehroz</td>\n",
       "      <td>24.0</td>\n",
       "      <td>Female</td>\n",
       "      <td>50.0</td>\n",
       "      <td>68.90</td>\n",
       "      <td>Quetta</td>\n",
       "      <td>Rejected</td>\n",
       "    </tr>\n",
       "    <tr>\n",
       "      <th>1</th>\n",
       "      <td>Waqar</td>\n",
       "      <td>21.0</td>\n",
       "      <td>Female</td>\n",
       "      <td>99.0</td>\n",
       "      <td>60.73</td>\n",
       "      <td>Karachi</td>\n",
       "      <td>NaN</td>\n",
       "    </tr>\n",
       "    <tr>\n",
       "      <th>2</th>\n",
       "      <td>Bushra</td>\n",
       "      <td>17.0</td>\n",
       "      <td>Male</td>\n",
       "      <td>89.0</td>\n",
       "      <td>NaN</td>\n",
       "      <td>Islamabad</td>\n",
       "      <td>Accepted</td>\n",
       "    </tr>\n",
       "    <tr>\n",
       "      <th>3</th>\n",
       "      <td>Aliya</td>\n",
       "      <td>17.0</td>\n",
       "      <td>Male</td>\n",
       "      <td>55.0</td>\n",
       "      <td>85.29</td>\n",
       "      <td>Karachi</td>\n",
       "      <td>Rejected</td>\n",
       "    </tr>\n",
       "    <tr>\n",
       "      <th>4</th>\n",
       "      <td>Bilal</td>\n",
       "      <td>20.0</td>\n",
       "      <td>Male</td>\n",
       "      <td>65.0</td>\n",
       "      <td>61.13</td>\n",
       "      <td>Lahore</td>\n",
       "      <td>NaN</td>\n",
       "    </tr>\n",
       "  </tbody>\n",
       "</table>\n",
       "</div>"
      ],
      "text/plain": [
       "      Name   Age  Gender  Admission Test Score  High School Percentage  \\\n",
       "0  Shehroz  24.0  Female                  50.0                   68.90   \n",
       "1    Waqar  21.0  Female                  99.0                   60.73   \n",
       "2   Bushra  17.0    Male                  89.0                     NaN   \n",
       "3    Aliya  17.0    Male                  55.0                   85.29   \n",
       "4    Bilal  20.0    Male                  65.0                   61.13   \n",
       "\n",
       "        City Admission Status  \n",
       "0     Quetta         Rejected  \n",
       "1    Karachi              NaN  \n",
       "2  Islamabad         Accepted  \n",
       "3    Karachi         Rejected  \n",
       "4     Lahore              NaN  "
      ]
     },
     "execution_count": 3,
     "metadata": {},
     "output_type": "execute_result"
    }
   ],
   "source": [
    "df.head()"
   ]
  },
  {
   "cell_type": "code",
   "execution_count": 4,
   "metadata": {},
   "outputs": [
    {
     "name": "stdout",
     "output_type": "stream",
     "text": [
      "<class 'pandas.core.frame.DataFrame'>\n",
      "RangeIndex: 157 entries, 0 to 156\n",
      "Data columns (total 7 columns):\n",
      " #   Column                  Non-Null Count  Dtype  \n",
      "---  ------                  --------------  -----  \n",
      " 0   Name                    147 non-null    object \n",
      " 1   Age                     147 non-null    float64\n",
      " 2   Gender                  147 non-null    object \n",
      " 3   Admission Test Score    146 non-null    float64\n",
      " 4   High School Percentage  146 non-null    float64\n",
      " 5   City                    147 non-null    object \n",
      " 6   Admission Status        147 non-null    object \n",
      "dtypes: float64(3), object(4)\n",
      "memory usage: 8.7+ KB\n"
     ]
    }
   ],
   "source": [
    "df.info()"
   ]
  },
  {
   "cell_type": "code",
   "execution_count": 5,
   "metadata": {},
   "outputs": [
    {
     "data": {
      "text/plain": [
       "Name                      10\n",
       "Age                       10\n",
       "Gender                    10\n",
       "Admission Test Score      11\n",
       "High School Percentage    11\n",
       "City                      10\n",
       "Admission Status          10\n",
       "dtype: int64"
      ]
     },
     "execution_count": 5,
     "metadata": {},
     "output_type": "execute_result"
    }
   ],
   "source": [
    "df.isnull().sum()"
   ]
  },
  {
   "cell_type": "markdown",
   "metadata": {},
   "source": [
    "Data Preprocesing - Missing values"
   ]
  },
  {
   "cell_type": "code",
   "execution_count": 3,
   "metadata": {},
   "outputs": [],
   "source": [
    "missing_columns = df.columns[df.isnull().sum() > 0]\n",
    "\n",
    "for col in missing_columns:\n",
    "  if df[col].dtype == \"object\":\n",
    "    df[col] = df[col].fillna(df[col].mode()[0])\n",
    "  else:\n",
    "   df[col] = df[col].fillna(df[col].mean())"
   ]
  },
  {
   "cell_type": "code",
   "execution_count": 7,
   "metadata": {},
   "outputs": [
    {
     "data": {
      "text/plain": [
       "Name                      0\n",
       "Age                       0\n",
       "Gender                    0\n",
       "Admission Test Score      0\n",
       "High School Percentage    0\n",
       "City                      0\n",
       "Admission Status          0\n",
       "dtype: int64"
      ]
     },
     "execution_count": 7,
     "metadata": {},
     "output_type": "execute_result"
    }
   ],
   "source": [
    "df.isnull().sum()"
   ]
  },
  {
   "cell_type": "code",
   "execution_count": 8,
   "metadata": {},
   "outputs": [
    {
     "name": "stdout",
     "output_type": "stream",
     "text": [
      "<class 'pandas.core.frame.DataFrame'>\n",
      "RangeIndex: 157 entries, 0 to 156\n",
      "Data columns (total 7 columns):\n",
      " #   Column                  Non-Null Count  Dtype  \n",
      "---  ------                  --------------  -----  \n",
      " 0   Name                    157 non-null    object \n",
      " 1   Age                     157 non-null    float64\n",
      " 2   Gender                  157 non-null    object \n",
      " 3   Admission Test Score    157 non-null    float64\n",
      " 4   High School Percentage  157 non-null    float64\n",
      " 5   City                    157 non-null    object \n",
      " 6   Admission Status        157 non-null    object \n",
      "dtypes: float64(3), object(4)\n",
      "memory usage: 8.7+ KB\n"
     ]
    }
   ],
   "source": [
    "df.info()"
   ]
  },
  {
   "cell_type": "code",
   "execution_count": 9,
   "metadata": {},
   "outputs": [
    {
     "data": {
      "text/html": [
       "<div>\n",
       "<style scoped>\n",
       "    .dataframe tbody tr th:only-of-type {\n",
       "        vertical-align: middle;\n",
       "    }\n",
       "\n",
       "    .dataframe tbody tr th {\n",
       "        vertical-align: top;\n",
       "    }\n",
       "\n",
       "    .dataframe thead th {\n",
       "        text-align: right;\n",
       "    }\n",
       "</style>\n",
       "<table border=\"1\" class=\"dataframe\">\n",
       "  <thead>\n",
       "    <tr style=\"text-align: right;\">\n",
       "      <th></th>\n",
       "      <th>Name</th>\n",
       "      <th>Age</th>\n",
       "      <th>Gender</th>\n",
       "      <th>Admission Test Score</th>\n",
       "      <th>High School Percentage</th>\n",
       "      <th>City</th>\n",
       "      <th>Admission Status</th>\n",
       "    </tr>\n",
       "  </thead>\n",
       "  <tbody>\n",
       "    <tr>\n",
       "      <th>0</th>\n",
       "      <td>Shehroz</td>\n",
       "      <td>24.0</td>\n",
       "      <td>Female</td>\n",
       "      <td>50.0</td>\n",
       "      <td>68.900000</td>\n",
       "      <td>Quetta</td>\n",
       "      <td>Rejected</td>\n",
       "    </tr>\n",
       "    <tr>\n",
       "      <th>1</th>\n",
       "      <td>Waqar</td>\n",
       "      <td>21.0</td>\n",
       "      <td>Female</td>\n",
       "      <td>99.0</td>\n",
       "      <td>60.730000</td>\n",
       "      <td>Karachi</td>\n",
       "      <td>Rejected</td>\n",
       "    </tr>\n",
       "    <tr>\n",
       "      <th>2</th>\n",
       "      <td>Bushra</td>\n",
       "      <td>17.0</td>\n",
       "      <td>Male</td>\n",
       "      <td>89.0</td>\n",
       "      <td>75.684726</td>\n",
       "      <td>Islamabad</td>\n",
       "      <td>Accepted</td>\n",
       "    </tr>\n",
       "    <tr>\n",
       "      <th>3</th>\n",
       "      <td>Aliya</td>\n",
       "      <td>17.0</td>\n",
       "      <td>Male</td>\n",
       "      <td>55.0</td>\n",
       "      <td>85.290000</td>\n",
       "      <td>Karachi</td>\n",
       "      <td>Rejected</td>\n",
       "    </tr>\n",
       "    <tr>\n",
       "      <th>4</th>\n",
       "      <td>Bilal</td>\n",
       "      <td>20.0</td>\n",
       "      <td>Male</td>\n",
       "      <td>65.0</td>\n",
       "      <td>61.130000</td>\n",
       "      <td>Lahore</td>\n",
       "      <td>Rejected</td>\n",
       "    </tr>\n",
       "  </tbody>\n",
       "</table>\n",
       "</div>"
      ],
      "text/plain": [
       "      Name   Age  Gender  Admission Test Score  High School Percentage  \\\n",
       "0  Shehroz  24.0  Female                  50.0               68.900000   \n",
       "1    Waqar  21.0  Female                  99.0               60.730000   \n",
       "2   Bushra  17.0    Male                  89.0               75.684726   \n",
       "3    Aliya  17.0    Male                  55.0               85.290000   \n",
       "4    Bilal  20.0    Male                  65.0               61.130000   \n",
       "\n",
       "        City Admission Status  \n",
       "0     Quetta         Rejected  \n",
       "1    Karachi         Rejected  \n",
       "2  Islamabad         Accepted  \n",
       "3    Karachi         Rejected  \n",
       "4     Lahore         Rejected  "
      ]
     },
     "execution_count": 9,
     "metadata": {},
     "output_type": "execute_result"
    }
   ],
   "source": [
    "df.head()"
   ]
  },
  {
   "cell_type": "markdown",
   "metadata": {},
   "source": [
    "Encoding"
   ]
  },
  {
   "cell_type": "code",
   "execution_count": 4,
   "metadata": {},
   "outputs": [],
   "source": [
    "df_encoded = df.copy()"
   ]
  },
  {
   "cell_type": "code",
   "execution_count": 5,
   "metadata": {},
   "outputs": [],
   "source": [
    "for col in df_encoded.select_dtypes(include=['object']).columns: # col variablei datatypei object bo'lgan columnlarning har biriga kirib:\n",
    "  cardinality = df_encoded[col].nunique()                        # Object type bo'lgan columnlarning unique classlari soni --> cardinality\n",
    "  if cardinality >= 5:                                           # 5 taga teng yoki ko'p bo'lsa\n",
    "    le = LabelEncoder()                                          # le variablei LabelEncoder()ga assign qilindi\n",
    "    df_encoded[col] = le.fit_transform(df_encoded[col])          # Eski data yangi labelencoding bo'lgan dataga almashsin         \n",
    "  else:                                                          # Yoki kam bo'lsa (5tadan) one-hot encodingga almashsin\n",
    "    df_encoded = pd.get_dummies(df_encoded, columns=[col], dtype=int, drop_first = True)\n",
    "  df = df_encoded\n"
   ]
  },
  {
   "cell_type": "code",
   "execution_count": 6,
   "metadata": {},
   "outputs": [
    {
     "name": "stdout",
     "output_type": "stream",
     "text": [
      "<class 'pandas.core.frame.DataFrame'>\n",
      "RangeIndex: 157 entries, 0 to 156\n",
      "Data columns (total 7 columns):\n",
      " #   Column                     Non-Null Count  Dtype  \n",
      "---  ------                     --------------  -----  \n",
      " 0   Name                       157 non-null    int64  \n",
      " 1   Age                        157 non-null    float64\n",
      " 2   Admission Test Score       157 non-null    float64\n",
      " 3   High School Percentage     157 non-null    float64\n",
      " 4   City                       157 non-null    int64  \n",
      " 5   Gender_Male                157 non-null    int64  \n",
      " 6   Admission Status_Rejected  157 non-null    int64  \n",
      "dtypes: float64(3), int64(4)\n",
      "memory usage: 8.7 KB\n"
     ]
    }
   ],
   "source": [
    "df.info()"
   ]
  },
  {
   "cell_type": "code",
   "execution_count": 7,
   "metadata": {},
   "outputs": [
    {
     "data": {
      "text/html": [
       "<div>\n",
       "<style scoped>\n",
       "    .dataframe tbody tr th:only-of-type {\n",
       "        vertical-align: middle;\n",
       "    }\n",
       "\n",
       "    .dataframe tbody tr th {\n",
       "        vertical-align: top;\n",
       "    }\n",
       "\n",
       "    .dataframe thead th {\n",
       "        text-align: right;\n",
       "    }\n",
       "</style>\n",
       "<table border=\"1\" class=\"dataframe\">\n",
       "  <thead>\n",
       "    <tr style=\"text-align: right;\">\n",
       "      <th></th>\n",
       "      <th>Name</th>\n",
       "      <th>Age</th>\n",
       "      <th>Admission Test Score</th>\n",
       "      <th>High School Percentage</th>\n",
       "      <th>City</th>\n",
       "      <th>Gender_Male</th>\n",
       "      <th>Admission Status_Rejected</th>\n",
       "    </tr>\n",
       "  </thead>\n",
       "  <tbody>\n",
       "    <tr>\n",
       "      <th>0</th>\n",
       "      <td>53</td>\n",
       "      <td>24.0</td>\n",
       "      <td>50.0</td>\n",
       "      <td>68.900000</td>\n",
       "      <td>5</td>\n",
       "      <td>0</td>\n",
       "      <td>1</td>\n",
       "    </tr>\n",
       "    <tr>\n",
       "      <th>1</th>\n",
       "      <td>60</td>\n",
       "      <td>21.0</td>\n",
       "      <td>99.0</td>\n",
       "      <td>60.730000</td>\n",
       "      <td>1</td>\n",
       "      <td>0</td>\n",
       "      <td>1</td>\n",
       "    </tr>\n",
       "    <tr>\n",
       "      <th>2</th>\n",
       "      <td>11</td>\n",
       "      <td>17.0</td>\n",
       "      <td>89.0</td>\n",
       "      <td>75.684726</td>\n",
       "      <td>0</td>\n",
       "      <td>1</td>\n",
       "      <td>0</td>\n",
       "    </tr>\n",
       "    <tr>\n",
       "      <th>3</th>\n",
       "      <td>4</td>\n",
       "      <td>17.0</td>\n",
       "      <td>55.0</td>\n",
       "      <td>85.290000</td>\n",
       "      <td>1</td>\n",
       "      <td>1</td>\n",
       "      <td>1</td>\n",
       "    </tr>\n",
       "    <tr>\n",
       "      <th>4</th>\n",
       "      <td>10</td>\n",
       "      <td>20.0</td>\n",
       "      <td>65.0</td>\n",
       "      <td>61.130000</td>\n",
       "      <td>2</td>\n",
       "      <td>1</td>\n",
       "      <td>1</td>\n",
       "    </tr>\n",
       "  </tbody>\n",
       "</table>\n",
       "</div>"
      ],
      "text/plain": [
       "   Name   Age  Admission Test Score  High School Percentage  City  \\\n",
       "0    53  24.0                  50.0               68.900000     5   \n",
       "1    60  21.0                  99.0               60.730000     1   \n",
       "2    11  17.0                  89.0               75.684726     0   \n",
       "3     4  17.0                  55.0               85.290000     1   \n",
       "4    10  20.0                  65.0               61.130000     2   \n",
       "\n",
       "   Gender_Male  Admission Status_Rejected  \n",
       "0            0                          1  \n",
       "1            0                          1  \n",
       "2            1                          0  \n",
       "3            1                          1  \n",
       "4            1                          1  "
      ]
     },
     "execution_count": 7,
     "metadata": {},
     "output_type": "execute_result"
    }
   ],
   "source": [
    "df.head()"
   ]
  },
  {
   "cell_type": "markdown",
   "metadata": {},
   "source": [
    "Scaling: Min-max"
   ]
  },
  {
   "cell_type": "code",
   "execution_count": 8,
   "metadata": {},
   "outputs": [],
   "source": [
    "scaler = MinMaxScaler()\n",
    "df = scaler.fit_transform(df)"
   ]
  },
  {
   "cell_type": "code",
   "execution_count": 9,
   "metadata": {},
   "outputs": [],
   "source": [
    "df = pd.DataFrame(df) #Numpy formatdan tablega o'tkazish"
   ]
  },
  {
   "cell_type": "code",
   "execution_count": 10,
   "metadata": {},
   "outputs": [
    {
     "data": {
      "text/html": [
       "<div>\n",
       "<style scoped>\n",
       "    .dataframe tbody tr th:only-of-type {\n",
       "        vertical-align: middle;\n",
       "    }\n",
       "\n",
       "    .dataframe tbody tr th {\n",
       "        vertical-align: top;\n",
       "    }\n",
       "\n",
       "    .dataframe thead th {\n",
       "        text-align: right;\n",
       "    }\n",
       "</style>\n",
       "<table border=\"1\" class=\"dataframe\">\n",
       "  <thead>\n",
       "    <tr style=\"text-align: right;\">\n",
       "      <th></th>\n",
       "      <th>0</th>\n",
       "      <th>1</th>\n",
       "      <th>2</th>\n",
       "      <th>3</th>\n",
       "      <th>4</th>\n",
       "      <th>5</th>\n",
       "      <th>6</th>\n",
       "    </tr>\n",
       "  </thead>\n",
       "  <tbody>\n",
       "    <tr>\n",
       "      <th>0</th>\n",
       "      <td>0.841270</td>\n",
       "      <td>1.00</td>\n",
       "      <td>0.354839</td>\n",
       "      <td>0.654772</td>\n",
       "      <td>0.833333</td>\n",
       "      <td>0.0</td>\n",
       "      <td>1.0</td>\n",
       "    </tr>\n",
       "    <tr>\n",
       "      <th>1</th>\n",
       "      <td>0.952381</td>\n",
       "      <td>0.88</td>\n",
       "      <td>0.670968</td>\n",
       "      <td>0.586971</td>\n",
       "      <td>0.166667</td>\n",
       "      <td>0.0</td>\n",
       "      <td>1.0</td>\n",
       "    </tr>\n",
       "    <tr>\n",
       "      <th>2</th>\n",
       "      <td>0.174603</td>\n",
       "      <td>0.72</td>\n",
       "      <td>0.606452</td>\n",
       "      <td>0.711077</td>\n",
       "      <td>0.000000</td>\n",
       "      <td>1.0</td>\n",
       "      <td>0.0</td>\n",
       "    </tr>\n",
       "    <tr>\n",
       "      <th>3</th>\n",
       "      <td>0.063492</td>\n",
       "      <td>0.72</td>\n",
       "      <td>0.387097</td>\n",
       "      <td>0.790788</td>\n",
       "      <td>0.166667</td>\n",
       "      <td>1.0</td>\n",
       "      <td>1.0</td>\n",
       "    </tr>\n",
       "    <tr>\n",
       "      <th>4</th>\n",
       "      <td>0.158730</td>\n",
       "      <td>0.84</td>\n",
       "      <td>0.451613</td>\n",
       "      <td>0.590290</td>\n",
       "      <td>0.333333</td>\n",
       "      <td>1.0</td>\n",
       "      <td>1.0</td>\n",
       "    </tr>\n",
       "  </tbody>\n",
       "</table>\n",
       "</div>"
      ],
      "text/plain": [
       "          0     1         2         3         4    5    6\n",
       "0  0.841270  1.00  0.354839  0.654772  0.833333  0.0  1.0\n",
       "1  0.952381  0.88  0.670968  0.586971  0.166667  0.0  1.0\n",
       "2  0.174603  0.72  0.606452  0.711077  0.000000  1.0  0.0\n",
       "3  0.063492  0.72  0.387097  0.790788  0.166667  1.0  1.0\n",
       "4  0.158730  0.84  0.451613  0.590290  0.333333  1.0  1.0"
      ]
     },
     "execution_count": 10,
     "metadata": {},
     "output_type": "execute_result"
    }
   ],
   "source": [
    "df.head()"
   ]
  },
  {
   "cell_type": "markdown",
   "metadata": {},
   "source": [
    "Scaling: Standard"
   ]
  },
  {
   "cell_type": "code",
   "execution_count": null,
   "metadata": {},
   "outputs": [],
   "source": [
    "#scaling column nomlarini ham scale qilib yuborishini oldini olish uchun column nomlari ajratib turiladi\n",
    "original_columns = df.columns"
   ]
  },
  {
   "cell_type": "code",
   "execution_count": 8,
   "metadata": {},
   "outputs": [
    {
     "data": {
      "text/plain": [
       "Index(['Name', 'Age', 'Admission Test Score', 'High School Percentage', 'City',\n",
       "       'Gender_Male', 'Admission Status_Rejected'],\n",
       "      dtype='object')"
      ]
     },
     "execution_count": 8,
     "metadata": {},
     "output_type": "execute_result"
    }
   ],
   "source": [
    "original_columns"
   ]
  },
  {
   "cell_type": "code",
   "execution_count": 9,
   "metadata": {},
   "outputs": [
    {
     "data": {
      "text/plain": [
       "7"
      ]
     },
     "execution_count": 9,
     "metadata": {},
     "output_type": "execute_result"
    }
   ],
   "source": [
    "len(original_columns)"
   ]
  },
  {
   "cell_type": "code",
   "execution_count": null,
   "metadata": {},
   "outputs": [],
   "source": [
    "scaler = StandardScaler()\n",
    "df = scaler.fit_transform(df)\n",
    "df = pd.DataFrame(df, columns=original_columns)"
   ]
  },
  {
   "cell_type": "code",
   "execution_count": 11,
   "metadata": {},
   "outputs": [
    {
     "data": {
      "text/html": [
       "<div>\n",
       "<style scoped>\n",
       "    .dataframe tbody tr th:only-of-type {\n",
       "        vertical-align: middle;\n",
       "    }\n",
       "\n",
       "    .dataframe tbody tr th {\n",
       "        vertical-align: top;\n",
       "    }\n",
       "\n",
       "    .dataframe thead th {\n",
       "        text-align: right;\n",
       "    }\n",
       "</style>\n",
       "<table border=\"1\" class=\"dataframe\">\n",
       "  <thead>\n",
       "    <tr style=\"text-align: right;\">\n",
       "      <th></th>\n",
       "      <th>Name</th>\n",
       "      <th>Age</th>\n",
       "      <th>Admission Test Score</th>\n",
       "      <th>High School Percentage</th>\n",
       "      <th>City</th>\n",
       "      <th>Gender_Male</th>\n",
       "      <th>Admission Status_Rejected</th>\n",
       "    </tr>\n",
       "  </thead>\n",
       "  <tbody>\n",
       "    <tr>\n",
       "      <th>0</th>\n",
       "      <td>1.094240</td>\n",
       "      <td>0.986563</td>\n",
       "      <td>-1.707425</td>\n",
       "      <td>-0.406488</td>\n",
       "      <td>0.950661</td>\n",
       "      <td>-0.829561</td>\n",
       "      <td>0.908615</td>\n",
       "    </tr>\n",
       "    <tr>\n",
       "      <th>1</th>\n",
       "      <td>1.467709</td>\n",
       "      <td>0.301407</td>\n",
       "      <td>1.317567</td>\n",
       "      <td>-0.895971</td>\n",
       "      <td>-1.093911</td>\n",
       "      <td>-0.829561</td>\n",
       "      <td>0.908615</td>\n",
       "    </tr>\n",
       "    <tr>\n",
       "      <th>2</th>\n",
       "      <td>-1.146573</td>\n",
       "      <td>-0.612135</td>\n",
       "      <td>0.700222</td>\n",
       "      <td>0.000000</td>\n",
       "      <td>-1.605054</td>\n",
       "      <td>1.205456</td>\n",
       "      <td>-1.100576</td>\n",
       "    </tr>\n",
       "    <tr>\n",
       "      <th>3</th>\n",
       "      <td>-1.520042</td>\n",
       "      <td>-0.612135</td>\n",
       "      <td>-1.398752</td>\n",
       "      <td>0.575474</td>\n",
       "      <td>-1.093911</td>\n",
       "      <td>1.205456</td>\n",
       "      <td>0.908615</td>\n",
       "    </tr>\n",
       "    <tr>\n",
       "      <th>4</th>\n",
       "      <td>-1.199926</td>\n",
       "      <td>0.073021</td>\n",
       "      <td>-0.781407</td>\n",
       "      <td>-0.872006</td>\n",
       "      <td>-0.582768</td>\n",
       "      <td>1.205456</td>\n",
       "      <td>0.908615</td>\n",
       "    </tr>\n",
       "  </tbody>\n",
       "</table>\n",
       "</div>"
      ],
      "text/plain": [
       "       Name       Age  Admission Test Score  High School Percentage      City  \\\n",
       "0  1.094240  0.986563             -1.707425               -0.406488  0.950661   \n",
       "1  1.467709  0.301407              1.317567               -0.895971 -1.093911   \n",
       "2 -1.146573 -0.612135              0.700222                0.000000 -1.605054   \n",
       "3 -1.520042 -0.612135             -1.398752                0.575474 -1.093911   \n",
       "4 -1.199926  0.073021             -0.781407               -0.872006 -0.582768   \n",
       "\n",
       "   Gender_Male  Admission Status_Rejected  \n",
       "0    -0.829561                   0.908615  \n",
       "1    -0.829561                   0.908615  \n",
       "2     1.205456                  -1.100576  \n",
       "3     1.205456                   0.908615  \n",
       "4     1.205456                   0.908615  "
      ]
     },
     "execution_count": 11,
     "metadata": {},
     "output_type": "execute_result"
    }
   ],
   "source": [
    "df.head()"
   ]
  },
  {
   "cell_type": "markdown",
   "metadata": {},
   "source": [
    "Scaling: Robust"
   ]
  },
  {
   "cell_type": "code",
   "execution_count": 6,
   "metadata": {},
   "outputs": [],
   "source": [
    "original_columns = df.columns"
   ]
  },
  {
   "cell_type": "code",
   "execution_count": 7,
   "metadata": {},
   "outputs": [
    {
     "data": {
      "text/plain": [
       "Index(['Name', 'Age', 'Admission Test Score', 'High School Percentage', 'City',\n",
       "       'Gender_Male', 'Admission Status_Rejected'],\n",
       "      dtype='object')"
      ]
     },
     "execution_count": 7,
     "metadata": {},
     "output_type": "execute_result"
    }
   ],
   "source": [
    "original_columns"
   ]
  },
  {
   "cell_type": "code",
   "execution_count": 9,
   "metadata": {},
   "outputs": [],
   "source": [
    "scaler = RobustScaler()\n",
    "df = scaler.fit_transform(df)"
   ]
  },
  {
   "cell_type": "code",
   "execution_count": 10,
   "metadata": {},
   "outputs": [],
   "source": [
    "df = pd.DataFrame(df, columns=original_columns)"
   ]
  },
  {
   "cell_type": "code",
   "execution_count": 11,
   "metadata": {},
   "outputs": [
    {
     "data": {
      "text/html": [
       "<div>\n",
       "<style scoped>\n",
       "    .dataframe tbody tr th:only-of-type {\n",
       "        vertical-align: middle;\n",
       "    }\n",
       "\n",
       "    .dataframe tbody tr th {\n",
       "        vertical-align: top;\n",
       "    }\n",
       "\n",
       "    .dataframe thead th {\n",
       "        text-align: right;\n",
       "    }\n",
       "</style>\n",
       "<table border=\"1\" class=\"dataframe\">\n",
       "  <thead>\n",
       "    <tr style=\"text-align: right;\">\n",
       "      <th></th>\n",
       "      <th>Name</th>\n",
       "      <th>Age</th>\n",
       "      <th>Admission Test Score</th>\n",
       "      <th>High School Percentage</th>\n",
       "      <th>City</th>\n",
       "      <th>Gender_Male</th>\n",
       "      <th>Admission Status_Rejected</th>\n",
       "    </tr>\n",
       "  </thead>\n",
       "  <tbody>\n",
       "    <tr>\n",
       "      <th>0</th>\n",
       "      <td>0.558824</td>\n",
       "      <td>1.00</td>\n",
       "      <td>-1.536530</td>\n",
       "      <td>-0.336377</td>\n",
       "      <td>0.50</td>\n",
       "      <td>0.0</td>\n",
       "      <td>0.0</td>\n",
       "    </tr>\n",
       "    <tr>\n",
       "      <th>1</th>\n",
       "      <td>0.764706</td>\n",
       "      <td>0.25</td>\n",
       "      <td>1.185693</td>\n",
       "      <td>-0.741434</td>\n",
       "      <td>-0.50</td>\n",
       "      <td>0.0</td>\n",
       "      <td>0.0</td>\n",
       "    </tr>\n",
       "    <tr>\n",
       "      <th>2</th>\n",
       "      <td>-0.676471</td>\n",
       "      <td>-0.75</td>\n",
       "      <td>0.630137</td>\n",
       "      <td>0.000000</td>\n",
       "      <td>-0.75</td>\n",
       "      <td>1.0</td>\n",
       "      <td>-1.0</td>\n",
       "    </tr>\n",
       "    <tr>\n",
       "      <th>3</th>\n",
       "      <td>-0.882353</td>\n",
       "      <td>-0.75</td>\n",
       "      <td>-1.258752</td>\n",
       "      <td>0.476216</td>\n",
       "      <td>-0.50</td>\n",
       "      <td>1.0</td>\n",
       "      <td>0.0</td>\n",
       "    </tr>\n",
       "    <tr>\n",
       "      <th>4</th>\n",
       "      <td>-0.705882</td>\n",
       "      <td>0.00</td>\n",
       "      <td>-0.703196</td>\n",
       "      <td>-0.721603</td>\n",
       "      <td>-0.25</td>\n",
       "      <td>1.0</td>\n",
       "      <td>0.0</td>\n",
       "    </tr>\n",
       "  </tbody>\n",
       "</table>\n",
       "</div>"
      ],
      "text/plain": [
       "       Name   Age  Admission Test Score  High School Percentage  City  \\\n",
       "0  0.558824  1.00             -1.536530               -0.336377  0.50   \n",
       "1  0.764706  0.25              1.185693               -0.741434 -0.50   \n",
       "2 -0.676471 -0.75              0.630137                0.000000 -0.75   \n",
       "3 -0.882353 -0.75             -1.258752                0.476216 -0.50   \n",
       "4 -0.705882  0.00             -0.703196               -0.721603 -0.25   \n",
       "\n",
       "   Gender_Male  Admission Status_Rejected  \n",
       "0          0.0                        0.0  \n",
       "1          0.0                        0.0  \n",
       "2          1.0                       -1.0  \n",
       "3          1.0                        0.0  \n",
       "4          1.0                        0.0  "
      ]
     },
     "execution_count": 11,
     "metadata": {},
     "output_type": "execute_result"
    }
   ],
   "source": [
    "df.head()"
   ]
  },
  {
   "cell_type": "code",
   "execution_count": null,
   "metadata": {},
   "outputs": [],
   "source": []
  }
 ],
 "metadata": {
  "kernelspec": {
   "display_name": "Python 3",
   "language": "python",
   "name": "python3"
  },
  "language_info": {
   "codemirror_mode": {
    "name": "ipython",
    "version": 3
   },
   "file_extension": ".py",
   "mimetype": "text/x-python",
   "name": "python",
   "nbconvert_exporter": "python",
   "pygments_lexer": "ipython3",
   "version": "3.13.2"
  }
 },
 "nbformat": 4,
 "nbformat_minor": 2
}
