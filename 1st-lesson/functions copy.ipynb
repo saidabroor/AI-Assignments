{
 "cells": [
  {
   "cell_type": "code",
   "execution_count": 2,
   "id": "271819c2",
   "metadata": {},
   "outputs": [
    {
     "name": "stdout",
     "output_type": "stream",
     "text": [
      "70\n"
     ]
    }
   ],
   "source": [
    "# 1. [3,5,6] sonlar kvadratlarini yug'indisini topadigan funksiya yozing\n",
    "\n",
    "def sum_of_squares(a,b,c):\n",
    "  print(a**2 + b**2 + c**2)\n",
    "\n",
    "sum_of_squares(3,5,6)"
   ]
  },
  {
   "cell_type": "code",
   "execution_count": null,
   "id": "e27e8aee",
   "metadata": {},
   "outputs": [
    {
     "name": "stdout",
     "output_type": "stream",
     "text": [
      "70\n"
     ]
    }
   ],
   "source": [
    "# lambda yordamida yozish\n",
    "print((lambda a,b,c: a**2 + b**2 + c**2)(3,5,6))"
   ]
  },
  {
   "cell_type": "code",
   "execution_count": 17,
   "id": "c4a04af1",
   "metadata": {},
   "outputs": [],
   "source": [
    "# 2. 1 dan 10 gacha bo'lgan sonlar orasidan juftlarini/toqlarini sonini topadigan funksiya yozing\n",
    "\n",
    "def juft_toq_sonlar(numbers):\n",
    "  juft = 0\n",
    "  toq = 0\n",
    "  for number in numbers:\n",
    "    if number % 2 == 0:\n",
    "      juft += 1\n",
    "    else:\n",
    "      toq += 1\n",
    "  return (juft, toq)"
   ]
  },
  {
   "cell_type": "code",
   "execution_count": 18,
   "id": "a12e485b",
   "metadata": {},
   "outputs": [
    {
     "data": {
      "text/plain": [
       "(5, 5)"
      ]
     },
     "execution_count": 18,
     "metadata": {},
     "output_type": "execute_result"
    }
   ],
   "source": [
    "juft_toq_sonlar([1,2,3,4,5,6,7,8,9,10])"
   ]
  },
  {
   "cell_type": "code",
   "execution_count": 122,
   "id": "0a39dc07",
   "metadata": {},
   "outputs": [
    {
     "name": "stdout",
     "output_type": "stream",
     "text": [
      "juft sonlar: 5, toq sonlar: 5\n"
     ]
    }
   ],
   "source": [
    "# using lambda (could not use lamda in single line)\n",
    "numbers = [1,2,3,4,5,6,7,8,9,10]\n",
    "juft = 0\n",
    "toq = 0\n",
    "\n",
    "j = lambda x: x % 2 == 0\n",
    "t = lambda x: x % 2 != 0\n",
    "\n",
    "for i in numbers:\n",
    "  juft = juft + j(i)\n",
    "  toq = toq + t(i)\n",
    "\n",
    "print(f\"juft sonlar: {juft}, toq sonlar: {toq}\")"
   ]
  },
  {
   "cell_type": "code",
   "execution_count": 102,
   "id": "86e58a81",
   "metadata": {},
   "outputs": [
    {
     "name": "stdout",
     "output_type": "stream",
     "text": [
      "O'rta arifmetigi: 5.5, o'rta geometrigi: 1040507131.7\n"
     ]
    }
   ],
   "source": [
    "# 3. 1 dan 10 gacha bo'lgan sonlar orasidan o'rta arifmetigi/geometrigini aniqlaydigan topadigan funksiya yozing\n",
    "\n",
    "def avg_calc(numbers):\n",
    "  b = 0\n",
    "  g = 0\n",
    "  for i in numbers:\n",
    "    b = b + i / len(numbers)\n",
    "    g = g + i ** i / len(numbers)\n",
    "  return print(f\"O'rta arifmetigi: {b}, o'rta geometrigi: {g}\")\n",
    "\n",
    "avg_calc([1,2,3,4,5,6,7,8,9,10])"
   ]
  },
  {
   "cell_type": "code",
   "execution_count": null,
   "id": "fac9a8b0",
   "metadata": {},
   "outputs": [
    {
     "name": "stdout",
     "output_type": "stream",
     "text": [
      "O'rta arifmetigi: 5.5, o'rta geometrigi: 1040507131.7\n"
     ]
    }
   ],
   "source": [
    "# using lambda\n",
    "\n",
    "numbers = [1,2,3,4,5,6,7,8,9,10]\n",
    "n = len(numbers)\n",
    "\n",
    "arifmetik = 0\n",
    "geometrik = 0\n",
    "\n",
    "arif = lambda x: x / n\n",
    "geom = lambda x: x ** x / n\n",
    "\n",
    "for x in numbers:\n",
    "    arifmetik += arif(x)\n",
    "    geometrik += geom(x)\n",
    "\n",
    "print(f\"O'rta arifmetigi: {arifmetik}, o'rta geometrigi: {geometrik}\")"
   ]
  },
  {
   "cell_type": "code",
   "execution_count": 176,
   "id": "f9ef097a",
   "metadata": {},
   "outputs": [
    {
     "data": {
      "text/plain": [
       "'6 katta son, 4 ortancha son, 1 kichik son'"
      ]
     },
     "execution_count": 176,
     "metadata": {},
     "output_type": "execute_result"
    }
   ],
   "source": [
    "# 4. [1,4,6] sonlar orasidan eng katta/kichik va o'rtanchasini topadigan funksiya yozing\n",
    "\n",
    "def measure(numbers):\n",
    "   a,b,c = numbers\n",
    "\n",
    "   if a > b and a > c:\n",
    "      katta = a\n",
    "      if b > c:\n",
    "         ortacha = b\n",
    "         kichik = c\n",
    "      else:\n",
    "         ortacha = c\n",
    "         kichik = b\n",
    "   elif b > a and b > c:\n",
    "      katta = b\n",
    "      if a > c:\n",
    "         ortacha = a\n",
    "         kichik = c\n",
    "      else:\n",
    "         ortacha = c\n",
    "         kichik = a\n",
    "   else:\n",
    "      katta = c\n",
    "      if a > b:\n",
    "         ortacha = a\n",
    "         kichik = b\n",
    "      else:\n",
    "         ortacha = b\n",
    "         kichik = a\n",
    "   return f'{katta} katta son, {ortacha} ortancha son, {kichik} kichik son'\n",
    "measure([1,4,6])"
   ]
  },
  {
   "cell_type": "code",
   "execution_count": 181,
   "id": "5105d9ad",
   "metadata": {},
   "outputs": [
    {
     "name": "stdout",
     "output_type": "stream",
     "text": [
      "6 eng katta son, 4 ortacha son, 1 eng kichik son\n"
     ]
    }
   ],
   "source": [
    "# using lambda\n",
    "measure = lambda numbers: f'{sorted(numbers)[2]} eng katta son, {sorted(numbers)[1]} ortacha son, {sorted(numbers)[0]} eng kichik son'\n",
    "print(measure([1, 4, 6]))\n"
   ]
  },
  {
   "cell_type": "code",
   "execution_count": 237,
   "id": "87b4f871",
   "metadata": {},
   "outputs": [
    {
     "name": "stdout",
     "output_type": "stream",
     "text": [
      "Unlilar soni: 4\n",
      "Unlilar soni: 5\n"
     ]
    }
   ],
   "source": [
    "# 5. Berilgan so'zdagi unlilar sonini topadigan funksiya yozing\n",
    "\n",
    "def count_vowels(sentence):\n",
    "    unli = 0\n",
    "    for i in sentence: \n",
    "        if i.lower() in 'aeiou':  \n",
    "            unli += 1\n",
    "    return(f\"Unlilar soni: {unli}\")\n",
    "      \n",
    "print(count_vowels('Saidabror'))\n",
    "print(count_vowels('Aaidabror'))"
   ]
  },
  {
   "cell_type": "code",
   "execution_count": 240,
   "id": "a06e953e",
   "metadata": {},
   "outputs": [
    {
     "name": "stdout",
     "output_type": "stream",
     "text": [
      "unlilar soni 4 ta\n"
     ]
    }
   ],
   "source": [
    "# using lambda\n",
    "\n",
    "word = 'saidabror'\n",
    "unli = 0\n",
    "\n",
    "count = lambda x: x.lower() in 'aeiou'\n",
    "\n",
    "for i in word:\n",
    "  if count(i):\n",
    "   unli += 1\n",
    "print(f\"unlilar soni {unli} ta\")"
   ]
  },
  {
   "cell_type": "code",
   "execution_count": 239,
   "id": "69cdfc65",
   "metadata": {},
   "outputs": [
    {
     "name": "stdout",
     "output_type": "stream",
     "text": [
      "Unlilar soni: 4 ta\n"
     ]
    }
   ],
   "source": [
    "print(f\"Unlilar soni: {(lambda word: sum(1 for i in word if i.lower() in 'aeiou'))('saidabror')} ta\")"
   ]
  }
 ],
 "metadata": {
  "kernelspec": {
   "display_name": "Python 3",
   "language": "python",
   "name": "python3"
  },
  "language_info": {
   "codemirror_mode": {
    "name": "ipython",
    "version": 3
   },
   "file_extension": ".py",
   "mimetype": "text/x-python",
   "name": "python",
   "nbconvert_exporter": "python",
   "pygments_lexer": "ipython3",
   "version": "3.13.2"
  }
 },
 "nbformat": 4,
 "nbformat_minor": 5
}
