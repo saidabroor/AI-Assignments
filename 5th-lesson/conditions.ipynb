{
 "cells": [
  {
   "cell_type": "markdown",
   "metadata": {},
   "source": [
    "# Vazifa"
   ]
  },
  {
   "cell_type": "markdown",
   "metadata": {},
   "source": [
    "#1 Takrorlash"
   ]
  },
  {
   "cell_type": "code",
   "execution_count": 1,
   "metadata": {},
   "outputs": [],
   "source": [
    "import pandas as pd"
   ]
  },
  {
   "cell_type": "code",
   "execution_count": null,
   "metadata": {},
   "outputs": [],
   "source": [
    "# Sonni ikkiga orttirish.\n",
    "n = int(input('Sonni kiriting:'))\n",
    "print(n + 2)"
   ]
  },
  {
   "cell_type": "code",
   "execution_count": 4,
   "metadata": {},
   "outputs": [
    {
     "name": "stdout",
     "output_type": "stream",
     "text": [
      "xatolik\n"
     ]
    }
   ],
   "source": [
    "a = - 10\n",
    "if a > 0:\n",
    "  if a % 2 == 0:\n",
    "    print('a musbat juft son')\n",
    "  elif a % 2 != 0:\n",
    "    print('a musbat toq son')\n",
    "  else:\n",
    "    print('a soni nol')\n",
    "\n",
    "else:\n",
    "  print('xatolik')"
   ]
  },
  {
   "cell_type": "markdown",
   "metadata": {},
   "source": [
    "If holati"
   ]
  },
  {
   "cell_type": "code",
   "execution_count": 7,
   "metadata": {},
   "outputs": [
    {
     "name": "stdout",
     "output_type": "stream",
     "text": [
      "a soni musbat son\n"
     ]
    }
   ],
   "source": [
    "a = 2\n",
    "if a > 0:\n",
    "  print('a soni musbat son')"
   ]
  },
  {
   "cell_type": "markdown",
   "metadata": {},
   "source": [
    "If/else holati"
   ]
  },
  {
   "cell_type": "code",
   "execution_count": 8,
   "metadata": {},
   "outputs": [
    {
     "name": "stdout",
     "output_type": "stream",
     "text": [
      "a soni manfiy yoki nolga teng\n"
     ]
    }
   ],
   "source": [
    "a = -2\n",
    "if a > 0:\n",
    "  print('a soni musbat son')\n",
    "else:\n",
    "  print('a soni manfiy yoki nolga teng')\n",
    "  "
   ]
  },
  {
   "cell_type": "markdown",
   "metadata": {},
   "source": [
    "If/elif/else holati"
   ]
  },
  {
   "cell_type": "code",
   "execution_count": 9,
   "metadata": {},
   "outputs": [
    {
     "name": "stdout",
     "output_type": "stream",
     "text": [
      "a soni musbat son\n"
     ]
    }
   ],
   "source": [
    "a = 9\n",
    "if a > 0:\n",
    "  print('a soni musbat son')\n",
    "elif a < 0:\n",
    "  print('a soni manfiy son')\n",
    "else:\n",
    "  print('a soni nolga teng')"
   ]
  },
  {
   "cell_type": "markdown",
   "metadata": {},
   "source": [
    "Umumiy holat"
   ]
  },
  {
   "cell_type": "code",
   "execution_count": 10,
   "metadata": {},
   "outputs": [
    {
     "name": "stdout",
     "output_type": "stream",
     "text": [
      "a soni musbat son\n"
     ]
    }
   ],
   "source": [
    "a = int(input('Sonni kiriting:'))\n",
    "if a > 0:\n",
    "   print('a soni musbat son')\n",
    "elif a < 0:\n",
    "     print('a soni manfiy son')\n",
    "else:\n",
    "      print('a soni nolga teng')"
   ]
  },
  {
   "cell_type": "markdown",
   "metadata": {},
   "source": [
    "Istalgan sonni 4 ga orttiring"
   ]
  },
  {
   "cell_type": "code",
   "execution_count": 11,
   "metadata": {},
   "outputs": [
    {
     "name": "stdout",
     "output_type": "stream",
     "text": [
      "16\n"
     ]
    }
   ],
   "source": [
    "a = int(input('Sonni kiriting:'))\n",
    "print(a + 4)"
   ]
  },
  {
   "cell_type": "markdown",
   "metadata": {},
   "source": [
    "Oddiy coment yordamida print qilish"
   ]
  },
  {
   "cell_type": "code",
   "execution_count": 12,
   "metadata": {},
   "outputs": [
    {
     "name": "stdout",
     "output_type": "stream",
     "text": [
      "a sonini 2 ga ortirilgandagi son: 14\n"
     ]
    }
   ],
   "source": [
    "a =int(input('sonni kiriting'))\n",
    "print('a sonini 2 ga ortirilgandagi son:', a+2)"
   ]
  },
  {
   "cell_type": "markdown",
   "metadata": {},
   "source": [
    "f-string yordamida print qilish"
   ]
  },
  {
   "cell_type": "code",
   "execution_count": 14,
   "metadata": {},
   "outputs": [
    {
     "name": "stdout",
     "output_type": "stream",
     "text": [
      "12 sonini 2 ga orttirilgandagi son: 14\n"
     ]
    }
   ],
   "source": [
    "a = int(input('Sonni kiriting:'))\n",
    "print(f\"{a} sonini 2 ga orttirilgandagi son:\", a + 2)"
   ]
  },
  {
   "cell_type": "code",
   "execution_count": 15,
   "metadata": {},
   "outputs": [
    {
     "name": "stdout",
     "output_type": "stream",
     "text": [
      "12 sonini 21 soniga orttirilgandagi son 33\n"
     ]
    }
   ],
   "source": [
    "a = int(input('Birinchi sonni kiriting'))\n",
    "b = int(input('Ikkinchi sonni kiriting'))\n",
    "print(f\"{a} sonini {b} soniga orttirilgandagi son\", a + b)"
   ]
  },
  {
   "cell_type": "markdown",
   "metadata": {},
   "source": [
    "Condition + Boolean (and va or)"
   ]
  },
  {
   "cell_type": "code",
   "execution_count": 18,
   "metadata": {},
   "outputs": [
    {
     "name": "stdout",
     "output_type": "stream",
     "text": [
      "12 soni musbat juft son\n"
     ]
    }
   ],
   "source": [
    "a = int(input('Birinchi sonni kirting'))\n",
    "if a > 0 and a % 2 == 0:\n",
    "  print(f\"{a} soni musbat juft son\")\n",
    "elif a > 0 and a % 2 != 0:\n",
    "  print(f\"{a} soni musbat toq son\")\n",
    "else:\n",
    "  print(f\"{a} sonida xatolik bor\")"
   ]
  },
  {
   "cell_type": "markdown",
   "metadata": {},
   "source": [
    "Agar a soni musbat yoki juft bolsa ekranga Ok degan yozuv chiqsin, aks holda xatolik degan yozuv chiqsin"
   ]
  },
  {
   "cell_type": "code",
   "execution_count": 20,
   "metadata": {},
   "outputs": [
    {
     "name": "stdout",
     "output_type": "stream",
     "text": [
      "Ok\n"
     ]
    }
   ],
   "source": [
    "a = int(input('Sonni kiriting'))\n",
    "if a > 0 and a % 2 == 0:\n",
    "  print('Ok')\n",
    "else:\n",
    "  print('Xatolik bot')"
   ]
  },
  {
   "cell_type": "markdown",
   "metadata": {},
   "source": [
    "#2 Vazifa"
   ]
  },
  {
   "cell_type": "markdown",
   "metadata": {},
   "source": [
    "Berilgan son 3 ga va 5 ga bo'linsa 15 ga bo'linuvchi son aks holda xato deb ekranga chiqarilsin."
   ]
  },
  {
   "cell_type": "code",
   "execution_count": 26,
   "metadata": {},
   "outputs": [
    {
     "name": "stdout",
     "output_type": "stream",
     "text": [
      "Xato\n"
     ]
    }
   ],
   "source": [
    "a = int(input('Sonni kiriting'))\n",
    "if a % 3 == 0 and a % 5 == 0:\n",
    "  print(f\"{a} soni 15 ga bo'linadi\")\n",
    "else:\n",
    "  print('Xato')"
   ]
  },
  {
   "cell_type": "code",
   "execution_count": 27,
   "metadata": {},
   "outputs": [
    {
     "name": "stdout",
     "output_type": "stream",
     "text": [
      "12 soni 15 ga bo'linadi\n"
     ]
    }
   ],
   "source": [
    "a = int(input('Sonni kiriting'))\n",
    "if a % 3 == 0 or a % 5 == 0:\n",
    "  print(f\"{a} soni 15 ga bo'linadi\")\n",
    "else:\n",
    "  print('Xato')"
   ]
  },
  {
   "cell_type": "code",
   "execution_count": null,
   "metadata": {},
   "outputs": [],
   "source": []
  }
 ],
 "metadata": {
  "kernelspec": {
   "display_name": "Python 3",
   "language": "python",
   "name": "python3"
  },
  "language_info": {
   "codemirror_mode": {
    "name": "ipython",
    "version": 3
   },
   "file_extension": ".py",
   "mimetype": "text/x-python",
   "name": "python",
   "nbconvert_exporter": "python",
   "pygments_lexer": "ipython3",
   "version": "3.13.2"
  }
 },
 "nbformat": 4,
 "nbformat_minor": 2
}
