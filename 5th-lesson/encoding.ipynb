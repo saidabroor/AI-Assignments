{
 "cells": [
  {
   "cell_type": "markdown",
   "metadata": {},
   "source": [
    "# Data preprocessing - Missing Values"
   ]
  },
  {
   "cell_type": "markdown",
   "metadata": {},
   "source": [
    "Data Gathering"
   ]
  },
  {
   "cell_type": "code",
   "execution_count": 1,
   "metadata": {},
   "outputs": [],
   "source": [
    "import pandas as pd\n",
    "import seaborn as sns\n",
    "import numpy as np\n",
    "import matplotlib.pyplot as plt \n",
    "import missingno as msno\n",
    "from sklearn.preprocessing import LabelEncoder\n",
    "\n"
   ]
  },
  {
   "cell_type": "code",
   "execution_count": 2,
   "metadata": {},
   "outputs": [
    {
     "name": "stdout",
     "output_type": "stream",
     "text": [
      "False\n"
     ]
    }
   ],
   "source": [
    "# to check whether file exists or no, true - exits, false - doesnt exist\n",
    "import os\n",
    "print(os.path.exists('5th-lesson/Netflix Engagement Dataset.csv'))\n"
   ]
  },
  {
   "cell_type": "code",
   "execution_count": 3,
   "metadata": {},
   "outputs": [],
   "source": [
    "df = pd.read_csv('Netflix Engagement Dataset.csv')\n"
   ]
  },
  {
   "cell_type": "code",
   "execution_count": 4,
   "metadata": {},
   "outputs": [
    {
     "data": {
      "text/plain": [
       "'c:\\\\Users\\\\Saidabrorkhon\\\\ML_new\\\\5th-lesson'"
      ]
     },
     "execution_count": 4,
     "metadata": {},
     "output_type": "execute_result"
    }
   ],
   "source": [
    "import os #to check the path of the file\n",
    "os.getcwd()"
   ]
  },
  {
   "cell_type": "markdown",
   "metadata": {},
   "source": [
    "Data Exploration"
   ]
  },
  {
   "cell_type": "code",
   "execution_count": 5,
   "metadata": {},
   "outputs": [
    {
     "data": {
      "text/html": [
       "<div>\n",
       "<style scoped>\n",
       "    .dataframe tbody tr th:only-of-type {\n",
       "        vertical-align: middle;\n",
       "    }\n",
       "\n",
       "    .dataframe tbody tr th {\n",
       "        vertical-align: top;\n",
       "    }\n",
       "\n",
       "    .dataframe thead th {\n",
       "        text-align: right;\n",
       "    }\n",
       "</style>\n",
       "<table border=\"1\" class=\"dataframe\">\n",
       "  <thead>\n",
       "    <tr style=\"text-align: right;\">\n",
       "      <th></th>\n",
       "      <th>Customer ID</th>\n",
       "      <th>Subscription Length (Months)</th>\n",
       "      <th>Customer Satisfaction Score (1-10)</th>\n",
       "      <th>Daily Watch Time (Hours)</th>\n",
       "      <th>Engagement Rate (1-10)</th>\n",
       "      <th>Device Used Most Often</th>\n",
       "      <th>Genre Preference</th>\n",
       "      <th>Region</th>\n",
       "      <th>Payment History (On-Time/Delayed)</th>\n",
       "      <th>Subscription Plan</th>\n",
       "      <th>Churn Status (Yes/No)</th>\n",
       "      <th>Support Queries Logged</th>\n",
       "      <th>Age</th>\n",
       "      <th>Monthly Income ($)</th>\n",
       "      <th>Promotional Offers Used</th>\n",
       "      <th>Number of Profiles Created</th>\n",
       "    </tr>\n",
       "  </thead>\n",
       "  <tbody>\n",
       "    <tr>\n",
       "      <th>0</th>\n",
       "      <td>1</td>\n",
       "      <td>50.0</td>\n",
       "      <td>10.0</td>\n",
       "      <td>4.32</td>\n",
       "      <td>8</td>\n",
       "      <td>Mobile</td>\n",
       "      <td>Romance</td>\n",
       "      <td>Oceania</td>\n",
       "      <td>On-Time</td>\n",
       "      <td>Premium</td>\n",
       "      <td>No</td>\n",
       "      <td>9.0</td>\n",
       "      <td>26.0</td>\n",
       "      <td>3307.0</td>\n",
       "      <td>Yes</td>\n",
       "      <td>2.0</td>\n",
       "    </tr>\n",
       "    <tr>\n",
       "      <th>1</th>\n",
       "      <td>2</td>\n",
       "      <td>40.0</td>\n",
       "      <td>5.0</td>\n",
       "      <td>4.45</td>\n",
       "      <td>3</td>\n",
       "      <td>Smart TV</td>\n",
       "      <td>Comedy</td>\n",
       "      <td>Asia</td>\n",
       "      <td>On-Time</td>\n",
       "      <td>Premium</td>\n",
       "      <td>No</td>\n",
       "      <td>6.0</td>\n",
       "      <td>27.0</td>\n",
       "      <td>7333.0</td>\n",
       "      <td>Yes</td>\n",
       "      <td>2.0</td>\n",
       "    </tr>\n",
       "    <tr>\n",
       "      <th>2</th>\n",
       "      <td>3</td>\n",
       "      <td>17.0</td>\n",
       "      <td>8.0</td>\n",
       "      <td>4.81</td>\n",
       "      <td>8</td>\n",
       "      <td>Laptop</td>\n",
       "      <td>Sci-fi</td>\n",
       "      <td>South America</td>\n",
       "      <td>On-Time</td>\n",
       "      <td>Basic</td>\n",
       "      <td>No</td>\n",
       "      <td>0.0</td>\n",
       "      <td>55.0</td>\n",
       "      <td>7527.0</td>\n",
       "      <td>Yes</td>\n",
       "      <td>3.0</td>\n",
       "    </tr>\n",
       "    <tr>\n",
       "      <th>3</th>\n",
       "      <td>4</td>\n",
       "      <td>59.0</td>\n",
       "      <td>10.0</td>\n",
       "      <td>2.67</td>\n",
       "      <td>10</td>\n",
       "      <td>Mobile</td>\n",
       "      <td>Action</td>\n",
       "      <td>Africa</td>\n",
       "      <td>On-Time</td>\n",
       "      <td>Basic</td>\n",
       "      <td>No</td>\n",
       "      <td>1.0</td>\n",
       "      <td>29.0</td>\n",
       "      <td>9934.0</td>\n",
       "      <td>Yes</td>\n",
       "      <td>3.0</td>\n",
       "    </tr>\n",
       "    <tr>\n",
       "      <th>4</th>\n",
       "      <td>5</td>\n",
       "      <td>5.0</td>\n",
       "      <td>7.0</td>\n",
       "      <td>4.20</td>\n",
       "      <td>9</td>\n",
       "      <td>Smart TV</td>\n",
       "      <td>Sci-fi</td>\n",
       "      <td>North America</td>\n",
       "      <td>On-Time</td>\n",
       "      <td>Standard</td>\n",
       "      <td>No</td>\n",
       "      <td>7.0</td>\n",
       "      <td>45.0</td>\n",
       "      <td>6242.0</td>\n",
       "      <td>Yes</td>\n",
       "      <td>3.0</td>\n",
       "    </tr>\n",
       "  </tbody>\n",
       "</table>\n",
       "</div>"
      ],
      "text/plain": [
       "   Customer ID  Subscription Length (Months)  \\\n",
       "0            1                          50.0   \n",
       "1            2                          40.0   \n",
       "2            3                          17.0   \n",
       "3            4                          59.0   \n",
       "4            5                           5.0   \n",
       "\n",
       "   Customer Satisfaction Score (1-10)  Daily Watch Time (Hours)  \\\n",
       "0                                10.0                      4.32   \n",
       "1                                 5.0                      4.45   \n",
       "2                                 8.0                      4.81   \n",
       "3                                10.0                      2.67   \n",
       "4                                 7.0                      4.20   \n",
       "\n",
       "   Engagement Rate (1-10) Device Used Most Often Genre Preference  \\\n",
       "0                       8                 Mobile          Romance   \n",
       "1                       3               Smart TV           Comedy   \n",
       "2                       8                 Laptop           Sci-fi   \n",
       "3                      10                 Mobile           Action   \n",
       "4                       9               Smart TV           Sci-fi   \n",
       "\n",
       "          Region Payment History (On-Time/Delayed) Subscription Plan  \\\n",
       "0        Oceania                           On-Time           Premium   \n",
       "1           Asia                           On-Time           Premium   \n",
       "2  South America                           On-Time             Basic   \n",
       "3         Africa                           On-Time             Basic   \n",
       "4  North America                           On-Time          Standard   \n",
       "\n",
       "  Churn Status (Yes/No)  Support Queries Logged   Age  Monthly Income ($)  \\\n",
       "0                    No                     9.0  26.0              3307.0   \n",
       "1                    No                     6.0  27.0              7333.0   \n",
       "2                    No                     0.0  55.0              7527.0   \n",
       "3                    No                     1.0  29.0              9934.0   \n",
       "4                    No                     7.0  45.0              6242.0   \n",
       "\n",
       "  Promotional Offers Used  Number of Profiles Created  \n",
       "0                     Yes                         2.0  \n",
       "1                     Yes                         2.0  \n",
       "2                     Yes                         3.0  \n",
       "3                     Yes                         3.0  \n",
       "4                     Yes                         3.0  "
      ]
     },
     "execution_count": 5,
     "metadata": {},
     "output_type": "execute_result"
    }
   ],
   "source": [
    "df.head()"
   ]
  },
  {
   "cell_type": "code",
   "execution_count": 6,
   "metadata": {},
   "outputs": [
    {
     "data": {
      "text/html": [
       "<div>\n",
       "<style scoped>\n",
       "    .dataframe tbody tr th:only-of-type {\n",
       "        vertical-align: middle;\n",
       "    }\n",
       "\n",
       "    .dataframe tbody tr th {\n",
       "        vertical-align: top;\n",
       "    }\n",
       "\n",
       "    .dataframe thead th {\n",
       "        text-align: right;\n",
       "    }\n",
       "</style>\n",
       "<table border=\"1\" class=\"dataframe\">\n",
       "  <thead>\n",
       "    <tr style=\"text-align: right;\">\n",
       "      <th></th>\n",
       "      <th>Customer ID</th>\n",
       "      <th>Subscription Length (Months)</th>\n",
       "      <th>Customer Satisfaction Score (1-10)</th>\n",
       "      <th>Daily Watch Time (Hours)</th>\n",
       "      <th>Engagement Rate (1-10)</th>\n",
       "      <th>Device Used Most Often</th>\n",
       "      <th>Genre Preference</th>\n",
       "      <th>Region</th>\n",
       "      <th>Payment History (On-Time/Delayed)</th>\n",
       "      <th>Subscription Plan</th>\n",
       "      <th>Churn Status (Yes/No)</th>\n",
       "      <th>Support Queries Logged</th>\n",
       "      <th>Age</th>\n",
       "      <th>Monthly Income ($)</th>\n",
       "      <th>Promotional Offers Used</th>\n",
       "      <th>Number of Profiles Created</th>\n",
       "    </tr>\n",
       "  </thead>\n",
       "  <tbody>\n",
       "    <tr>\n",
       "      <th>3495</th>\n",
       "      <td>3496</td>\n",
       "      <td>20.0</td>\n",
       "      <td>4.0</td>\n",
       "      <td>4.82</td>\n",
       "      <td>6</td>\n",
       "      <td>Laptop</td>\n",
       "      <td>Sci-fi</td>\n",
       "      <td>Asia</td>\n",
       "      <td>On-Time</td>\n",
       "      <td>Premium</td>\n",
       "      <td>No</td>\n",
       "      <td>1.0</td>\n",
       "      <td>24.0</td>\n",
       "      <td>9508.0</td>\n",
       "      <td>Yes</td>\n",
       "      <td>1.0</td>\n",
       "    </tr>\n",
       "    <tr>\n",
       "      <th>3496</th>\n",
       "      <td>3497</td>\n",
       "      <td>56.0</td>\n",
       "      <td>8.0</td>\n",
       "      <td>4.48</td>\n",
       "      <td>7</td>\n",
       "      <td>Mobile</td>\n",
       "      <td>Romance</td>\n",
       "      <td>Africa</td>\n",
       "      <td>On-Time</td>\n",
       "      <td>Basic</td>\n",
       "      <td>No</td>\n",
       "      <td>2.0</td>\n",
       "      <td>32.0</td>\n",
       "      <td>9579.0</td>\n",
       "      <td>No</td>\n",
       "      <td>3.0</td>\n",
       "    </tr>\n",
       "    <tr>\n",
       "      <th>3497</th>\n",
       "      <td>3498</td>\n",
       "      <td>52.0</td>\n",
       "      <td>7.0</td>\n",
       "      <td>4.43</td>\n",
       "      <td>8</td>\n",
       "      <td>Tablet</td>\n",
       "      <td>Sci-fi</td>\n",
       "      <td>Oceania</td>\n",
       "      <td>On-Time</td>\n",
       "      <td>Standard</td>\n",
       "      <td>No</td>\n",
       "      <td>7.0</td>\n",
       "      <td>50.0</td>\n",
       "      <td>6914.0</td>\n",
       "      <td>Yes</td>\n",
       "      <td>2.0</td>\n",
       "    </tr>\n",
       "    <tr>\n",
       "      <th>3498</th>\n",
       "      <td>3499</td>\n",
       "      <td>34.0</td>\n",
       "      <td>5.0</td>\n",
       "      <td>1.11</td>\n",
       "      <td>3</td>\n",
       "      <td>Smart TV</td>\n",
       "      <td>Romance</td>\n",
       "      <td>Asia</td>\n",
       "      <td>On-Time</td>\n",
       "      <td>Basic</td>\n",
       "      <td>No</td>\n",
       "      <td>8.0</td>\n",
       "      <td>30.0</td>\n",
       "      <td>6525.0</td>\n",
       "      <td>Yes</td>\n",
       "      <td>3.0</td>\n",
       "    </tr>\n",
       "    <tr>\n",
       "      <th>3499</th>\n",
       "      <td>3500</td>\n",
       "      <td>6.0</td>\n",
       "      <td>5.0</td>\n",
       "      <td>4.34</td>\n",
       "      <td>3</td>\n",
       "      <td>Mobile</td>\n",
       "      <td>Comedy</td>\n",
       "      <td>North America</td>\n",
       "      <td>On-Time</td>\n",
       "      <td>Basic</td>\n",
       "      <td>No</td>\n",
       "      <td>0.0</td>\n",
       "      <td>45.0</td>\n",
       "      <td>9109.0</td>\n",
       "      <td>Yes</td>\n",
       "      <td>2.0</td>\n",
       "    </tr>\n",
       "  </tbody>\n",
       "</table>\n",
       "</div>"
      ],
      "text/plain": [
       "      Customer ID  Subscription Length (Months)  \\\n",
       "3495         3496                          20.0   \n",
       "3496         3497                          56.0   \n",
       "3497         3498                          52.0   \n",
       "3498         3499                          34.0   \n",
       "3499         3500                           6.0   \n",
       "\n",
       "      Customer Satisfaction Score (1-10)  Daily Watch Time (Hours)  \\\n",
       "3495                                 4.0                      4.82   \n",
       "3496                                 8.0                      4.48   \n",
       "3497                                 7.0                      4.43   \n",
       "3498                                 5.0                      1.11   \n",
       "3499                                 5.0                      4.34   \n",
       "\n",
       "      Engagement Rate (1-10) Device Used Most Often Genre Preference  \\\n",
       "3495                       6                 Laptop           Sci-fi   \n",
       "3496                       7                 Mobile          Romance   \n",
       "3497                       8                 Tablet           Sci-fi   \n",
       "3498                       3               Smart TV          Romance   \n",
       "3499                       3                 Mobile           Comedy   \n",
       "\n",
       "             Region Payment History (On-Time/Delayed) Subscription Plan  \\\n",
       "3495           Asia                           On-Time           Premium   \n",
       "3496         Africa                           On-Time             Basic   \n",
       "3497        Oceania                           On-Time          Standard   \n",
       "3498           Asia                           On-Time             Basic   \n",
       "3499  North America                           On-Time             Basic   \n",
       "\n",
       "     Churn Status (Yes/No)  Support Queries Logged   Age  Monthly Income ($)  \\\n",
       "3495                    No                     1.0  24.0              9508.0   \n",
       "3496                    No                     2.0  32.0              9579.0   \n",
       "3497                    No                     7.0  50.0              6914.0   \n",
       "3498                    No                     8.0  30.0              6525.0   \n",
       "3499                    No                     0.0  45.0              9109.0   \n",
       "\n",
       "     Promotional Offers Used  Number of Profiles Created  \n",
       "3495                     Yes                         1.0  \n",
       "3496                      No                         3.0  \n",
       "3497                     Yes                         2.0  \n",
       "3498                     Yes                         3.0  \n",
       "3499                     Yes                         2.0  "
      ]
     },
     "execution_count": 6,
     "metadata": {},
     "output_type": "execute_result"
    }
   ],
   "source": [
    "df.tail()"
   ]
  },
  {
   "cell_type": "code",
   "execution_count": 7,
   "metadata": {},
   "outputs": [
    {
     "name": "stdout",
     "output_type": "stream",
     "text": [
      "<class 'pandas.core.frame.DataFrame'>\n",
      "RangeIndex: 3500 entries, 0 to 3499\n",
      "Data columns (total 16 columns):\n",
      " #   Column                              Non-Null Count  Dtype  \n",
      "---  ------                              --------------  -----  \n",
      " 0   Customer ID                         3500 non-null   int64  \n",
      " 1   Subscription Length (Months)        3497 non-null   float64\n",
      " 2   Customer Satisfaction Score (1-10)  3499 non-null   float64\n",
      " 3   Daily Watch Time (Hours)            3493 non-null   float64\n",
      " 4   Engagement Rate (1-10)              3500 non-null   int64  \n",
      " 5   Device Used Most Often              3499 non-null   object \n",
      " 6   Genre Preference                    3498 non-null   object \n",
      " 7   Region                              3495 non-null   object \n",
      " 8   Payment History (On-Time/Delayed)   3498 non-null   object \n",
      " 9   Subscription Plan                   3498 non-null   object \n",
      " 10  Churn Status (Yes/No)               3500 non-null   object \n",
      " 11  Support Queries Logged              3499 non-null   float64\n",
      " 12  Age                                 3499 non-null   float64\n",
      " 13  Monthly Income ($)                  3497 non-null   float64\n",
      " 14  Promotional Offers Used             3499 non-null   object \n",
      " 15  Number of Profiles Created          3498 non-null   float64\n",
      "dtypes: float64(7), int64(2), object(7)\n",
      "memory usage: 437.6+ KB\n"
     ]
    }
   ],
   "source": [
    "df.info()"
   ]
  },
  {
   "cell_type": "code",
   "execution_count": 8,
   "metadata": {},
   "outputs": [
    {
     "data": {
      "text/plain": [
       "Customer ID                           0\n",
       "Subscription Length (Months)          3\n",
       "Customer Satisfaction Score (1-10)    1\n",
       "Daily Watch Time (Hours)              7\n",
       "Engagement Rate (1-10)                0\n",
       "Device Used Most Often                1\n",
       "Genre Preference                      2\n",
       "Region                                5\n",
       "Payment History (On-Time/Delayed)     2\n",
       "Subscription Plan                     2\n",
       "Churn Status (Yes/No)                 0\n",
       "Support Queries Logged                1\n",
       "Age                                   1\n",
       "Monthly Income ($)                    3\n",
       "Promotional Offers Used               1\n",
       "Number of Profiles Created            2\n",
       "dtype: int64"
      ]
     },
     "execution_count": 8,
     "metadata": {},
     "output_type": "execute_result"
    }
   ],
   "source": [
    "df.isnull().sum()"
   ]
  },
  {
   "cell_type": "markdown",
   "metadata": {},
   "source": [
    "# Dropping"
   ]
  },
  {
   "cell_type": "markdown",
   "metadata": {},
   "source": [
    "#1 Complete Dropping"
   ]
  },
  {
   "cell_type": "code",
   "execution_count": null,
   "metadata": {},
   "outputs": [],
   "source": [
    "missing_values = df.columns[df.isnull().any()]\n",
    "df = df.dropna(subset = missing_values)"
   ]
  },
  {
   "cell_type": "code",
   "execution_count": null,
   "metadata": {},
   "outputs": [],
   "source": [
    "df.isnull().sum()"
   ]
  },
  {
   "cell_type": "markdown",
   "metadata": {},
   "source": [
    "#2 Selective Dropping"
   ]
  },
  {
   "cell_type": "code",
   "execution_count": null,
   "metadata": {},
   "outputs": [],
   "source": [
    "df = df.dropna(subset=['Subscription Length (Months)'])"
   ]
  },
  {
   "cell_type": "code",
   "execution_count": null,
   "metadata": {},
   "outputs": [],
   "source": [
    "df = df.dropna(subset=['Customer Satisfaction Score (1-10)'])"
   ]
  },
  {
   "cell_type": "code",
   "execution_count": null,
   "metadata": {},
   "outputs": [],
   "source": [
    "df = df.dropna(subset=['Daily Watch Time (Hours)'])"
   ]
  },
  {
   "cell_type": "code",
   "execution_count": null,
   "metadata": {},
   "outputs": [],
   "source": [
    "df = df.dropna(subset=['Engagement Rate (1-10)'])"
   ]
  },
  {
   "cell_type": "code",
   "execution_count": null,
   "metadata": {},
   "outputs": [],
   "source": [
    "df = df.dropna(subset=['Payment History (On-Time/Delayed)'])"
   ]
  },
  {
   "cell_type": "code",
   "execution_count": null,
   "metadata": {},
   "outputs": [],
   "source": [
    "df.isnull().sum()"
   ]
  },
  {
   "cell_type": "markdown",
   "metadata": {},
   "source": [
    "Fixing"
   ]
  },
  {
   "cell_type": "code",
   "execution_count": null,
   "metadata": {},
   "outputs": [],
   "source": [
    "df['Number of Profiles Created'].fillna(2, inplace=True)\n",
    "df['Promotional Offers Used'].fillna(2, inplace=True)"
   ]
  },
  {
   "cell_type": "code",
   "execution_count": null,
   "metadata": {},
   "outputs": [],
   "source": [
    "df.isnull().sum()"
   ]
  },
  {
   "cell_type": "markdown",
   "metadata": {},
   "source": [
    "Mean"
   ]
  },
  {
   "cell_type": "code",
   "execution_count": null,
   "metadata": {},
   "outputs": [],
   "source": [
    "df['Monthly Income ($)'].fillna(df['Monthly Income ($)'].mean(), inplace=True)\n",
    "df['Daily Watch Time (Hours)'].fillna(df['Daily Watch Time (Hours)'].mean(), inplace=True)"
   ]
  },
  {
   "cell_type": "markdown",
   "metadata": {},
   "source": [
    "Mode"
   ]
  },
  {
   "cell_type": "code",
   "execution_count": null,
   "metadata": {},
   "outputs": [],
   "source": [
    "df['Age'].fillna(df['Age'].mode()[0], inplace=True)\n",
    "df['Payment History (On-Time/Delayed)'].fillna(df['Payment History (On-Time/Delayed)'].mode()[0], inplace=True)"
   ]
  },
  {
   "cell_type": "markdown",
   "metadata": {},
   "source": [
    "Medain"
   ]
  },
  {
   "cell_type": "code",
   "execution_count": null,
   "metadata": {},
   "outputs": [],
   "source": [
    "df['Customer Satisfaction Score (1-10)'].fillna(df['Customer Satisfaction Score (1-10)'].median(), inplace=True)\n",
    "df['Number of Profiles Created'].fillna(df['Number of Profiles Created'].median(), inplace=True)"
   ]
  },
  {
   "cell_type": "markdown",
   "metadata": {},
   "source": [
    "# Encoding"
   ]
  },
  {
   "cell_type": "code",
   "execution_count": 28,
   "metadata": {},
   "outputs": [],
   "source": [
    "df = df.dropna()"
   ]
  },
  {
   "cell_type": "code",
   "execution_count": 29,
   "metadata": {},
   "outputs": [
    {
     "data": {
      "text/plain": [
       "Customer ID                           0\n",
       "Subscription Length (Months)          0\n",
       "Customer Satisfaction Score (1-10)    0\n",
       "Daily Watch Time (Hours)              0\n",
       "Engagement Rate (1-10)                0\n",
       "Device Used Most Often                0\n",
       "Genre Preference                      0\n",
       "Region                                0\n",
       "Payment History (On-Time/Delayed)     0\n",
       "Subscription Plan                     0\n",
       "Churn Status (Yes/No)                 0\n",
       "Support Queries Logged                0\n",
       "Age                                   0\n",
       "Monthly Income ($)                    0\n",
       "Promotional Offers Used               0\n",
       "Number of Profiles Created            0\n",
       "dtype: int64"
      ]
     },
     "execution_count": 29,
     "metadata": {},
     "output_type": "execute_result"
    }
   ],
   "source": [
    "df.isnull().sum()"
   ]
  },
  {
   "cell_type": "markdown",
   "metadata": {},
   "source": [
    "One-hot encoding"
   ]
  },
  {
   "cell_type": "code",
   "execution_count": 30,
   "metadata": {},
   "outputs": [],
   "source": [
    "df = pd.get_dummies(df,columns=['Churn Status (Yes/No)'], dtype=int)"
   ]
  },
  {
   "cell_type": "markdown",
   "metadata": {},
   "source": [
    "Label Encoding"
   ]
  },
  {
   "cell_type": "code",
   "execution_count": 34,
   "metadata": {},
   "outputs": [],
   "source": [
    "from sklearn.preprocessing import LabelEncoder"
   ]
  },
  {
   "cell_type": "code",
   "execution_count": 35,
   "metadata": {},
   "outputs": [],
   "source": [
    "encoder = LabelEncoder()"
   ]
  },
  {
   "cell_type": "code",
   "execution_count": 36,
   "metadata": {},
   "outputs": [],
   "source": [
    "df['Genre Preference'] = encoder.fit_transform(df['Genre Preference'])"
   ]
  },
  {
   "cell_type": "code",
   "execution_count": 37,
   "metadata": {},
   "outputs": [],
   "source": [
    "df['Region'] = encoder.fit_transform(df['Region'])"
   ]
  },
  {
   "cell_type": "code",
   "execution_count": 38,
   "metadata": {},
   "outputs": [],
   "source": [
    "df['Support Queries Logged'] = encoder.fit_transform(df['Support Queries Logged'])"
   ]
  },
  {
   "cell_type": "code",
   "execution_count": 43,
   "metadata": {},
   "outputs": [
    {
     "name": "stdout",
     "output_type": "stream",
     "text": [
      "<class 'pandas.core.frame.DataFrame'>\n",
      "Index: 3475 entries, 0 to 3499\n",
      "Data columns (total 17 columns):\n",
      " #   Column                              Non-Null Count  Dtype  \n",
      "---  ------                              --------------  -----  \n",
      " 0   Customer ID                         3475 non-null   int64  \n",
      " 1   Subscription Length (Months)        3475 non-null   float64\n",
      " 2   Customer Satisfaction Score (1-10)  3475 non-null   float64\n",
      " 3   Daily Watch Time (Hours)            3475 non-null   float64\n",
      " 4   Engagement Rate (1-10)              3475 non-null   int64  \n",
      " 5   Device Used Most Often              3475 non-null   object \n",
      " 6   Genre Preference                    3475 non-null   int64  \n",
      " 7   Region                              3475 non-null   int64  \n",
      " 8   Payment History (On-Time/Delayed)   3475 non-null   object \n",
      " 9   Subscription Plan                   3475 non-null   object \n",
      " 10  Support Queries Logged              3475 non-null   int64  \n",
      " 11  Age                                 3475 non-null   float64\n",
      " 12  Monthly Income ($)                  3475 non-null   float64\n",
      " 13  Promotional Offers Used             3475 non-null   object \n",
      " 14  Number of Profiles Created          3475 non-null   float64\n",
      " 15  Churn Status (Yes/No)_No            3475 non-null   int64  \n",
      " 16  Churn Status (Yes/No)_Yes           3475 non-null   int64  \n",
      "dtypes: float64(6), int64(7), object(4)\n",
      "memory usage: 488.7+ KB\n"
     ]
    }
   ],
   "source": [
    "df.info()"
   ]
  },
  {
   "cell_type": "markdown",
   "metadata": {},
   "source": [
    "Target Encoding and Frequency Encoding will be on another file, because the data did not have output. (Sorry for the oversight)."
   ]
  },
  {
   "cell_type": "markdown",
   "metadata": {},
   "source": []
  }
 ],
 "metadata": {
  "kernelspec": {
   "display_name": "Python 3",
   "language": "python",
   "name": "python3"
  },
  "language_info": {
   "codemirror_mode": {
    "name": "ipython",
    "version": 3
   },
   "file_extension": ".py",
   "mimetype": "text/x-python",
   "name": "python",
   "nbconvert_exporter": "python",
   "pygments_lexer": "ipython3",
   "version": "3.13.2"
  }
 },
 "nbformat": 4,
 "nbformat_minor": 2
}
