{
 "cells": [
  {
   "cell_type": "code",
   "execution_count": 3,
   "metadata": {},
   "outputs": [],
   "source": [
    "import pandas as pd\n",
    "import numpy as np\n",
    "import seaborn as sns\n",
    "import missingno as msno"
   ]
  },
  {
   "cell_type": "markdown",
   "metadata": {},
   "source": [
    "# Data preprocessing"
   ]
  },
  {
   "cell_type": "markdown",
   "metadata": {},
   "source": [
    "FIX"
   ]
  },
  {
   "cell_type": "code",
   "execution_count": 4,
   "metadata": {},
   "outputs": [],
   "source": [
    "df=pd.read_csv('telefon turini aniqlash2.csv')"
   ]
  },
  {
   "cell_type": "code",
   "execution_count": 6,
   "metadata": {},
   "outputs": [
    {
     "name": "stdout",
     "output_type": "stream",
     "text": [
      "<class 'pandas.core.frame.DataFrame'>\n",
      "RangeIndex: 2001 entries, 0 to 2000\n",
      "Data columns (total 23 columns):\n",
      " #   Column                         Non-Null Count  Dtype  \n",
      "---  ------                         --------------  -----  \n",
      " 0   battereya_hajmi                2001 non-null   int64  \n",
      " 1   blutus                         2001 non-null   int64  \n",
      " 2   protsessor_tezligi             2001 non-null   float64\n",
      " 3   ikkita simkartalik             2001 non-null   int64  \n",
      " 4   Oldi_kamera                    2001 non-null   int64  \n",
      " 5   4G                             2001 non-null   int64  \n",
      " 6   Ichki_xotira                   2001 non-null   int64  \n",
      " 7   tel_ingichgaligi               2001 non-null   float64\n",
      " 8   Rangi                          2001 non-null   object \n",
      " 9   Vazni                          2001 non-null   int64  \n",
      " 10  Protsessor yadrolari soni      2000 non-null   float64\n",
      " 11  Asosiy kamera                  1999 non-null   float64\n",
      " 12  Qurilma xajmi(pix)             1999 non-null   float64\n",
      " 13  Qurilma ekran kengligi(pix)    1998 non-null   float64\n",
      " 14  ram                            2001 non-null   int64  \n",
      " 15  Qurilma xajmi(cm)              2000 non-null   float64\n",
      " 16  Qurilma ekran kengligi(cm)     2000 non-null   float64\n",
      " 17  Bir_quvvatlashdagi gaplashish  2001 non-null   int64  \n",
      " 18  3g                             2001 non-null   int64  \n",
      " 19  Qurilma xajmi(pix).1           1999 non-null   float64\n",
      " 20  sensorli                       2001 non-null   int64  \n",
      " 21  wifi                           2001 non-null   int64  \n",
      " 22  telefon_turi                   2001 non-null   int64  \n",
      "dtypes: float64(9), int64(13), object(1)\n",
      "memory usage: 359.7+ KB\n"
     ]
    },
    {
     "name": "stderr",
     "output_type": "stream",
     "text": [
      "C:\\Users\\Saidabrorkhon\\AppData\\Local\\Temp\\ipykernel_21124\\505103661.py:1: FutureWarning: A value is trying to be set on a copy of a DataFrame or Series through chained assignment using an inplace method.\n",
      "The behavior will change in pandas 3.0. This inplace method will never work because the intermediate object on which we are setting values always behaves as a copy.\n",
      "\n",
      "For example, when doing 'df[col].method(value, inplace=True)', try using 'df.method({col: value}, inplace=True)' or df[col] = df[col].method(value) instead, to perform the operation inplace on the original object.\n",
      "\n",
      "\n",
      "  df['tel_ingichgaligi'].fillna(4,inplace=True)\n"
     ]
    }
   ],
   "source": [
    "df['tel_ingichgaligi'].fillna(4,inplace=True)\n",
    "df.info()"
   ]
  },
  {
   "cell_type": "code",
   "execution_count": 7,
   "metadata": {},
   "outputs": [
    {
     "data": {
      "text/plain": [
       "Rangi\n",
       "Qora         1989\n",
       "Yashil          7\n",
       "Oq              2\n",
       "Qizil           1\n",
       "Jigarrang       1\n",
       "Sariq           1\n",
       "Name: count, dtype: int64"
      ]
     },
     "execution_count": 7,
     "metadata": {},
     "output_type": "execute_result"
    }
   ],
   "source": [
    "df['Rangi'].value_counts()"
   ]
  },
  {
   "cell_type": "code",
   "execution_count": 8,
   "metadata": {},
   "outputs": [],
   "source": [
    "df['Rangi'].fillna('Qora', inplace=True)"
   ]
  },
  {
   "cell_type": "markdown",
   "metadata": {},
   "source": [
    "# Mean"
   ]
  },
  {
   "cell_type": "code",
   "execution_count": 9,
   "metadata": {},
   "outputs": [
    {
     "name": "stderr",
     "output_type": "stream",
     "text": [
      "C:\\Users\\Saidabrorkhon\\AppData\\Local\\Temp\\ipykernel_21124\\4072601921.py:1: FutureWarning: A value is trying to be set on a copy of a DataFrame or Series through chained assignment using an inplace method.\n",
      "The behavior will change in pandas 3.0. This inplace method will never work because the intermediate object on which we are setting values always behaves as a copy.\n",
      "\n",
      "For example, when doing 'df[col].method(value, inplace=True)', try using 'df.method({col: value}, inplace=True)' or df[col] = df[col].method(value) instead, to perform the operation inplace on the original object.\n",
      "\n",
      "\n",
      "  df['Asosiy kamera'].fillna(df['Asosiy kamera'].mean(), inplace=True)\n"
     ]
    }
   ],
   "source": [
    "df['Asosiy kamera'].fillna(df['Asosiy kamera'].mean(), inplace=True)"
   ]
  },
  {
   "cell_type": "code",
   "execution_count": 10,
   "metadata": {},
   "outputs": [
    {
     "name": "stdout",
     "output_type": "stream",
     "text": [
      "<class 'pandas.core.frame.DataFrame'>\n",
      "RangeIndex: 2001 entries, 0 to 2000\n",
      "Data columns (total 23 columns):\n",
      " #   Column                         Non-Null Count  Dtype  \n",
      "---  ------                         --------------  -----  \n",
      " 0   battereya_hajmi                2001 non-null   int64  \n",
      " 1   blutus                         2001 non-null   int64  \n",
      " 2   protsessor_tezligi             2001 non-null   float64\n",
      " 3   ikkita simkartalik             2001 non-null   int64  \n",
      " 4   Oldi_kamera                    2001 non-null   int64  \n",
      " 5   4G                             2001 non-null   int64  \n",
      " 6   Ichki_xotira                   2001 non-null   int64  \n",
      " 7   tel_ingichgaligi               2001 non-null   float64\n",
      " 8   Rangi                          2001 non-null   object \n",
      " 9   Vazni                          2001 non-null   int64  \n",
      " 10  Protsessor yadrolari soni      2000 non-null   float64\n",
      " 11  Asosiy kamera                  2001 non-null   float64\n",
      " 12  Qurilma xajmi(pix)             1999 non-null   float64\n",
      " 13  Qurilma ekran kengligi(pix)    1998 non-null   float64\n",
      " 14  ram                            2001 non-null   int64  \n",
      " 15  Qurilma xajmi(cm)              2000 non-null   float64\n",
      " 16  Qurilma ekran kengligi(cm)     2000 non-null   float64\n",
      " 17  Bir_quvvatlashdagi gaplashish  2001 non-null   int64  \n",
      " 18  3g                             2001 non-null   int64  \n",
      " 19  Qurilma xajmi(pix).1           1999 non-null   float64\n",
      " 20  sensorli                       2001 non-null   int64  \n",
      " 21  wifi                           2001 non-null   int64  \n",
      " 22  telefon_turi                   2001 non-null   int64  \n",
      "dtypes: float64(9), int64(13), object(1)\n",
      "memory usage: 359.7+ KB\n"
     ]
    }
   ],
   "source": [
    "df.info()"
   ]
  },
  {
   "cell_type": "markdown",
   "metadata": {},
   "source": [
    "# Mode"
   ]
  },
  {
   "cell_type": "code",
   "execution_count": 12,
   "metadata": {},
   "outputs": [
    {
     "name": "stderr",
     "output_type": "stream",
     "text": [
      "C:\\Users\\Saidabrorkhon\\AppData\\Local\\Temp\\ipykernel_21124\\1776809996.py:1: FutureWarning: A value is trying to be set on a copy of a DataFrame or Series through chained assignment using an inplace method.\n",
      "The behavior will change in pandas 3.0. This inplace method will never work because the intermediate object on which we are setting values always behaves as a copy.\n",
      "\n",
      "For example, when doing 'df[col].method(value, inplace=True)', try using 'df.method({col: value}, inplace=True)' or df[col] = df[col].method(value) instead, to perform the operation inplace on the original object.\n",
      "\n",
      "\n",
      "  df['Protsessor yadrolari soni'].fillna(df['Protsessor yadrolari soni'].mode()[0], inplace=True)\n"
     ]
    }
   ],
   "source": [
    "df['Protsessor yadrolari soni'].fillna(df['Protsessor yadrolari soni'].mode()[0], inplace=True)"
   ]
  },
  {
   "cell_type": "markdown",
   "metadata": {},
   "source": [
    "# Median "
   ]
  },
  {
   "cell_type": "code",
   "execution_count": 13,
   "metadata": {},
   "outputs": [
    {
     "name": "stderr",
     "output_type": "stream",
     "text": [
      "C:\\Users\\Saidabrorkhon\\AppData\\Local\\Temp\\ipykernel_21124\\3084273262.py:1: FutureWarning: A value is trying to be set on a copy of a DataFrame or Series through chained assignment using an inplace method.\n",
      "The behavior will change in pandas 3.0. This inplace method will never work because the intermediate object on which we are setting values always behaves as a copy.\n",
      "\n",
      "For example, when doing 'df[col].method(value, inplace=True)', try using 'df.method({col: value}, inplace=True)' or df[col] = df[col].method(value) instead, to perform the operation inplace on the original object.\n",
      "\n",
      "\n",
      "  df['Qurilma xajmi(pix).1'].fillna(df['Qurilma xajmi(pix).1'].median(), inplace=True)\n"
     ]
    }
   ],
   "source": [
    "df['Qurilma xajmi(pix).1'].fillna(df['Qurilma xajmi(pix).1'].median(), inplace=True)"
   ]
  },
  {
   "cell_type": "code",
   "execution_count": null,
   "metadata": {},
   "outputs": [],
   "source": [
    " "
   ]
  }
 ],
 "metadata": {
  "kernelspec": {
   "display_name": "Python 3",
   "language": "python",
   "name": "python3"
  },
  "language_info": {
   "codemirror_mode": {
    "name": "ipython",
    "version": 3
   },
   "file_extension": ".py",
   "mimetype": "text/x-python",
   "name": "python",
   "nbconvert_exporter": "python",
   "pygments_lexer": "ipython3",
   "version": "3.13.2"
  }
 },
 "nbformat": 4,
 "nbformat_minor": 2
}
