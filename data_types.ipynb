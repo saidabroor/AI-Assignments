{
 "cells": [
  {
   "cell_type": "markdown",
   "metadata": {},
   "source": [
    "# Data Types"
   ]
  },
  {
   "cell_type": "markdown",
   "metadata": {},
   "source": [
    "# Qo'shimcha matematika opertorlari"
   ]
  },
  {
   "cell_type": "markdown",
   "metadata": {},
   "source": []
  },
  {
   "cell_type": "code",
   "execution_count": null,
   "metadata": {},
   "outputs": [
    {
     "data": {
      "text/plain": [
       "5"
      ]
     },
     "execution_count": 5,
     "metadata": {},
     "output_type": "execute_result"
    }
   ],
   "source": [
    "#%,//,/\n",
    "#(Markdown va comment farqi)\n",
    "# if/else/elif\n",
    "\n",
    "\n",
    "\n",
    "\n"
   ]
  },
  {
   "cell_type": "code",
   "execution_count": 48,
   "metadata": {},
   "outputs": [
    {
     "name": "stdout",
     "output_type": "stream",
     "text": [
      "1\n"
     ]
    }
   ],
   "source": [
    "a=7\n",
    "b=3\n",
    "# print(a/b)\n",
    "# print(a//b)\n",
    "print(a%b)\n"
   ]
  },
  {
   "cell_type": "markdown",
   "metadata": {},
   "source": [
    "# Data Types(int,float,str,boolean)"
   ]
  },
  {
   "cell_type": "code",
   "execution_count": 21,
   "metadata": {},
   "outputs": [
    {
     "data": {
      "text/plain": [
       "'Hello'"
      ]
     },
     "execution_count": 21,
     "metadata": {},
     "output_type": "execute_result"
    }
   ],
   "source": [
    "\n",
    "\n",
    "#Berilgan 2 xonali sonni birlar xonasidagi/10 lar xonasidagi raqamni toping\n",
    "#Berilgan 2 xonali sonni raqamlari o'rnini almashtirishdan xosil bo'lgan sonni toping(12,21)\n",
    "#Berilgan butun son musbat toq son\n",
    "#Berilgan so'zni birinchi xarfini toping\n",
    "#Ikki so'zdan gap xosil qiling\n",
    "#Agar berilgan so'z unli xarflaridan tashkil topganligini tekshiring(a,e,i,u,o)\n",
    "#Berilgan so'zni katta/kichik/odatiy xolatlarga keltiring\n",
    "a='Data'\n",
    "('a' or 'e' or 'i' or 'u' or 'o') in a \n",
    "\n",
    "a=a.upper()\n",
    "a\n",
    "b=a[-1].lower()\n",
    "a,b\n",
    "c='hello'\n",
    "c=c.title()\n",
    "c\n",
    "\n",
    "\n",
    "\n",
    "\n",
    "\n",
    "\n",
    "\n",
    "\n",
    "\n",
    "\n"
   ]
  },
  {
   "cell_type": "code",
   "execution_count": 23,
   "metadata": {},
   "outputs": [
    {
     "name": "stdout",
     "output_type": "stream",
     "text": [
      "DATA\n"
     ]
    }
   ],
   "source": [
    "a='data'\n",
    "a=a.upper()\n",
    "print(a)"
   ]
  },
  {
   "cell_type": "code",
   "execution_count": 26,
   "metadata": {},
   "outputs": [
    {
     "name": "stdout",
     "output_type": "stream",
     "text": [
      "data\n"
     ]
    }
   ],
   "source": [
    "a=a.lower()\n",
    "print(a)"
   ]
  },
  {
   "cell_type": "code",
   "execution_count": 27,
   "metadata": {},
   "outputs": [
    {
     "data": {
      "text/plain": [
       "'Data'"
      ]
     },
     "execution_count": 27,
     "metadata": {},
     "output_type": "execute_result"
    }
   ],
   "source": [
    "a=a.title()\n",
    "a"
   ]
  },
  {
   "cell_type": "code",
   "execution_count": null,
   "metadata": {},
   "outputs": [],
   "source": [
    "#Berilgan 2 xonali sonni birlar xonasidagi/10 lar xonasidagi raqamni toping\n",
    "\n",
    "a=int(input('ikki xonali sonni kiriting:'))\n",
    "print('birlar xonasidagi raqam',a%10)"
   ]
  },
  {
   "cell_type": "code",
   "execution_count": 3,
   "metadata": {},
   "outputs": [
    {
     "name": "stdout",
     "output_type": "stream",
     "text": [
      "birlar xonasidagi raqam: 2\n",
      "onlar xonasidagi raqam: 1\n"
     ]
    }
   ],
   "source": [
    "#Berilgan 2 xonali sonni birlar xonasidagi/10 lar xonasidagi raqamni toping\n",
    "\n",
    "a=int(input('ikki xonali sonni kiriting:'))\n",
    "print('birlar xonasidagi raqam:',a%10)\n",
    "print('onlar xonasidagi raqam:',a//10)"
   ]
  },
  {
   "cell_type": "code",
   "execution_count": 5,
   "metadata": {},
   "outputs": [
    {
     "name": "stdout",
     "output_type": "stream",
     "text": [
      "birlar xonasidagi raqam: 2\n",
      "onlar xonasidagi raqam: 1\n",
      "sonni teskarisiga yozganimizdagi son: 21\n"
     ]
    }
   ],
   "source": [
    "#Berilgan 2 xonali sonni raqamlari o'rnini almashtirishdan xosil bo'lgan sonni toping(12,21)\n",
    "a=int(input('ikki xonali sonni kiriting:'))\n",
    "# 12=1*10+2    12->21\n",
    "\n",
    "print('birlar xonasidagi raqam:',a%10)\n",
    "print('onlar xonasidagi raqam:',a//10)\n",
    "\n",
    "print('sonni teskarisiga yozganimizdagi son:',10*(a%10)+a//10)\n",
    "\n"
   ]
  },
  {
   "cell_type": "code",
   "execution_count": 7,
   "metadata": {},
   "outputs": [
    {
     "data": {
      "text/plain": [
       "True"
      ]
     },
     "execution_count": 7,
     "metadata": {},
     "output_type": "execute_result"
    }
   ],
   "source": [
    "#Berilgan butun son musbat toq son\n",
    "#True/False\n",
    "b=int(input('sonni kiriting:'))\n",
    "# ==--- ikki amalni bir biriga tengligini\n",
    "#!=--- ikki amalni bir biriga tengligini\n",
    "b>0 and b%2!=0"
   ]
  },
  {
   "cell_type": "code",
   "execution_count": 12,
   "metadata": {},
   "outputs": [
    {
     "name": "stdout",
     "output_type": "stream",
     "text": [
      "berilgan sozni birinchi xarfi: p\n",
      "berilgan sozni oxirgi xarfi: n\n",
      "berilgan sozni oxirgi xarfi: n\n",
      "berilgan sozni oxirgi xarfi: o\n"
     ]
    }
   ],
   "source": [
    "#Berilgan so'zni birinchi xarfini toping\n",
    "s='python'\n",
    "print('berilgan sozni birinchi xarfi:',s[0])\n",
    "print('berilgan sozni oxirgi xarfi:',s[5])\n",
    "print('berilgan sozni oxirgi xarfi:',s[-1])\n",
    "print('berilgan sozni oxirgi xarfi:',s[-2])"
   ]
  },
  {
   "cell_type": "code",
   "execution_count": 17,
   "metadata": {},
   "outputs": [
    {
     "name": "stdout",
     "output_type": "stream",
     "text": [
      "python machine learning\n"
     ]
    }
   ],
   "source": [
    "#Ikki so'zdan gap xosil qiling\n",
    "s='python'\n",
    "d='machine learning'\n",
    "print(s+' '+ d)"
   ]
  },
  {
   "cell_type": "code",
   "execution_count": 20,
   "metadata": {},
   "outputs": [
    {
     "data": {
      "text/plain": [
       "True"
      ]
     },
     "execution_count": 20,
     "metadata": {},
     "output_type": "execute_result"
    }
   ],
   "source": [
    "#Agar berilgan so'z unli xarflaridan tashkil topganligini tekshiring(a,e,i,u,o)\n",
    "s='python'\n",
    "('a' and 'e' and 'i' and  'u' and 'o') in s   # sababi birinchi kelganini qabul qiladi shuning uchun bunda and ni ishlatamiz"
   ]
  },
  {
   "cell_type": "code",
   "execution_count": null,
   "metadata": {},
   "outputs": [],
   "source": []
  },
  {
   "cell_type": "code",
   "execution_count": null,
   "metadata": {},
   "outputs": [],
   "source": []
  },
  {
   "cell_type": "markdown",
   "metadata": {},
   "source": [
    "# Conditions"
   ]
  },
  {
   "cell_type": "code",
   "execution_count": 13,
   "metadata": {},
   "outputs": [],
   "source": [
    "#3 ball undan yuqori ball to'plaganlardan keyingi darslarga o'tishga ruxsat berilsin\n",
    "# <,>,<=,>=, ==,!=)\n",
    "a=int(input('Talaba balini kiriting:'))\n"
   ]
  },
  {
   "cell_type": "code",
   "execution_count": 43,
   "metadata": {},
   "outputs": [
    {
     "name": "stdout",
     "output_type": "stream",
     "text": [
      "Juda uzun\n"
     ]
    }
   ],
   "source": [
    "#Berilgan butun sonni toq yoki juft ekanligini aniqlang \n",
    "#Berilgan butun sonni musbat yoki manfiy ekanligini aniqlang\n",
    "#Berilgan butun sonni musbat juft/ manfiy toq ekanligini aniqlang\n",
    "#Agar berilgan so'z unli xarflaridan tashkil topganligini tekshiring(a,e,i,u,o) va shunday bo'lsa ekranga unli xarf mavjud aks xolda unli xarflar mavjud emas degan yozuvni ekranga chiqaring\n",
    "# Berilgan so'z 3 ta xarfgacha  iborat bo'lsa qisqa 10 ta xarfgacha bo'lsa uzun undan ko'p bolsa juda uzun aks xolda xatolik deb ekranga chiqarilsin\n",
    "a=str(input('Sozni kiriting'))\n",
    "if 1 <= len(a) <= 3:\n",
    "    print('Qisqa')\n",
    "elif 4 <= len(a) < 10:\n",
    "    print('Uzun')\n",
    "elif len(a) >= 10:\n",
    "    print('Juda uzun')\n",
    "else:\n",
    "    print('xatolik bor!')\n"
   ]
  },
  {
   "cell_type": "code",
   "execution_count": null,
   "metadata": {},
   "outputs": [
    {
     "name": "stdout",
     "output_type": "stream",
     "text": [
      "a soni toq son\n"
     ]
    }
   ],
   "source": [
    "#Berilgan butun sonni toq yoki juft ekanligini aniqlang\n",
    "a=int(input('Sonni kiriting'))\n",
    "if a%2==0 :\n",
    "    print('a soni juft son')\n",
    "else:\n",
    "    print('a soni toq son')\n"
   ]
  },
  {
   "cell_type": "code",
   "execution_count": 33,
   "metadata": {},
   "outputs": [
    {
     "name": "stdout",
     "output_type": "stream",
     "text": [
      "Manfiy\n"
     ]
    }
   ],
   "source": [
    "#Berilgan butun sonni musbat yoki manfiy ekanligini aniqlang\n",
    "a=int(input('Sonni kiriting'))\n",
    "if a>0:\n",
    "    print('Musbat')\n",
    "else:\n",
    "    print('Manfiy')"
   ]
  },
  {
   "cell_type": "code",
   "execution_count": 4,
   "metadata": {},
   "outputs": [
    {
     "name": "stdout",
     "output_type": "stream",
     "text": [
      "qayta topshirish\n"
     ]
    }
   ],
   "source": [
    "#Agar talaba bali 3,4,5 bolsa imtixondan otsin aks xolda qayta topshirsin\n",
    "x=2\n",
    "           \n",
    "if x==3 or x==4 or x==5:\n",
    "    print('otdi')\n",
    "else:\n",
    "    print('qayta topshirish')"
   ]
  },
  {
   "cell_type": "code",
   "execution_count": 7,
   "metadata": {},
   "outputs": [
    {
     "name": "stdout",
     "output_type": "stream",
     "text": [
      "nol\n"
     ]
    }
   ],
   "source": [
    "#Agar son musbat bolsa ekranga musbat , manfiy bolsa manfiy nolga teng bols nol deb ekranga chiqaring\n",
    "#Berilgan butun sonni musbat yoki manfiy ekanligini aniqlang\n",
    "a=int(input('Sonni kiriting'))\n",
    "if a>0:\n",
    "    print('Musbat')\n",
    "elif a<0:\n",
    "    print('Manfiy')\n",
    "else:\n",
    "    print('nol')\n"
   ]
  },
  {
   "cell_type": "code",
   "execution_count": null,
   "metadata": {},
   "outputs": [],
   "source": []
  },
  {
   "cell_type": "markdown",
   "metadata": {},
   "source": [
    "# Vazifa"
   ]
  },
  {
   "cell_type": "markdown",
   "metadata": {},
   "source": [
    "#Berilgan sonni musbat toq/ manfiy juft ekanligi aniqlang va uni Booleanda tekshiring\n",
    "#Berilgan ikki xonali sonni raqamlarini yig'indisini toping\n",
    "#Berilgan 3 xonali sonni raqamlar yig'indisini toping \n",
    "#Berilgan 3 xonali sonni teskari tartibda yozilganini toping(Masalan:123->321)\n",
    "#Berilgan sozdagi xarflar soni juft bolsa juft so'zli deb aks xolda toq so'zli deb umuman xarflardan iborat bolmasa xatolik bor deb ekranga chiqaring\n",
    "#Berilgan sonni 10 va 50 oraligida ekanligini tekshiring\n",
    "#Berilgan sonni 10 va 50 oraligida ekanligini tekshiring va agar shunda bolsa togri aks xolda xato deb ekranga chiqaring\n",
    "#Agar parol 8 tadan kam belgi/sonlardan iborat bolsa kuchsiz aks xolda kuchli parol deb ekranga chiqaring\n",
    "#Berilgan 3 ta sondan eng kattasini/kichigini/o'rtachasini aniqlaydigan kod yozing\n",
    "#Parol yarating va kod yozing agar kod to'gri bolsa xush kelibsiz aks xolda parol xato deb ekranga chiqaring\n",
    "#Darsdani misollarni takrorlash "
   ]
  },
  {
   "cell_type": "markdown",
   "metadata": {},
   "source": [
    "# Darsimizda ishlatilingan ba'zi ingliz tilidagi so'zlar\n"
   ]
  },
  {
   "cell_type": "code",
   "execution_count": null,
   "metadata": {},
   "outputs": [],
   "source": [
    "#And---va(ikkala amal xam bajarilganda)\n",
    "#Or---yoki(ikkala xolatdan biri bajarilganda)\n",
    "#True(rost, ya'ni amal to'g'ri)\n",
    "#False(yolg'on , ya'ni amal noto'g'ri)\n",
    "#If/else/elif(agar, xolatni malum bir shartga tekshirganimizda ishlatilinadi)\n",
    "\n"
   ]
  },
  {
   "cell_type": "markdown",
   "metadata": {},
   "source": []
  }
 ],
 "metadata": {
  "kernelspec": {
   "display_name": "Python 3",
   "language": "python",
   "name": "python3"
  },
  "language_info": {
   "codemirror_mode": {
    "name": "ipython",
    "version": 3
   },
   "file_extension": ".py",
   "mimetype": "text/x-python",
   "name": "python",
   "nbconvert_exporter": "python",
   "pygments_lexer": "ipython3",
   "version": "3.12.2"
  }
 },
 "nbformat": 4,
 "nbformat_minor": 2
}
