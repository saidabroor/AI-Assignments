{
 "cells": [
  {
   "cell_type": "code",
   "execution_count": 13,
   "metadata": {},
   "outputs": [
    {
     "name": "stdout",
     "output_type": "stream",
     "text": [
      "o\n",
      "k\n",
      "n\n",
      "o\n",
      "b\n",
      "y\n",
      "e\n"
     ]
    }
   ],
   "source": [
    "# 1. Berilgan so'zni for loop yordamida xar bir xarfini ekranga chiqaring\n",
    "\n",
    "b = ['ok','no','bye']\n",
    "for i in b:\n",
    "  for letter in i:\n",
    "    print(letter)"
   ]
  },
  {
   "cell_type": "code",
   "execution_count": 31,
   "metadata": {},
   "outputs": [
    {
     "name": "stdout",
     "output_type": "stream",
     "text": [
      "Yig'indi: 12, Ko'paytma: 48\n"
     ]
    }
   ],
   "source": [
    "# Berilgan sonlar oraligidan faqat juft sonlarni yigindisi va kopaytmasini toping(range step orqali va if orqali)\n",
    "y = 0\n",
    "k = 1\n",
    "for i in range(1,8):\n",
    "  if i % 2 == 0:\n",
    "    y += i\n",
    "    k *= i\n",
    "print(f\"Yig'indi: {y}, Ko'paytma: {k}\")"
   ]
  },
  {
   "cell_type": "code",
   "execution_count": 30,
   "metadata": {},
   "outputs": [
    {
     "name": "stdout",
     "output_type": "stream",
     "text": [
      "Juft sonlar: 4, Toq sonlar: 5\n"
     ]
    }
   ],
   "source": [
    "# Berilgan rangeda berilgan juft va toq sonlarni miqdorini aniqlang\n",
    "j = 0\n",
    "t = 0\n",
    "for i in range(1,10):\n",
    "  if i % 2 == 0:\n",
    "    j += 1\n",
    "  else:\n",
    "    t += 1\n",
    "print(f\"Juft sonlar: {j}, Toq sonlar: {t}\")"
   ]
  },
  {
   "cell_type": "code",
   "execution_count": null,
   "metadata": {},
   "outputs": [
    {
     "name": "stdout",
     "output_type": "stream",
     "text": [
      "4 Berilgan rangedagi 3 ga va 5 ga karrali sonlar miqdori 4 ta.\n"
     ]
    }
   ],
   "source": [
    "# Berilgan rangeda 3 ga va 5 ga karrali sonlar miqdorini aniqlang\n",
    "\n",
    "s = 0\n",
    "for i in range(1,61):\n",
    "  if i % 3 == 0 and i % 5 == 0:\n",
    "    s += 1\n",
    "print(f\"Berilgan rangedagi 3 ga va 5 ga karrali sonlar miqdori {s} ta.\")\n",
    "\n"
   ]
  },
  {
   "cell_type": "code",
   "execution_count": null,
   "metadata": {},
   "outputs": [],
   "source": []
  }
 ],
 "metadata": {
  "kernelspec": {
   "display_name": "Python 3",
   "language": "python",
   "name": "python3"
  },
  "language_info": {
   "codemirror_mode": {
    "name": "ipython",
    "version": 3
   },
   "file_extension": ".py",
   "mimetype": "text/x-python",
   "name": "python",
   "nbconvert_exporter": "python",
   "pygments_lexer": "ipython3",
   "version": "3.13.2"
  }
 },
 "nbformat": 4,
 "nbformat_minor": 2
}
