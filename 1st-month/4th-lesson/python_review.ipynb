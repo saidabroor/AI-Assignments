{
 "cells": [
  {
   "cell_type": "markdown",
   "metadata": {},
   "source": [
    "# Pyhton review using for loop"
   ]
  },
  {
   "cell_type": "markdown",
   "metadata": {},
   "source": [
    "1. Iterating and Printing"
   ]
  },
  {
   "cell_type": "code",
   "execution_count": 1,
   "metadata": {},
   "outputs": [
    {
     "name": "stdout",
     "output_type": "stream",
     "text": [
      "20\n",
      "50\n",
      "6\n",
      "34\n",
      "16\n"
     ]
    }
   ],
   "source": [
    "# Question: Given the list numbers = [10, 25, 3, 17, 8], write a loop to print each number in the list multiplied by 2.\n",
    "a = [10, 25, 3, 17, 8]\n",
    "for i in a:\n",
    "  i *= 2\n",
    "  print(i)\n",
    "\n"
   ]
  },
  {
   "cell_type": "code",
   "execution_count": 2,
   "metadata": {},
   "outputs": [
    {
     "name": "stdout",
     "output_type": "stream",
     "text": [
      "apple:5\n",
      "banana:6\n",
      "cherry:6\n"
     ]
    }
   ],
   "source": [
    "# Question: Given the list words = [\"apple\", \"banana\", \"cherry\"], write a loop to print each word along with its length (e.g., \"apple: 5\").\n",
    "b = [\"apple\", \"banana\", \"cherry\"]\n",
    "for i in b:\n",
    "  print(f\"{i}:{len(i)}\")"
   ]
  },
  {
   "cell_type": "markdown",
   "metadata": {},
   "source": [
    "2. Range and Calculations"
   ]
  },
  {
   "cell_type": "code",
   "execution_count": 17,
   "metadata": {},
   "outputs": [
    {
     "name": "stdout",
     "output_type": "stream",
     "text": [
      "100\n"
     ]
    }
   ],
   "source": [
    "# Question: Write a loop that calculates the sum of all odd numbers between 1 and 20 (inclusive).\n",
    "b = 0\n",
    "for i in range(1,21,2):\n",
    "  b += i\n",
    "print(b)"
   ]
  },
  {
   "cell_type": "code",
   "execution_count": 15,
   "metadata": {},
   "outputs": [
    {
     "name": "stdout",
     "output_type": "stream",
     "text": [
      "1\n",
      "4\n",
      "9\n",
      "16\n",
      "25\n",
      "36\n",
      "49\n"
     ]
    }
   ],
   "source": [
    "# Question: Write a loop that prints the squares of numbers from 1 to 7 (e.g., 1, 4, 9, 16...).\n",
    "for i in range(1,8):\n",
    "  c = i ** 2\n",
    "  print(c)"
   ]
  },
  {
   "cell_type": "code",
   "execution_count": null,
   "metadata": {},
   "outputs": [
    {
     "name": "stdout",
     "output_type": "stream",
     "text": [
      "40320\n"
     ]
    }
   ],
   "source": [
    "# Question: Write code that calculates the product (factorial) of all numbers from 1 to 8.\n",
    "d = 1\n",
    "for i in range(1,9):\n",
    "  d = d * i\n",
    "print(d)\n"
   ]
  },
  {
   "cell_type": "markdown",
   "metadata": {},
   "source": [
    "3. Lists and Conditional Logic"
   ]
  },
  {
   "cell_type": "code",
   "execution_count": 50,
   "metadata": {},
   "outputs": [
    {
     "name": "stdout",
     "output_type": "stream",
     "text": [
      "[12, 20, 15]\n"
     ]
    }
   ],
   "source": [
    "# Question: Given the list values = [12, 5, 20, 8, 3, 15], create a new list containing only the values greater than 10.\n",
    "n=[]\n",
    "for i in [12, 5, 20, 8, 3, 15]:\n",
    "  if i > 10:\n",
    "    n.append(i)\n",
    "print(n)"
   ]
  },
  {
   "cell_type": "code",
   "execution_count": 51,
   "metadata": {},
   "outputs": [
    {
     "name": "stdout",
     "output_type": "stream",
     "text": [
      "Charlie\n"
     ]
    }
   ],
   "source": [
    "# Question: Given the list names = [\"Alice\", \"Bob\", \"Charlie\", \"David\", \"Eve\"], print only the names that start with the letter \"C\".\n",
    "for i in [\"Alice\", \"Bob\", \"Charlie\", \"David\", \"Eve\"]:\n",
    "  if i[0] == \"C\":\n",
    "    print(i)"
   ]
  },
  {
   "cell_type": "code",
   "execution_count": 55,
   "metadata": {},
   "outputs": [
    {
     "name": "stdout",
     "output_type": "stream",
     "text": [
      "3\n"
     ]
    }
   ],
   "source": [
    "# Question: Given a list of integers, write code that counts how many of those integers are even.\n",
    "count = 0\n",
    "for i in [12, 5, 20, 8, 3, 15]:\n",
    "  if i % 2 == 0:\n",
    "    count += 1\n",
    "print(count)"
   ]
  },
  {
   "cell_type": "code",
   "execution_count": null,
   "metadata": {},
   "outputs": [],
   "source": []
  }
 ],
 "metadata": {
  "kernelspec": {
   "display_name": "Python 3",
   "language": "python",
   "name": "python3"
  },
  "language_info": {
   "codemirror_mode": {
    "name": "ipython",
    "version": 3
   },
   "file_extension": ".py",
   "mimetype": "text/x-python",
   "name": "python",
   "nbconvert_exporter": "python",
   "pygments_lexer": "ipython3",
   "version": "3.13.2"
  }
 },
 "nbformat": 4,
 "nbformat_minor": 2
}
