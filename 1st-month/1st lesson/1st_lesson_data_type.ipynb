{
 "cells": [
  {
   "attachments": {},
   "cell_type": "markdown",
   "metadata": {},
   "source": [
    "# Data Types"
   ]
  },
  {
   "cell_type": "code",
   "execution_count": null,
   "metadata": {},
   "outputs": [],
   "source": [
    "# int - butun son\n",
    "# float - o'nli kasr ko'rinishidagi son\n",
    "# str - matn"
   ]
  },
  {
   "cell_type": "code",
   "execution_count": 4,
   "metadata": {},
   "outputs": [],
   "source": [
    "x = 3"
   ]
  },
  {
   "cell_type": "code",
   "execution_count": 5,
   "metadata": {},
   "outputs": [
    {
     "name": "stdout",
     "output_type": "stream",
     "text": [
      "3\n"
     ]
    }
   ],
   "source": [
    "print(x)"
   ]
  },
  {
   "cell_type": "code",
   "execution_count": 9,
   "metadata": {},
   "outputs": [
    {
     "name": "stdout",
     "output_type": "stream",
     "text": [
      "yigíndisi 19\n",
      "ayrimasi 5\n",
      "ko\"paytmasi 84\n",
      "bo'linmasi 1.7142857142857142\n"
     ]
    }
   ],
   "source": [
    "x = 12\n",
    "y = 7\n",
    "print(\"yigíndisi\",x+y)\n",
    "print('ayrimasi',x-y)\n",
    "print('ko\"paytmasi',x*y)\n",
    "print(\"bo'linmasi\",x/y)"
   ]
  },
  {
   "cell_type": "code",
   "execution_count": 10,
   "metadata": {},
   "outputs": [],
   "source": [
    "s = 'hello'"
   ]
  },
  {
   "cell_type": "code",
   "execution_count": 11,
   "metadata": {},
   "outputs": [
    {
     "data": {
      "text/plain": [
       "'h'"
      ]
     },
     "execution_count": 11,
     "metadata": {},
     "output_type": "execute_result"
    }
   ],
   "source": [
    "s[0]"
   ]
  },
  {
   "cell_type": "code",
   "execution_count": 12,
   "metadata": {},
   "outputs": [
    {
     "data": {
      "text/plain": [
       "'o'"
      ]
     },
     "execution_count": 12,
     "metadata": {},
     "output_type": "execute_result"
    }
   ],
   "source": [
    "s[-1]"
   ]
  },
  {
   "cell_type": "code",
   "execution_count": 14,
   "metadata": {},
   "outputs": [
    {
     "data": {
      "text/plain": [
       "'o'"
      ]
     },
     "execution_count": 14,
     "metadata": {},
     "output_type": "execute_result"
    }
   ],
   "source": [
    "s[-1]"
   ]
  },
  {
   "cell_type": "code",
   "execution_count": 15,
   "metadata": {},
   "outputs": [
    {
     "data": {
      "text/plain": [
       "'he'"
      ]
     },
     "execution_count": 15,
     "metadata": {},
     "output_type": "execute_result"
    }
   ],
   "source": [
    "s[:2]"
   ]
  },
  {
   "cell_type": "code",
   "execution_count": 16,
   "metadata": {},
   "outputs": [
    {
     "data": {
      "text/plain": [
       "'lo'"
      ]
     },
     "execution_count": 16,
     "metadata": {},
     "output_type": "execute_result"
    }
   ],
   "source": [
    "s[3:]"
   ]
  },
  {
   "cell_type": "code",
   "execution_count": 17,
   "metadata": {},
   "outputs": [],
   "source": [
    "s = \"saidabror\""
   ]
  },
  {
   "cell_type": "code",
   "execution_count": 18,
   "metadata": {},
   "outputs": [
    {
     "data": {
      "text/plain": [
       "'d'"
      ]
     },
     "execution_count": 18,
     "metadata": {},
     "output_type": "execute_result"
    }
   ],
   "source": [
    "s[3]"
   ]
  },
  {
   "cell_type": "code",
   "execution_count": 20,
   "metadata": {},
   "outputs": [
    {
     "data": {
      "text/plain": [
       "'dab'"
      ]
     },
     "execution_count": 20,
     "metadata": {},
     "output_type": "execute_result"
    }
   ],
   "source": [
    "s[3:6]"
   ]
  },
  {
   "cell_type": "code",
   "execution_count": 25,
   "metadata": {},
   "outputs": [],
   "source": [
    "length = len(s) - 1"
   ]
  },
  {
   "cell_type": "code",
   "execution_count": 26,
   "metadata": {},
   "outputs": [
    {
     "name": "stdout",
     "output_type": "stream",
     "text": [
      "8\n"
     ]
    }
   ],
   "source": [
    "print(length)"
   ]
  },
  {
   "cell_type": "code",
   "execution_count": 5,
   "metadata": {},
   "outputs": [],
   "source": [
    "import pandas as pd"
   ]
  },
  {
   "cell_type": "markdown",
   "metadata": {},
   "source": [
    "# SL - Consulting firma narxlarini predict qilish"
   ]
  },
  {
   "cell_type": "code",
   "execution_count": 29,
   "metadata": {},
   "outputs": [],
   "source": [
    "data = {'Consulting services':['Application and visa', 'Application only', 'Visa only', 'Application, visa and guarantee'],\n",
    "        'Consulting experience': ['10 years', '2 years', '5 years', '7 years'],\n",
    "        'Success rate': ['98%', '90%', '80%+', 'Not mentioned'],\n",
    "        'Location': ['Andijan', 'Tashkent', 'Bukhara', 'Samarkand'],\n",
    "        'Fee':['$1000', '$800', '$1500', '$900']}"
   ]
  },
  {
   "cell_type": "code",
   "execution_count": 30,
   "metadata": {},
   "outputs": [],
   "source": [
    "df = pd.DataFrame(data)"
   ]
  },
  {
   "cell_type": "code",
   "execution_count": 8,
   "metadata": {},
   "outputs": [],
   "source": [
    "df = pd.read_csv(r\"C:\\Users\\Saidabrorkhon\\ML_Lectures\\telefon turini aniqlash2.csv\")"
   ]
  },
  {
   "cell_type": "code",
   "execution_count": 9,
   "metadata": {},
   "outputs": [
    {
     "data": {
      "text/html": [
       "<div>\n",
       "<style scoped>\n",
       "    .dataframe tbody tr th:only-of-type {\n",
       "        vertical-align: middle;\n",
       "    }\n",
       "\n",
       "    .dataframe tbody tr th {\n",
       "        vertical-align: top;\n",
       "    }\n",
       "\n",
       "    .dataframe thead th {\n",
       "        text-align: right;\n",
       "    }\n",
       "</style>\n",
       "<table border=\"1\" class=\"dataframe\">\n",
       "  <thead>\n",
       "    <tr style=\"text-align: right;\">\n",
       "      <th></th>\n",
       "      <th>battereya_hajmi</th>\n",
       "      <th>blutus</th>\n",
       "      <th>protsessor_tezligi</th>\n",
       "      <th>ikkita simkartalik</th>\n",
       "      <th>Oldi_kamera</th>\n",
       "      <th>4G</th>\n",
       "      <th>Ichki_xotira</th>\n",
       "      <th>tel_ingichgaligi</th>\n",
       "      <th>Rangi</th>\n",
       "      <th>Vazni</th>\n",
       "      <th>...</th>\n",
       "      <th>Qurilma ekran kengligi(pix)</th>\n",
       "      <th>ram</th>\n",
       "      <th>Qurilma xajmi(cm)</th>\n",
       "      <th>Qurilma ekran kengligi(cm)</th>\n",
       "      <th>Bir_quvvatlashdagi gaplashish</th>\n",
       "      <th>3g</th>\n",
       "      <th>Qurilma xajmi(pix).1</th>\n",
       "      <th>sensorli</th>\n",
       "      <th>wifi</th>\n",
       "      <th>telefon_turi</th>\n",
       "    </tr>\n",
       "  </thead>\n",
       "  <tbody>\n",
       "    <tr>\n",
       "      <th>0</th>\n",
       "      <td>842</td>\n",
       "      <td>0</td>\n",
       "      <td>2.2</td>\n",
       "      <td>0</td>\n",
       "      <td>1</td>\n",
       "      <td>0</td>\n",
       "      <td>7</td>\n",
       "      <td>0.6</td>\n",
       "      <td>Qizil</td>\n",
       "      <td>188</td>\n",
       "      <td>...</td>\n",
       "      <td>756.0</td>\n",
       "      <td>2549</td>\n",
       "      <td>9.0</td>\n",
       "      <td>7.0</td>\n",
       "      <td>19</td>\n",
       "      <td>0</td>\n",
       "      <td>20.0</td>\n",
       "      <td>0</td>\n",
       "      <td>1</td>\n",
       "      <td>1</td>\n",
       "    </tr>\n",
       "  </tbody>\n",
       "</table>\n",
       "<p>1 rows × 23 columns</p>\n",
       "</div>"
      ],
      "text/plain": [
       "   battereya_hajmi  blutus  protsessor_tezligi  ikkita simkartalik  \\\n",
       "0              842       0                 2.2                   0   \n",
       "\n",
       "   Oldi_kamera  4G  Ichki_xotira  tel_ingichgaligi  Rangi  Vazni  ...  \\\n",
       "0            1   0             7               0.6  Qizil    188  ...   \n",
       "\n",
       "   Qurilma ekran kengligi(pix)   ram  Qurilma xajmi(cm)  \\\n",
       "0                        756.0  2549                9.0   \n",
       "\n",
       "   Qurilma ekran kengligi(cm)  Bir_quvvatlashdagi gaplashish  3g  \\\n",
       "0                         7.0                             19   0   \n",
       "\n",
       "   Qurilma xajmi(pix).1  sensorli  wifi  telefon_turi  \n",
       "0                  20.0         0     1             1  \n",
       "\n",
       "[1 rows x 23 columns]"
      ]
     },
     "execution_count": 9,
     "metadata": {},
     "output_type": "execute_result"
    }
   ],
   "source": [
    "df.head(1)"
   ]
  },
  {
   "cell_type": "markdown",
   "metadata": {},
   "source": [
    "# SL - Ingliz tili kurslarining narxlarini predict qilish"
   ]
  },
  {
   "cell_type": "code",
   "execution_count": 35,
   "metadata": {},
   "outputs": [],
   "source": [
    "dataEnglish = {'Location':['Yangi Bozor', 'Eski shahar', 'Asaka shahri', 'Marhamat tumani'],\n",
    "               'Instructor experience':['2 years', '5 years', '10 years', '4 years'],\n",
    "               'Course duration': ['2 months', '3 months', '2 months', '5 months'],\n",
    "               'class size': ['10 students', '8 students', '5 students', 'individual'],\n",
    "               'Course monthly fee': ['$50', '$60', '$30', '$25']}"
   ]
  },
  {
   "cell_type": "code",
   "execution_count": 36,
   "metadata": {},
   "outputs": [],
   "source": [
    "dfEnglish = pd.DataFrame(dataEnglish)"
   ]
  },
  {
   "cell_type": "code",
   "execution_count": 37,
   "metadata": {},
   "outputs": [
    {
     "data": {
      "text/html": [
       "<div>\n",
       "<style scoped>\n",
       "    .dataframe tbody tr th:only-of-type {\n",
       "        vertical-align: middle;\n",
       "    }\n",
       "\n",
       "    .dataframe tbody tr th {\n",
       "        vertical-align: top;\n",
       "    }\n",
       "\n",
       "    .dataframe thead th {\n",
       "        text-align: right;\n",
       "    }\n",
       "</style>\n",
       "<table border=\"1\" class=\"dataframe\">\n",
       "  <thead>\n",
       "    <tr style=\"text-align: right;\">\n",
       "      <th></th>\n",
       "      <th>Location</th>\n",
       "      <th>Instructor experience</th>\n",
       "      <th>Course duration</th>\n",
       "      <th>class size</th>\n",
       "      <th>Course monthly fee</th>\n",
       "    </tr>\n",
       "  </thead>\n",
       "  <tbody>\n",
       "    <tr>\n",
       "      <th>0</th>\n",
       "      <td>Yangi Bozor</td>\n",
       "      <td>2 years</td>\n",
       "      <td>2 months</td>\n",
       "      <td>10 students</td>\n",
       "      <td>$50</td>\n",
       "    </tr>\n",
       "    <tr>\n",
       "      <th>1</th>\n",
       "      <td>Eski shahar</td>\n",
       "      <td>5 years</td>\n",
       "      <td>3 months</td>\n",
       "      <td>8 students</td>\n",
       "      <td>$60</td>\n",
       "    </tr>\n",
       "    <tr>\n",
       "      <th>2</th>\n",
       "      <td>Asaka shahri</td>\n",
       "      <td>10 years</td>\n",
       "      <td>2 months</td>\n",
       "      <td>5 students</td>\n",
       "      <td>$30</td>\n",
       "    </tr>\n",
       "    <tr>\n",
       "      <th>3</th>\n",
       "      <td>Marhamat tumani</td>\n",
       "      <td>4 years</td>\n",
       "      <td>5 months</td>\n",
       "      <td>individual</td>\n",
       "      <td>$25</td>\n",
       "    </tr>\n",
       "  </tbody>\n",
       "</table>\n",
       "</div>"
      ],
      "text/plain": [
       "          Location Instructor experience Course duration   class size  \\\n",
       "0      Yangi Bozor               2 years        2 months  10 students   \n",
       "1      Eski shahar               5 years        3 months   8 students   \n",
       "2     Asaka shahri              10 years        2 months   5 students   \n",
       "3  Marhamat tumani               4 years        5 months   individual   \n",
       "\n",
       "  Course monthly fee  \n",
       "0                $50  \n",
       "1                $60  \n",
       "2                $30  \n",
       "3                $25  "
      ]
     },
     "execution_count": 37,
     "metadata": {},
     "output_type": "execute_result"
    }
   ],
   "source": [
    "dfEnglish"
   ]
  },
  {
   "cell_type": "markdown",
   "metadata": {},
   "source": [
    "# UL - Movie or TV Show Audience Segmentation\n"
   ]
  },
  {
   "cell_type": "code",
   "execution_count": 38,
   "metadata": {},
   "outputs": [],
   "source": [
    "dataMovie = {'Age':[25, 34, 31, 40, 30],\n",
    "             'Gender':['Male', 'Female', 'Female', 'Male', 'Male'],\n",
    "             'Genre preferences': ['Action', 'Adventure','Comedy', 'Drama', 'Sci-Fi'],\n",
    "             'Movies per week':[2, 4, 5, 2, 1],\n",
    "             'Streaming platform': ['Netflix', 'Coupang Play', 'Amazaon Prime', 'Disney Movies', 'Hulu'],\n",
    "             }"
   ]
  },
  {
   "cell_type": "code",
   "execution_count": null,
   "metadata": {},
   "outputs": [],
   "source": [
    "dfMovie = pd.DataFrame(dataMovie)"
   ]
  },
  {
   "cell_type": "code",
   "execution_count": 42,
   "metadata": {},
   "outputs": [
    {
     "data": {
      "text/html": [
       "<div>\n",
       "<style scoped>\n",
       "    .dataframe tbody tr th:only-of-type {\n",
       "        vertical-align: middle;\n",
       "    }\n",
       "\n",
       "    .dataframe tbody tr th {\n",
       "        vertical-align: top;\n",
       "    }\n",
       "\n",
       "    .dataframe thead th {\n",
       "        text-align: right;\n",
       "    }\n",
       "</style>\n",
       "<table border=\"1\" class=\"dataframe\">\n",
       "  <thead>\n",
       "    <tr style=\"text-align: right;\">\n",
       "      <th></th>\n",
       "      <th>Age</th>\n",
       "      <th>Gender</th>\n",
       "      <th>Genre preferences</th>\n",
       "      <th>Movies per week</th>\n",
       "      <th>Streaming platform</th>\n",
       "    </tr>\n",
       "  </thead>\n",
       "  <tbody>\n",
       "    <tr>\n",
       "      <th>0</th>\n",
       "      <td>25</td>\n",
       "      <td>Male</td>\n",
       "      <td>Action</td>\n",
       "      <td>2</td>\n",
       "      <td>Netflix</td>\n",
       "    </tr>\n",
       "    <tr>\n",
       "      <th>1</th>\n",
       "      <td>34</td>\n",
       "      <td>Female</td>\n",
       "      <td>Adventure</td>\n",
       "      <td>4</td>\n",
       "      <td>Coupang Play</td>\n",
       "    </tr>\n",
       "    <tr>\n",
       "      <th>2</th>\n",
       "      <td>31</td>\n",
       "      <td>Female</td>\n",
       "      <td>Comedy</td>\n",
       "      <td>5</td>\n",
       "      <td>Amazaon Prime</td>\n",
       "    </tr>\n",
       "    <tr>\n",
       "      <th>3</th>\n",
       "      <td>40</td>\n",
       "      <td>Male</td>\n",
       "      <td>Drama</td>\n",
       "      <td>2</td>\n",
       "      <td>Disney Movies</td>\n",
       "    </tr>\n",
       "    <tr>\n",
       "      <th>4</th>\n",
       "      <td>30</td>\n",
       "      <td>Male</td>\n",
       "      <td>Sci-Fi</td>\n",
       "      <td>1</td>\n",
       "      <td>Hulu</td>\n",
       "    </tr>\n",
       "  </tbody>\n",
       "</table>\n",
       "</div>"
      ],
      "text/plain": [
       "   Age  Gender Genre preferences  Movies per week Streaming platform\n",
       "0   25    Male            Action                2            Netflix\n",
       "1   34  Female         Adventure                4       Coupang Play\n",
       "2   31  Female            Comedy                5      Amazaon Prime\n",
       "3   40    Male             Drama                2      Disney Movies\n",
       "4   30    Male            Sci-Fi                1               Hulu"
      ]
     },
     "execution_count": 42,
     "metadata": {},
     "output_type": "execute_result"
    }
   ],
   "source": [
    "dfMovie"
   ]
  },
  {
   "cell_type": "markdown",
   "metadata": {},
   "source": [
    "# UL - Market segmentation for fitness products\n"
   ]
  },
  {
   "cell_type": "code",
   "execution_count": 44,
   "metadata": {},
   "outputs": [],
   "source": [
    "dataFitness = {'Age':[19, 28, 25 , 30, 35],\n",
    "               'Income Level ($)': [30000, 50000, 70000, 45000, 35000],\n",
    "               'Fitness Goal': ['Weight Loss', 'Muscle Gain', 'Endurance', 'Muscle Gain', 'Weight Loss'],\n",
    "               'Workouts per Week': [4, 6, 3, 5, 2],\n",
    "               'Product Purchased': ['Supplements', 'Gear', 'Supplements', 'Membership', 'Gear']\n",
    "}"
   ]
  },
  {
   "cell_type": "code",
   "execution_count": 45,
   "metadata": {},
   "outputs": [],
   "source": [
    "dfFitness = pd.DataFrame(dataFitness)"
   ]
  },
  {
   "cell_type": "code",
   "execution_count": 46,
   "metadata": {},
   "outputs": [
    {
     "data": {
      "text/html": [
       "<div>\n",
       "<style scoped>\n",
       "    .dataframe tbody tr th:only-of-type {\n",
       "        vertical-align: middle;\n",
       "    }\n",
       "\n",
       "    .dataframe tbody tr th {\n",
       "        vertical-align: top;\n",
       "    }\n",
       "\n",
       "    .dataframe thead th {\n",
       "        text-align: right;\n",
       "    }\n",
       "</style>\n",
       "<table border=\"1\" class=\"dataframe\">\n",
       "  <thead>\n",
       "    <tr style=\"text-align: right;\">\n",
       "      <th></th>\n",
       "      <th>Age</th>\n",
       "      <th>Income Level ($)</th>\n",
       "      <th>Fitness Goal</th>\n",
       "      <th>Workouts per Week</th>\n",
       "      <th>Product Purchased</th>\n",
       "    </tr>\n",
       "  </thead>\n",
       "  <tbody>\n",
       "    <tr>\n",
       "      <th>0</th>\n",
       "      <td>19</td>\n",
       "      <td>30000</td>\n",
       "      <td>Weight Loss</td>\n",
       "      <td>4</td>\n",
       "      <td>Supplements</td>\n",
       "    </tr>\n",
       "    <tr>\n",
       "      <th>1</th>\n",
       "      <td>28</td>\n",
       "      <td>50000</td>\n",
       "      <td>Muscle Gain</td>\n",
       "      <td>6</td>\n",
       "      <td>Gear</td>\n",
       "    </tr>\n",
       "    <tr>\n",
       "      <th>2</th>\n",
       "      <td>25</td>\n",
       "      <td>70000</td>\n",
       "      <td>Endurance</td>\n",
       "      <td>3</td>\n",
       "      <td>Supplements</td>\n",
       "    </tr>\n",
       "    <tr>\n",
       "      <th>3</th>\n",
       "      <td>30</td>\n",
       "      <td>45000</td>\n",
       "      <td>Muscle Gain</td>\n",
       "      <td>5</td>\n",
       "      <td>Membership</td>\n",
       "    </tr>\n",
       "    <tr>\n",
       "      <th>4</th>\n",
       "      <td>35</td>\n",
       "      <td>35000</td>\n",
       "      <td>Weight Loss</td>\n",
       "      <td>2</td>\n",
       "      <td>Gear</td>\n",
       "    </tr>\n",
       "  </tbody>\n",
       "</table>\n",
       "</div>"
      ],
      "text/plain": [
       "   Age  Income Level ($) Fitness Goal  Workouts per Week Product Purchased\n",
       "0   19             30000  Weight Loss                  4       Supplements\n",
       "1   28             50000  Muscle Gain                  6              Gear\n",
       "2   25             70000    Endurance                  3       Supplements\n",
       "3   30             45000  Muscle Gain                  5        Membership\n",
       "4   35             35000  Weight Loss                  2              Gear"
      ]
     },
     "execution_count": 46,
     "metadata": {},
     "output_type": "execute_result"
    }
   ],
   "source": [
    "dfFitness"
   ]
  },
  {
   "cell_type": "markdown",
   "metadata": {},
   "source": [
    "# RL - A Self-driving Car"
   ]
  },
  {
   "cell_type": "code",
   "execution_count": null,
   "metadata": {},
   "outputs": [],
   "source": [
    "dataSelfDrCar = {'Action':['Staying on lane', 'Runs a red light', 'avoiding a pedestrian', 'Collision with another car'],\n",
    "                 'Rewards/Punishments':['+10 rewards ✅', '-20 punishment ❌', '+50 rewards ✅✅', '-100 punishment ❌❌ ']}"
   ]
  },
  {
   "cell_type": "code",
   "execution_count": 48,
   "metadata": {},
   "outputs": [],
   "source": [
    "dfSelfDrCar = pd.DataFrame(dataSelfDrCar)"
   ]
  },
  {
   "cell_type": "code",
   "execution_count": 49,
   "metadata": {},
   "outputs": [
    {
     "data": {
      "text/html": [
       "<div>\n",
       "<style scoped>\n",
       "    .dataframe tbody tr th:only-of-type {\n",
       "        vertical-align: middle;\n",
       "    }\n",
       "\n",
       "    .dataframe tbody tr th {\n",
       "        vertical-align: top;\n",
       "    }\n",
       "\n",
       "    .dataframe thead th {\n",
       "        text-align: right;\n",
       "    }\n",
       "</style>\n",
       "<table border=\"1\" class=\"dataframe\">\n",
       "  <thead>\n",
       "    <tr style=\"text-align: right;\">\n",
       "      <th></th>\n",
       "      <th>Action</th>\n",
       "      <th>Rewards/Punishments</th>\n",
       "    </tr>\n",
       "  </thead>\n",
       "  <tbody>\n",
       "    <tr>\n",
       "      <th>0</th>\n",
       "      <td>Staying on lane</td>\n",
       "      <td>+10 rewards ✅</td>\n",
       "    </tr>\n",
       "    <tr>\n",
       "      <th>1</th>\n",
       "      <td>Runs a red light</td>\n",
       "      <td>-20 punishment ❌</td>\n",
       "    </tr>\n",
       "    <tr>\n",
       "      <th>2</th>\n",
       "      <td>avoiding a pedestrian</td>\n",
       "      <td>+50 rewards ✅✅</td>\n",
       "    </tr>\n",
       "    <tr>\n",
       "      <th>3</th>\n",
       "      <td>Collision with another car</td>\n",
       "      <td>-100 punishment ❌❌</td>\n",
       "    </tr>\n",
       "  </tbody>\n",
       "</table>\n",
       "</div>"
      ],
      "text/plain": [
       "                       Action Rewards/Punishments\n",
       "0             Staying on lane       +10 rewards ✅\n",
       "1            Runs a red light    -20 punishment ❌\n",
       "2       avoiding a pedestrian      +50 rewards ✅✅\n",
       "3  Collision with another car  -100 punishment ❌❌"
      ]
     },
     "execution_count": 49,
     "metadata": {},
     "output_type": "execute_result"
    }
   ],
   "source": [
    "dfSelfDrCar"
   ]
  },
  {
   "cell_type": "markdown",
   "metadata": {},
   "source": [
    "# RL - A Robot Learning to Walk"
   ]
  },
  {
   "cell_type": "code",
   "execution_count": 7,
   "metadata": {},
   "outputs": [],
   "source": [
    "dataWalkRobot = {'Action': ['Moves forward', 'Stumbles', 'Falls down', 'Walks straight'],\n",
    "                 'Rewards/Punishments':['+10 (reward) ✅','-5 (small penalty) ❌', '-50 (big punishment) ❌❌', '+ 50 (reward) ✅✅']}"
   ]
  },
  {
   "cell_type": "code",
   "execution_count": 8,
   "metadata": {},
   "outputs": [],
   "source": [
    "dfWalkRobot = pd.DataFrame(dataWalkRobot)"
   ]
  },
  {
   "cell_type": "code",
   "execution_count": 9,
   "metadata": {},
   "outputs": [
    {
     "data": {
      "text/html": [
       "<div>\n",
       "<style scoped>\n",
       "    .dataframe tbody tr th:only-of-type {\n",
       "        vertical-align: middle;\n",
       "    }\n",
       "\n",
       "    .dataframe tbody tr th {\n",
       "        vertical-align: top;\n",
       "    }\n",
       "\n",
       "    .dataframe thead th {\n",
       "        text-align: right;\n",
       "    }\n",
       "</style>\n",
       "<table border=\"1\" class=\"dataframe\">\n",
       "  <thead>\n",
       "    <tr style=\"text-align: right;\">\n",
       "      <th></th>\n",
       "      <th>Action</th>\n",
       "      <th>Rewards/Punishments</th>\n",
       "    </tr>\n",
       "  </thead>\n",
       "  <tbody>\n",
       "    <tr>\n",
       "      <th>0</th>\n",
       "      <td>Moves forward</td>\n",
       "      <td>+10 (reward) ✅</td>\n",
       "    </tr>\n",
       "    <tr>\n",
       "      <th>1</th>\n",
       "      <td>Stumbles</td>\n",
       "      <td>-5 (small penalty) ❌</td>\n",
       "    </tr>\n",
       "    <tr>\n",
       "      <th>2</th>\n",
       "      <td>Falls down</td>\n",
       "      <td>-50 (big punishment) ❌❌</td>\n",
       "    </tr>\n",
       "    <tr>\n",
       "      <th>3</th>\n",
       "      <td>Walks straight</td>\n",
       "      <td>+ 50 (reward) ✅✅</td>\n",
       "    </tr>\n",
       "  </tbody>\n",
       "</table>\n",
       "</div>"
      ],
      "text/plain": [
       "           Action      Rewards/Punishments\n",
       "0   Moves forward           +10 (reward) ✅\n",
       "1        Stumbles     -5 (small penalty) ❌\n",
       "2      Falls down  -50 (big punishment) ❌❌\n",
       "3  Walks straight         + 50 (reward) ✅✅"
      ]
     },
     "metadata": {},
     "output_type": "display_data"
    }
   ],
   "source": [
    "display(dfWalkRobot)"
   ]
  },
  {
   "cell_type": "code",
   "execution_count": 1,
   "metadata": {},
   "outputs": [],
   "source": [
    "#sample code to check github change"
   ]
  },
  {
   "cell_type": "code",
   "execution_count": 1,
   "metadata": {},
   "outputs": [
    {
     "data": {
      "text/plain": [
       "-4"
      ]
     },
     "execution_count": 1,
     "metadata": {},
     "output_type": "execute_result"
    }
   ],
   "source": [
    "-2-2"
   ]
  },
  {
   "cell_type": "code",
   "execution_count": null,
   "metadata": {},
   "outputs": [],
   "source": []
  }
 ],
 "metadata": {
  "kernelspec": {
   "display_name": "Python 3",
   "language": "python",
   "name": "python3"
  },
  "language_info": {
   "codemirror_mode": {
    "name": "ipython",
    "version": 3
   },
   "file_extension": ".py",
   "mimetype": "text/x-python",
   "name": "python",
   "nbconvert_exporter": "python",
   "pygments_lexer": "ipython3",
   "version": "3.13.2"
  },
  "orig_nbformat": 4
 },
 "nbformat": 4,
 "nbformat_minor": 2
}
