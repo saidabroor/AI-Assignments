{
 "cells": [
  {
   "cell_type": "markdown",
   "metadata": {},
   "source": [
    "1. AI va ML nima va ularning qanday farqi bor?\n",
    "\n",
    "AI va ML - biror sohaga tegishli ma'lumotlardan xulosa olib o'sha sohada samarani ko'tarib beruvchi (muammo va topshiriqlarga yechim beruvchi) soha.\n",
    "\n",
    "AI va ML ning bir-biridan farqi qamrovida. ML AIning bir qismi, AI MLdan tashqari boshqa sohalarni ham o'z ichiga oaldi.\n",
    "\n",
    "2. Data qanday bo’lishi kerak va biz qanday turdagi datasertlardan foydalanamiz?\n",
    "\n",
    "Data - yetarli, toza, sohaga tegishli, to'liq bo'lishi kerak.\n",
    "Datasetlar: jadval, audio, video, text shaklda bo'lishi mumkin. Biz MLning SLning qismida structured dataset (table) dan foydalanamiz.\n",
    "\n",
    "3. Qanday qilib Mlni turlarga ajratamiz va uning qanday turlari bor?\n",
    "\n",
    "Ustida ishlanayotgan loyiha yoki muammo turi va ulardan kelayotgan ma'lumotga qarab ML ham turlicha bo'ladi. Labeled data --> SL. Unlabeled data - UL. Harakatlar orqali hosil bo'lgan data --> RL.\n",
    "\n"
   ]
  },
  {
   "cell_type": "markdown",
   "metadata": {},
   "source": [
    "4. Regression Ml nima? Uning Classificationdan farqi?\n",
    "\n",
    "Regression ML qiymati davomiy cheksiz bo'lgan ML. Uning Classification farqi ham qiymatining ko'pligida. Classificationda, model, qat'iy belgilangan chekli sinflarga ajratsa, regressionda cheksiz predict qilishi mumkin."
   ]
  },
  {
   "cell_type": "markdown",
   "metadata": {},
   "source": [
    "5. Classification qanday turlarga bo’linadi? Ularning bir biridan farqi?(Misollar orqali)\n",
    "\n",
    "Classification 2 turga bo'linadi. Binary va multiclass. Binaryda target 2 turli bo'ladi xolos, multiclassda esa 3 va undan ko'p target valuega ega bo'ladi. Masalan, o'quvchining so'ngi 5 yillik o'quv progesini ko'rib bu o'quvchi qizil diplom oladimi yoki y'qmi degan model binary classification modelga misol. Multiclassga esa, ertaga havo quyoshli, yomg'irli, qorli ekanligini aniqlab beradigan model misol bo'ladi oladi."
   ]
  },
  {
   "cell_type": "markdown",
   "metadata": {},
   "source": [
    "6. Ml model ketma ketligi?\n",
    "\n",
    "Topshiriq yoki muammo aniqlanishi --> Data yig'ish --> Data yuklash --> Data preprocessing --> Model selection --> Model training --> Model improvement --> Model testing --> Model report --> Model deployment"
   ]
  },
  {
   "cell_type": "markdown",
   "metadata": {},
   "source": [
    "7. Data Preprocessing nima? Nimalardan tashkil topgan?\n",
    "\n",
    "Data Preprocessing - datani traning uchun tayyorlash. U missing value larni to'ldirish, encoding va scaling turlardan tashkil topgan."
   ]
  },
  {
   "cell_type": "markdown",
   "metadata": {},
   "source": [
    "8. Tushurib qoldirilgan qiymatlarni nima uchun to’ldirishimiz kerak?\n",
    "\n",
    "Tushurib qoldirilgan qiymatlarni to'ldirishimizning sababi training uchun datani to'liq bo'lishi va aniq output olish. Hamda encoding va scaling funksiyalarini to'g'ri ishlashini ta'minlash. "
   ]
  },
  {
   "cell_type": "markdown",
   "metadata": {},
   "source": [
    "9. Tushurib qoldirigan qiymatlarni xal etishni qanday usullari mavjud?\n",
    "\n",
    "Buning 5 yo'li bor. Ular: Dropping, filling with mean, mode, median and fixing."
   ]
  },
  {
   "cell_type": "markdown",
   "metadata": {},
   "source": [
    "10. Classification qanday turlarga bo’linadi?Ularning bir biridan farqi?(Misollar orqali)\n",
    "\n",
    "Classification 2 turga bo'linadi. Binary va multiclass. Binaryda target 2 turli bo'ladi xolos, multiclassda esa 3 va undan ko'p target valuega ega bo'ladi. Masalan, o'quvchining so'ngi 5 yillik o'quv progesini ko'rib bu o'quvchi qizil diplom oladimi yoki y'qmi degan model binary classification modelga misol. Multiclassga esa, ertaga havo quyoshli, yomg'irli, qorli ekanligini aniqlab beradigan model misol bo'ladi oladi."
   ]
  },
  {
   "cell_type": "markdown",
   "metadata": {},
   "source": [
    "10.1 Qanday Kutubxonalar mavjud va ularning vazifalari?\n",
    "\n",
    "Ko'p, lekin biz ishlatganlar Pandas, Numpy, Seaborn, Matlpotlib va Scikit-learn. Ularning vazifalari pandas - datani yuklash va manipulatsiya qilish, numpy - matematik va statistik amal, tahlil bajarish, matplotlib - datani visual ko'rsatish, seaborn - dataning statistik tahlilini visual graflar yordamida ko'rsatish, sklearn - data preprocessing, model seletion, training,, testing uchun ishlatiladi."
   ]
  },
  {
   "cell_type": "markdown",
   "metadata": {},
   "source": [
    "11. Qaysi kod orqali matplotlibda chizmani ekranga chiqaradi?\n",
    "\n",
    "plt.show()"
   ]
  },
  {
   "cell_type": "markdown",
   "metadata": {},
   "source": [
    "12.1 Encoding nima va uni qanday turlari bor?\n",
    "\n",
    "Encoding categorical datani (object dtype) numerical datatypega aylantirishdagi logika. Uning one-hot, labeling, targeting va frequency turlari bor."
   ]
  },
  {
   "cell_type": "markdown",
   "metadata": {},
   "source": [
    "12. Cardinality nima? Kursimizda nima uchun cardinalityni ishlatamiz?\n",
    "\n",
    "Cardinality berilgan data columndagi unique classlar soni. Buni encoding qilish jarayonida, One-hot yoki Label encoding turidan birini tanlashimiz kerak bo'lganda ishlatamiz. Sababi unique classlar soni shartli ravishda 5 tadan ko'p bo'lsa one-hot encodingga qo'yish xato bo'ladi sababi one-hot encoding unique classlar soniga qarab yangi columnlar yaratadi."
   ]
  },
  {
   "cell_type": "markdown",
   "metadata": {},
   "source": [
    "13. f-string nima?Nima uchun ishlatamiz?\n",
    "\n",
    "f-string - formatted literal. Print qilish jarayonida stringli output ichida figurali qavs {} orqali qiymatni aniq ko'rish va osonroq tushinish uchun ishlatiladi.\n"
   ]
  },
  {
   "cell_type": "markdown",
   "metadata": {},
   "source": [
    "14. Condition nima? Uning Ml dagi vazifasi?\n",
    "\n",
    "Condition pythondagi syntax statement. U MLda logika orqali decision making, controlling, filtering qilishda ishlatiladi."
   ]
  },
  {
   "cell_type": "markdown",
   "metadata": {},
   "source": [
    "15. ‘Hello’ so’zini oxirdan ikkinchi o’rinda va uchunchi o’rinda turgan xarflarini bir xilligini ko’rishimiz uchun nima qilamiz?\n",
    "\n",
    "Indexing va equality operatordan foylanamiz.\n",
    "a = 'Hello'\n",
    "a[-2] == a[-3]"
   ]
  },
  {
   "cell_type": "markdown",
   "metadata": {},
   "source": []
  }
 ],
 "metadata": {
  "language_info": {
   "name": "python"
  }
 },
 "nbformat": 4,
 "nbformat_minor": 2
}
