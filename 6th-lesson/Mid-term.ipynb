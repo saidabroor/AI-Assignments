{
 "cells": [
  {
   "cell_type": "markdown",
   "metadata": {},
   "source": [
    "1. AI va ML nima va ularning qanday farqi bor?\n",
    "\n",
    "AI va ML - biror sohaga tegishli ma'lumotlardan xulosa olib o'sha sohada samarani ko'tarib beruvchi (muammo va topshiriqlarga yechim beruvchi) soha.\n",
    "\n",
    "AI va ML ning bir-biridan farqi qamrovida. ML AIning bir qismi, AI MLdan tashqari boshqa sohalarni ham o'z ichiga oaldi.\n",
    "\n",
    "2. Data qanday bo’lishi kerak va biz qanday turdagi datasertlardan foydalanamiz?\n",
    "\n",
    "Data - yetarli, toza, sohaga tegishli, to'liq bo'lishi kerak.\n",
    "Datasetlar: jadval, audio, video, text shaklda bo'lishi mumkin. Biz MLning SLning qismida structured dataset (table) dan foydalanamiz.\n",
    "\n",
    "3. Qanday qilib Mlni turlarga ajratamiz va uning qanday turlari bor?\n",
    "\n",
    "Ustida ishlanayotgan loyiha yoki muammo turi va ulardan kelayotgan ma'lumotga qarab ML ham turlicha bo'ladi. Labeled data --> SL. Unlabeled data - UL. Harakatlar orqali hosil bo'lgan data --> RL.\n",
    "\n"
   ]
  }
 ],
 "metadata": {
  "language_info": {
   "name": "python"
  }
 },
 "nbformat": 4,
 "nbformat_minor": 2
}
